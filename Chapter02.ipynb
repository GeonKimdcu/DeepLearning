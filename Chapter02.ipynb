{
  "nbformat": 4,
  "nbformat_minor": 0,
  "metadata": {
    "colab": {
      "name": "Chapter02.ipynb",
      "provenance": [],
      "collapsed_sections": [],
      "authorship_tag": "ABX9TyP/FwBpEAnQ7yLL4LFZimR4",
      "include_colab_link": true
    },
    "kernelspec": {
      "name": "python3",
      "display_name": "Python 3"
    },
    "language_info": {
      "name": "python"
    }
  },
  "cells": [
    {
      "cell_type": "markdown",
      "metadata": {
        "id": "view-in-github",
        "colab_type": "text"
      },
      "source": [
        "<a href=\"https://colab.research.google.com/github/GeonKimdcu/DeepLearning/blob/main/Chapter02.ipynb\" target=\"_parent\"><img src=\"https://colab.research.google.com/assets/colab-badge.svg\" alt=\"Open In Colab\"/></a>"
      ]
    },
    {
      "cell_type": "markdown",
      "source": [
        "# Chapter02 순방향 신경망\n",
        "\n",
        "\n",
        "---\n",
        "\n"
      ],
      "metadata": {
        "id": "qhT77gO_GsXg"
      }
    },
    {
      "cell_type": "markdown",
      "source": [
        "## 2.1 순방향 신경망의 구조와 설계 항목"
      ],
      "metadata": {
        "id": "yEybJascGwZm"
      }
    },
    {
      "cell_type": "markdown",
      "source": [
        "순방향 신경망은 데이터 구조에 대한 특별한 가정사항이 없기 때문에 데이터는 서로 독립되어 있다고 가정한다. <br>\n",
        "순방향 신경망 모델은 데이터가 한 방향으로 전달되는 <font color='#ff6f61'>**순방향**(feedforward)연결만을 갖는 구조</font>로 되어 있으며, 퍼셉트론의 연산과 같은 기본 뉴런 연산으로 실행된다."
      ],
      "metadata": {
        "id": "_q6eWdbPHJDb"
      }
    },
    {
      "cell_type": "markdown",
      "source": [
        "### 2.1.1 순방향 신경망의 구조"
      ],
      "metadata": {
        "id": "yQszW-8YIBUx"
      }
    },
    {
      "cell_type": "markdown",
      "source": [
        "순방향 신경망은 다음 그림과 같이 <font color='#ff6f61'>뉴런들이 모여 **계층**(layer)을 이루고 계층이 쌓여 전체 신경망을 이루는 구조</font>로 되어 있다.\n",
        "\n",
        "<img width=200 src=https://user-images.githubusercontent.com/48666867/146712553-a9ed373d-dca2-49f7-8f76-fd73037a60f0.png>\n",
        "\n",
        "Ref. wikipedia"
      ],
      "metadata": {
        "id": "BOfr7YnJIDqN"
      }
    },
    {
      "cell_type": "markdown",
      "source": [
        "#### 순방향 신경망의 계층 구조\n",
        "\n",
        "순방향 신경망의 계층은 **입력 계층**, **은닉 계층**, **출력 계층**으로 구분된다. <br>\n",
        "\n",
        "*   입력 계층: 외부에서 데이터를 전달받음\n",
        "*   은닉 계층: 데이터의 특징을 추출\n",
        "*   출력 계층: 추출된 특징을 기반으로 추론한 결과를 외부에 전달"
      ],
      "metadata": {
        "id": "rk7HjkL0IpLA"
      }
    },
    {
      "cell_type": "markdown",
      "source": [
        "#### 완전 연결 계층과 뉴런의 역할\n",
        "\n",
        "순방향 신경망은 모든 계층이 <font color='#ff6f61'>**완전 연결 계층**(fully connected layer)</font>으로 구성된다. <br>\n",
        "완전 연결 계층은 계층에 속한 <font color='#ff6f61'>각 뉴런이 이전 계층의 모든 뉴런과 모두 연결된 구조</font>를 말한다. <br>\n",
        "완전 연결 계층 구조에서 각 뉴런은 이전 계층에서 출력한 데이터를 동일하게 전달받기 때문에 <font color='#ff6f61'>**같은 입력 데이터에서 뉴런마다 서로 다른 특징을 추출한다.</font>** <br>\n",
        "따라서 데이터에 특징이 많을수록 그에 비례해서 뉴런 수가 충분히 늘어나야 데이터에 내재한 특징을 모두 추출할 수 있다.\n",
        "\n",
        "각 뉴런에서 추출된 특징은 계층 단위로 출력되어 다음 계층에 한꺼번에 전달된다. 신경망에 입력된 데이터는 은닉 계층을 거치면서 <font color='#ff6f61'>추론에 필요한 특징으로 변환</font>되며, 출력 계층은 <font color='#ff6f61'>가장 추상화된 특징을 이용하여 예측</font>한다."
      ],
      "metadata": {
        "id": "05r0kUWsJFke"
      }
    },
    {
      "cell_type": "markdown",
      "source": [
        "#### 특징을 추출하는 뉴런 구조\n",
        "\n",
        "뉴런은 <font color='#ff6f61'>**데이터에 내재한 특징을 추출하기 위해 가중합산과 활성 함수를 순차적으로 실행</font>한다.**<br>\n",
        "\n",
        "가중 합산은 추출할 특징에 <font color='#ff6f61'>**중요한 영향을 미치는 데이터를 선택하는 과정**</font>이고, 활성 함수는 <font color='#ff6f61'>**원하는 형태로 특징을 추출하기 위해 데이터를 비선형(nonlinear)적으로 변환**</font>하는 과정이다.\n",
        "\n",
        "<img width=400 src=https://user-images.githubusercontent.com/48666867/146713871-d2d1fc82-03b4-497b-86bb-aaf2fabe31cf.jpeg>"
      ],
      "metadata": {
        "id": "ZdG1u-nNKd7q"
      }
    },
    {
      "cell_type": "markdown",
      "source": [
        "#### 중요한 데이터를 선택하는 가중 합산 연산\n",
        "\n",
        "뉴런에 입력 데이터 $x^T=(x_1,x_2,...,x_n)$가 들어오면 가중치 $w^T=(w_1,w_2,...,w_n)$와 곱해서 가중 합산을 한다.\n",
        "\n",
        "$z=w_1x_1+w_2x_2+...+w_nx_n+b = W^TX+b$\n",
        "\n",
        "가중치는 특징을 추출할 때 <font color='#ff6f61'>**영향이 큰 데이터를 선택**</font>하는 역할을 한다. 특징 추출에 영향이 큰 데이터는 큰 가중치를 갖고 영향이 작은 데이터는 작은 가중치를 갖는다.\n",
        "\n",
        "가중 합산 식에 편향 b를 더하는 이유는 **특징을 공간상 임의의 위치에 표현**하기 위해서이다. 편향이 없으면 특징의 위치는 원점을 지나는 연속 함수로 결정되므로, 공간의 어느 위치에든지 존재할 수 있게 하려면 편향으로 원점으로부터의 오프셋을 지정해 줘야 한다."
      ],
      "metadata": {
        "id": "gqtmL_wYMwkS"
      }
    },
    {
      "cell_type": "markdown",
      "source": [
        "#### 비선형 변환을 통해 특징을 추출하는 활성 함수\n",
        "\n",
        "뉴런에 사용하는 활성 함수의 종류는 다양하다. (자세한 활성 함수의 종류는 뒤 챕터에서 살펴보자.)\n",
        "\n",
        "뉴런의 활성 함수는 데이터를 비선형 변환하여 원하는 형태의 특징을 추출할 수 있게 해준다. <br>\n",
        "신경망의 계층이 쌓이면서 뉴런의 활성 함수는 여러 단계로 합성되고 신경망이 표현하고자 하는 매우 복잡한 연속 함수나 결정 경계를 이루는 특징을 표현한다. <br>\n",
        "\n",
        "따라서 뉴런의 활성 함수는 신경망의 **기저 함수**(basis function)라고 할 수 있다."
      ],
      "metadata": {
        "id": "2uXtNwKYOGGR"
      }
    },
    {
      "cell_type": "markdown",
      "source": [
        "> 신경망의 계층 표기\n",
        "\n",
        "신경망의 계층 수를 표기할 때는 보통 입력 계층을 제외하고 표기한다. 예를 들어 [2.1.1의 그림]을 보면 신경망에 은닉 계층이 1개이고 출력 계층이 1개이면 '2계층 신경망'으로 표기한다.\n",
        "\n",
        "입력 계층은 데이터를 전달하는 역할만 하기 때문에 가중치나 편향과 같은 모델 파라미터가 없다. 따라서 다른 계층과 달리 학습이 필요 없으며 계층으로서 의미가 약하다."
      ],
      "metadata": {
        "id": "EYyYFUwiOr5B"
      }
    },
    {
      "cell_type": "markdown",
      "source": [
        "> 깊은 신경망과 얕은 신경망\n",
        "\n",
        "신경망 모델에서 계층이 많아질수록 '신경망이 깊어진다'고 표현한다. <br>\n",
        "보통 계층이 2~3개 정도이면 **얕은 신경망**(shallow neural network)이라고 하고 그 이상이 되면 **깊은 신경망**(DNN:deep neural network)이라고 한다."
      ],
      "metadata": {
        "id": "5wBkrgRKPCNZ"
      }
    },
    {
      "cell_type": "markdown",
      "source": [
        "### 2.1.2 범용 함수 근사기로서의 신경망\n",
        "\n",
        "뉴런은 가중합산과 활성 함수를 순차 실행하는 합성 함수이므로, 뉴런의 그룹으로 정의되는 계층도 합성 함수이다. 또한 계층을 순차적으로 쌓은 형태인 신경망 역시 합성 함수라고 할 수 있다.\n",
        "\n",
        "이때 뉴런은 실함수로, 계층과 신경망은 벡터 함수로 정의된다."
      ],
      "metadata": {
        "id": "Q7k5r7KrPVi5"
      }
    },
    {
      "cell_type": "markdown",
      "source": [
        "#### 실함수와 벡터 함수\n",
        "\n",
        "**실함수**(real-valued function)는 $f:R^n → R$ 형태의 함수이다. 입력은 크기가 $n$인 벡터 $x^T=(x_1,x_2,...,x_n)$이고 출력은 실수로 다음과 같은 형태로 정의된다.\n",
        "\n",
        "$$f(x)=f(x_1,x_2, ...,x_n)$$ <br>\n",
        "$$x^T=(x_1,x_2,...,x_n)$$\n",
        "\n",
        "<br>\n",
        "\n",
        "**벡터 함수**(vector function)는 $f:R^n → R^m$ 형태의 함수이다. 입력은 크기가 $n$인 벡터 $x^T=(x_1,x_2,...,x_n)$이고 출력은 크기가 $m$인 벡터로 다음과 같은 형태로 정의된다.\n",
        "\n",
        "$$f(x)=(f_1(x),f_2(x),...,f_m(x))$$ <br>\n",
        "$$x^T=(x_1,x_2,...,x_n)$$"
      ],
      "metadata": {
        "id": "NVy29OogQTks"
      }
    },
    {
      "cell_type": "markdown",
      "source": [
        "#### 실함수인 뉴런\n",
        "\n",
        "<font color='#ff6f61'>뉴런은 실함수</font>로 입력이 $x^T=(x_1,x_2,...,x_n)$ 이고 가중치가 $w^T=(w_1,w_2,...,w_n)$일 때 <font color='#ff6f61'>$w^Tx+b$로 가중 합산할 결과를 비선형 활성 함수로 매핑해서 실수를 출력하는 합성 함수</font>이다.\n",
        "\n",
        "$$f(x)=activation(w^Tx+b)$$ <br>\n",
        "$$x^T=(x_1,x_2,...,x_n)$$ <br>\n",
        "$$w^T=(w_1,w_2,...,w_n)$$"
      ],
      "metadata": {
        "id": "hgHz_trCSaLW"
      }
    },
    {
      "cell_type": "markdown",
      "source": [
        "#### 벡터 함수인 계층\n",
        "\n",
        "계층은 벡터 함수로 $W^TX+b$로 가중 합산한 결과를 활성 함수로 매핑해서 벡터를 출력하는 합성 함수이다.\n",
        "\n",
        "이전 계층의 뉴런이 $n$개이고 현재 계층의 뉴런이 $m$개라면, 입력은 크기가 $n$인 벡터 $x^T=(x_1,x_2,...,x_n)$ 이고<br>\n",
        " 출력은 크기가 $m$인 $f(x)=(f_1(x),f_2(x),...,f_m(x))$ 벡터가 된다.\n",
        "\n",
        "이때 계층의 가중치 크기는 $n \\times m$ 인 행렬 $W$ 로 정의되며 가중치 행렬의 각 열은 각 뉴런의 가중치를 나타낸다.\n",
        "\n",
        "$$W=[w_1 w_2 ... w_m]= \\begin{bmatrix}w_{11}&w_{21}&...&w_{m1}\\\\w_{12}&w_{22}&...&w_{m2}\\\\...&...&...&...\\\\w_{1n}&w_{2n}&...&w_{mn} \\end{bmatrix}$$\n",
        "<br>\n",
        "\n",
        "$$b^T=[b_1 b_2 ... b_m]$$\n",
        "\n",
        "<font color='#ff6f61'>계층의 가중 합산</font>은 가중치 행렬과의 곱 형태로 <font color='#ff6f61'>$W^Tx+b$</font>와 같이 정의되며 크기가 $m$ 인 벡터가 계산된다. \n",
        "<font color='#ff6f61'>가중 합산 결과에 활성 함수를 실행하면 벡터의 요소별로 활성 함수가 실행되어 크기가 $m$인 벡터가 출력</font>된다.\n",
        "\n",
        "$$f(x)=f_1(x),f_2(x),...,f_m(x))=activation(W^Tx+b)$$"
      ],
      "metadata": {
        "id": "dFtG-tamS2Ir"
      }
    },
    {
      "cell_type": "markdown",
      "source": [
        "#### 벡터 함수들의 합성 함수인 신경망\n",
        "\n",
        "<font color='#ff6f61'>신경망은 입력과 출력이 벡터인 벡터 함수</font>이며 동시에 <font color='#ff6f61'>각 계층이 정의하는 벡터 함수를 순차적으로 실행하는 합성 함수</font>이다.\n",
        "\n",
        "만일 신경망의 계층 수가 $L$ 이면 다음과 같은 합성 함수로 정의된다.\n",
        "\n",
        "$$y=f^L(...f^2(f^1(x)))$$\n",
        "\n",
        "예를 들어  4계층 신경망에서 각 계층이 함수 $f^1, f^2, f^3, f^4$ 로 정의된다면, 신경망은 함수 $f^1, f^2, f^3, f^4$ 가 순차적으로 실행되는 $y=f^4(f^3(f^2(f^1(x))))$ 형태의 합성 함수가 된다.\n",
        "\n",
        "<font color='#ff6f61'>신경망은 입력 $x$를 출력 $y$로 매핑하는 $y=f(x; \\theta)$ 형태의 파라미터 함수</font>이다. <br>\n",
        "여기서 $\\theta$ 는 뉴런의 가중치와 편향을 포함한 함수의 파라미터이다.\n",
        "\n",
        "신경망은 학습할 때 미분을 사용하기 때문에 신경망이 표현하는 함수는 **미분 가능한 함수**(differentible function)이어야 한다."
      ],
      "metadata": {
        "id": "RR7KK8dxWdlZ"
      }
    },
    {
      "cell_type": "markdown",
      "source": [
        "#### 범용 근사 정리\n",
        "\n",
        "신경망은 <font color='#ff6f61'>$n$ 차원 공간의 임의의 연속 함수를 근사</font>하는 능력이 있다.\n",
        "\n",
        "임의의 연속 함수를 근사할 수 있다는 것은 클래스를 분류할 때 클래스 영역 간에 경계가 매우 복잡하더라도 연속된 곡선으로 표현할 수 있으며, 입력과 출력의 관계가 함수로 표현되는 회귀 문제에서 매우 복잡한 예측 곡선을 만들 수 있다는 의미이다.\n",
        "\n",
        "<img width=350 src=https://user-images.githubusercontent.com/48666867/146718983-93b12754-e553-4c52-b93e-9b9595bf84b3.png>\n",
        "\n",
        "<img width=300 src=https://user-images.githubusercontent.com/48666867/146719208-9522eb49-8301-47cb-bedd-222ea2c0bd3e.png>\n",
        "\n",
        "Ref. stanford.edu\n",
        "\n",
        "Ref. https://stackoverflow.com/questions/55856792/non-linear-regression-troubleshooting\n",
        "\n",
        "신경망이 $n$ 차원 공간의 임의의 연속 함수를 근사할 수 있는 <font color='#ff6f61'>**범용 근사기**(universal approximator)</font> 라는 것은 **범용 근사 정리**(universal approximation theorem)로 증명되었다. <br>\n",
        "범용 근사 정리는 '2계층의 순방향 신경망에서 은닉 뉴런을 충분히 사용하고 검증된 활성 함수를 사용하면, $n$ 차원 공간의 임의의 연속 함수를 원하는 정도의 정확도로 근사할 수 있다'는 내용이다.\n",
        "\n",
        "범용 근사 정리에 따르면 <font color='#ff6f61'>아주 복잡한 함수를 정확히 근사</font>하려면 <font color='#ff6f61'>은닉 뉴런을 충분히 사용</font>해야 한다. 그런데 **뉴런 수가 많아지면 모델이 커지기 때문에** <font color='#ff6f61'>과적합</font>이 쉽게 발생하고 모델의 성능이 낮아질 수 있다. <br>\n",
        "\n",
        "이런 문제를 해결하기 위해 **범용 근사 정리가 <font color='#ff6f61'>깊은 신경망</font>으로 확장되었다.** 깊은 신경망을 사용하면 같은 성능의 모델을 적은 수의 뉴런을 사용해서 만들 수 있기 때문에 원래의 범용 근사 정리가 갖는 문제를 해결할 수 있다.\n",
        "\n",
        "확장된 정리는 은닉 계층의 뉴런 수를 제한하더라도 신경망의 깊이에 제한을 두지 않는다면 범용 근사기가 된다는 내용이다."
      ],
      "metadata": {
        "id": "q-3ewyaXaUUO"
      }
    },
    {
      "cell_type": "markdown",
      "source": [
        "### 2.1.3 순방향 신경망의 설계 항목\n",
        "\n",
        "기본적으로 순방향 신경망 모델을 설계하기 위해선 <font color='#ff6f61'>모델의 입력과 출력 형태, 활성 함수의 종류, 네트워크 크기</font> 등을 고려해야 한다.\n",
        "\n",
        "일반적으로 문제가 정의되고 그에 따라 데이터와 신경망 모델의 종류가 선정되면 입력과 출력의 형태는 어느 정도 결정된다. \n",
        "\n",
        "하지만 모델의 크기와 활성 함수의 종류는 **모델이 최적의 성능을 갖도록 탐색해야 할 항목들**이다. 그래서 모델 검증 단계에서 하이퍼파라미터 탐색을 하거나 자동 모델 탐색을 통해 최적의 모델을 찾아야만 한다.\n",
        "\n"
      ],
      "metadata": {
        "id": "6NlS-ocedXAY"
      }
    },
    {
      "cell_type": "markdown",
      "source": [
        "## 2.2 분류와 회귀 문제"
      ],
      "metadata": {
        "id": "vKfqjmqNfEKn"
      }
    },
    {
      "cell_type": "markdown",
      "source": [
        "### 2.2.1 분류 문제"
      ],
      "metadata": {
        "id": "2JbkqsJDfLGD"
      }
    },
    {
      "cell_type": "markdown",
      "source": [
        "**분류**(classification)문제는 데이터의 <font color='#ff6f61'>**Class**</font> 또는 <font color='#ff6f61'>**Category**</font>를 예측하는 문제이다.\n",
        "\n",
        "<img width=500 src=https://user-images.githubusercontent.com/48666867/146721189-6eac84be-f9f2-464d-a161-8412bfb3a10a.jpeg>\n",
        "\n",
        "분류 문제는 두 개 클래스로 분류하는지 여러 클래스로 분류하는지에 따라 **이진 분류**(binary classficiation)와 **다중 분류**(multiclass classification)문제로 다시 나뉜다.\n",
        "\n",
        "*   이진 분류 문제는 두 개 클래스로 분류하는 문제\n",
        "  - 스팸 메일 분류, 암 진단(양성 .vs 음성), 영화 평론(긍정 .vs 부정)\n",
        "*   다중 분류 문제는 여러 클래스로 분류하는 문제\n",
        "  - 강아지 품종 분류, 자율 주행 할 때 물체 구별(사람 .vs 나무 .vs 건물 .vs 차), 질병 진단\n",
        "\n",
        "분류 모델을 대상을 판별하는 <font color='#ff6f61'>**판별 함수**(discriminative function)</font>로 정의하면 모델은 <font color='#ff6f61'>입력 데이터가 속한 클래스를 예측</font>한다. <br>\n",
        "e.g. Cat image를 input 했을 때 '고양이' 클래스 2를 출력\n",
        "\n",
        "분류 모델을 확률을 예측하는 <font color='#ff6f61'>**확률 모델**(stochastic model)</font>로 정의하면 <font color='#ff6f61'>입력 데이터가 각 클래스에 속할 확률을 예측</font>한다. <br>\n",
        "e.g. Cat image를 input 했을 때 개일 확률, 고양이일 확률, 토끼일 확률을 동시에 모두 출력\n",
        "\n",
        "\n",
        "\n"
      ],
      "metadata": {
        "id": "WJFtIfkcfNCD"
      }
    },
    {
      "cell_type": "markdown",
      "source": [
        "### 2.2.2 회귀 문제\n",
        "\n",
        "**회귀 문제**는 <font color='#ff6f61'>여러 독립 변수와 종속 변수의 관계를 연속함수 형태로 분석하는 문제</font>이다. <br>\n",
        "  - '방의 개수, 면적, 집 종류, 역과의 거리' 데이터를 이용해서 집값을 예측하는 문제\n",
        "\n",
        "<img width=500 src=https://user-images.githubusercontent.com/48666867/146722691-7f8a0535-f583-42a2-8456-ef4de55fa635.jpeg>\n",
        "\n",
        "예측 값이 숫자형 데이터(numeric data)이면 회귀 문제이다. <br>\n",
        "예를 들어 주가 및 경제 트렌드를 예측하는 문제, 상품의 수요와 공급량을 예측하는 문제, 도로의 교통량이나 주행 시간을 예측하는 문제\n",
        "\n",
        "회귀 모델은 <font color='#ff6f61'>입력 데이터에 대한 함숫값</font>을 예측한다. <br>\n",
        "e.g. 집값에 관련된 데이터로 '방이 3개, 32평, 아파트, 역과의 거리가 20분 거리'를 입력하면 모델은 이런 조건을 가진 집들의 집값을 함숫값으로 예측한다.\n",
        "\n",
        "회귀 모델을 <font color='#ff6f61'>확률 모델</font>로 정의하면 관측된 집값의 <font color='#ff6f61'>확률분포</font>를 예측한다. <br>\n",
        "e.g. '방이 3개, 32평, 아파트, 역과의 거리가 20분 거리' 조건을 가진 집들의 집값을 나타내는 관측값의 확률분포(ex. 가우시안 분포)를 예측한다.\n",
        "\n"
      ],
      "metadata": {
        "id": "4C1IE3dqifFQ"
      }
    },
    {
      "cell_type": "markdown",
      "source": [
        "## 2.3 이진 분류 모델"
      ],
      "metadata": {
        "id": "WxD2Wc34lCIs"
      }
    },
    {
      "cell_type": "markdown",
      "source": [
        "이진 분류 문제는 동전 던지기를 할 때 앞면과 뒷면이 나올 확률을 예측하는 문제와 같다. <br>\n",
        "동전의 앞면과 뒷면이 나올 확률 분포는 **베르누이 분포**(Bernoulli distribution)로 정의되므로, <font color='#ff6f61'>**이진 분류 모델은 베르누이 분포를 예측하는 모델**</font>로 정의할 수 있다."
      ],
      "metadata": {
        "id": "KUCuOVgZlEN_"
      }
    },
    {
      "cell_type": "markdown",
      "source": [
        "### 2.3.1 베르누이 분포"
      ],
      "metadata": {
        "id": "NL0QEPcTlXfn"
      }
    },
    {
      "cell_type": "markdown",
      "source": [
        "<font color='#ff6f61'> **베르누이 분포는 두 종류의 사건이 발생할 확률**</font>을 나타내며 다음과 같은 식으로 정의된다.\n",
        "\n",
        "$$p(x; \\mu)=\\mu^x(1-\\mu)^{1-x},x\\in\\{0,1\\}$$\n",
        "\n",
        "$x$는 확률 변수로 $x=1$ 이면 사건1을 나타내고 $x=0$이면 사건2를 나타낸다. <br>\n",
        "$\\mu$ 는 사건1이 발생할 확률이고 $1-\\mu$ 는 사건2가 발생할 확률이다.\n",
        "<br><br>\n",
        "\n",
        "e.g. 동전 던지기를 예로 들면 $x=1$이 동전의 앞면이 나오는 사건이고 $x=0$이 동전의 뒷면이 나오는 사건일 때, $\\mu$는 동전의 앞면이 나올 확률을, $1-\\mu$는 동전의 뒷면이 나올 확률을 나타낸다. <br>\n",
        "$\\mu$가 $1\\over2$이면 동전 앞면이 나올 확률과 뒷면이 나올 확률은 다음과 같이 표기할 수 있다.\n",
        "\n",
        "$$p(x=1;\\mu)=\\mu=\\frac{1}{2}\\\\p(x=0;\\mu)=1-\\mu=\\frac{1}{2}$$\n",
        "\n"
      ],
      "metadata": {
        "id": "FtXGiLj9lpwI"
      }
    },
    {
      "cell_type": "markdown",
      "source": [
        "### 2.3.2 확률 모델 정의"
      ],
      "metadata": {
        "id": "3W_VThckmt9B"
      }
    },
    {
      "cell_type": "markdown",
      "source": [
        "이진 분류 문제를 확률 모델로 정의해보자. <br>\n",
        "\n",
        "관측 데이터는 $D=\\{(x_i,t_i): i=1,...,N\\}$로 $N$개의 $(x_i, t_i)$ 샘플로 구성되며, 입력 데이터 $x_i$는 같은 분포에서 독립적으로 샘플링되어 **i.i.d**(independent and identically distributed)를 만족한다고 하자.\n",
        "\n",
        "타깃 $t_i \\in\\{0,1\\}$ 는 두 개의 클래스 중 하나를 나타내며 $t_i=1$이면 클래스 1이고 $t_i=0$이면 클래스 2이다.\n",
        "\n",
        "이진 분류 모델은 <font color='#ff6f61'>**타깃 $t_i$의 확률분포인 베르누이 분포의 파라미터 $\\mu$를 예측한다.**</font>\n",
        "\n",
        "모델은 $x_i$를 입력했을 때 베르누이 분포의 파라미터 $\\mu$에 해당하는 $\\mu(x_i; \\theta)$를 출력하며, 그 결과 아래와 같은 베르누이 분포가 예측된다.\n",
        "<br><br>\n",
        "$$p(t_i|x_i; \\theta)=Bern(t_i;\\mu(x_i; \\theta)) \\\\= \\mu(x_i;\\theta)^{t_i}\\;(1-\\mu(x_i;\\theta))^{1-t_i}$$"
      ],
      "metadata": {
        "id": "GPzGT9dWmyU8"
      }
    },
    {
      "cell_type": "markdown",
      "source": [
        "### 2.3.3 출력 계층의 활성 함수"
      ],
      "metadata": {
        "id": "arkWgA8WqkyE"
      }
    },
    {
      "cell_type": "markdown",
      "source": [
        "> 폐의 엑스레이 사진으로 COVID19의 감염 여부를 판별하는 이진 분류 모델을 만든다고 가정해보자.\n",
        "모델은 폐의 X-ray 사진을 입력받아서 COVID19에 감염되었을 확률 $\\mu$ 를 예측한다.\n",
        "\n",
        "이때 신경망 모델은 COVID19에 감염되었을 수치를 **점수(score)** 또는 **로짓(logit)**으로 예측하고 이를 활성 함수를 통해 베르누이 확률분포의 파라미터 $\\mu$ 로 변환한다. <br>\n",
        "이때 사용하는 활성 함수가 <font color='#ff6f61'>**시그모이드**(sigmoid)함수</font>이다.\n",
        "\n",
        "<img width=550 src=https://user-images.githubusercontent.com/48666867/146726726-2ba3b57f-7584-4ce0-88d7-e86335880621.jpg>\n",
        "\n",
        "Ref. Deep Learning Textbook\n",
        "\n",
        "이진 분류 모델의 결과가 확률 $\\mu$ 로 출력되기 때문에 입력 데이터를 어떤 클래스로 분류할지는 결정 경계를 정하기 나름이다. <br>\n",
        "e.g. 결정 경계를 0.5로 정했다면 출력값 $\\mu$가 0.5 이상인 경우 클래스1로 판단하고 0.5미만이면 클래스2로 판단할 수 있다.\n",
        "\n",
        "\n",
        "---\n",
        "✨출력 계층에서 시그모이드를 사용할 때는 손실 함수를 크로스 엔트로피로 선택해야 학습이 안정화된다.\n"
      ],
      "metadata": {
        "id": "bRL5k6M0qorB"
      }
    },
    {
      "cell_type": "markdown",
      "source": [
        "#### 시그모이드 함수\n",
        "\n",
        "시그모이드 함수는 값을 <font color='#ff6f61'>[0,1] 범위</font>로 만들어 주기 때문에 **값을 고정 범위로 변환하는 스쿼싱**(squashing)함수로 사용된다. 따라서 신경망의 출력 계층에서 <font color='#ff6f61'>실숫값을 확률로 변환</font>할 때 사용한다.\n",
        "\n",
        "$$\\sigma(x)=\\frac{1} {1+e^{-x}}$$\n",
        "\n",
        "<img src=\"https://i.imgur.com/W884y3K.png\" width=\"400\">"
      ],
      "metadata": {
        "id": "x_t131xlscIg"
      }
    },
    {
      "cell_type": "markdown",
      "source": [
        "### 2.3.4 영화 리뷰 분류: 이진 분류 예제\n",
        "\n",
        "인터넷 영화 데이터베이스로부터 가져온 리뷰 5만 개로 이루어진 IMDB 데이터셋을 사용해보자. <br>\n",
        "이 데이터셋은 훈련 데이터 2만 5,000개와 테스트 데이터 2만 5,000개로 나뉘어 있고 각각 50%는 부정, 50%는 긍정 리뷰로 구성되어 있다.\n",
        "\n",
        "이 데이터는 전처리되어 있어 각 리뷰(word sequence)가 숫자 시퀀스로 변환되어 있다. 여기서 각 숫자는 사전에 있는 고유한 단어를 나타낸다."
      ],
      "metadata": {
        "id": "pCyE0quuCdOd"
      }
    },
    {
      "cell_type": "code",
      "source": [
        "# Code 2-1 IMDB Dataset Load\n",
        "from keras.datasets import imdb\n",
        "\n",
        "(train_data, train_labels), (test_data, test_labels) = imdb.load_data(num_words=10000)"
      ],
      "metadata": {
        "id": "KXWfhaoRDAUA"
      },
      "execution_count": 19,
      "outputs": []
    },
    {
      "cell_type": "markdown",
      "source": [
        "num_words=10000 매개변수는 훈련 데이터에서 가장 자주 나타나는 단어 1만 개만 사용하겠다는 의미이다.\n",
        "\n",
        "변수 train_data와 test_data는 리뷰의 목록이다. 각 리뷰는 단어 인덱스의 리스트이다.(단어 시퀀스가 인코딩된 것)\n",
        "\n",
        "train_labels와 test_labels는 **부정**을 나타내는 0과 **긍정**을 나타내는 1의 리스트이다."
      ],
      "metadata": {
        "id": "SowfzFwwDYDD"
      }
    },
    {
      "cell_type": "code",
      "source": [
        "print(train_data[0])\n",
        "print(train_labels[0])"
      ],
      "metadata": {
        "colab": {
          "base_uri": "https://localhost:8080/"
        },
        "id": "wqtY8C4DDwie",
        "outputId": "0d5914c4-ae1a-47c9-cc48-07d7e4ddd455"
      },
      "execution_count": 20,
      "outputs": [
        {
          "output_type": "stream",
          "name": "stdout",
          "text": [
            "[1, 14, 22, 16, 43, 530, 973, 1622, 1385, 65, 458, 4468, 66, 3941, 4, 173, 36, 256, 5, 25, 100, 43, 838, 112, 50, 670, 2, 9, 35, 480, 284, 5, 150, 4, 172, 112, 167, 2, 336, 385, 39, 4, 172, 4536, 1111, 17, 546, 38, 13, 447, 4, 192, 50, 16, 6, 147, 2025, 19, 14, 22, 4, 1920, 4613, 469, 4, 22, 71, 87, 12, 16, 43, 530, 38, 76, 15, 13, 1247, 4, 22, 17, 515, 17, 12, 16, 626, 18, 2, 5, 62, 386, 12, 8, 316, 8, 106, 5, 4, 2223, 5244, 16, 480, 66, 3785, 33, 4, 130, 12, 16, 38, 619, 5, 25, 124, 51, 36, 135, 48, 25, 1415, 33, 6, 22, 12, 215, 28, 77, 52, 5, 14, 407, 16, 82, 2, 8, 4, 107, 117, 5952, 15, 256, 4, 2, 7, 3766, 5, 723, 36, 71, 43, 530, 476, 26, 400, 317, 46, 7, 4, 2, 1029, 13, 104, 88, 4, 381, 15, 297, 98, 32, 2071, 56, 26, 141, 6, 194, 7486, 18, 4, 226, 22, 21, 134, 476, 26, 480, 5, 144, 30, 5535, 18, 51, 36, 28, 224, 92, 25, 104, 4, 226, 65, 16, 38, 1334, 88, 12, 16, 283, 5, 16, 4472, 113, 103, 32, 15, 16, 5345, 19, 178, 32]\n",
            "1\n"
          ]
        }
      ]
    },
    {
      "cell_type": "markdown",
      "source": [
        "가장 자주 등장하는 단어 1만 개로 제한햇기 때문에 단어 인덱스는 9,999개를 넘지 않는다."
      ],
      "metadata": {
        "id": "zyCPHVjaD-gQ"
      }
    },
    {
      "cell_type": "code",
      "source": [
        "max([max(sequence) for sequence in train_data])"
      ],
      "metadata": {
        "colab": {
          "base_uri": "https://localhost:8080/"
        },
        "id": "yzMg9C3BD4zp",
        "outputId": "b8b999ea-c21c-499a-c2fc-69394e4059ad"
      },
      "execution_count": 21,
      "outputs": [
        {
          "output_type": "execute_result",
          "data": {
            "text/plain": [
              "9999"
            ]
          },
          "metadata": {},
          "execution_count": 21
        }
      ]
    },
    {
      "cell_type": "markdown",
      "source": [
        "신경망에 숫자 리스트를 주입해선 안된다. 따라서 리스트를 텐서로 바꿔준다."
      ],
      "metadata": {
        "id": "yEoCrJ-pENof"
      }
    },
    {
      "cell_type": "code",
      "source": [
        "# Code 2-2 Incoding from integer sequence to binary matrix\n",
        "import numpy as np\n",
        "\n",
        "def vectorize_sequences(sequences, dimension=10000):\n",
        "  results = np.zeros((len(sequences), dimension)) # 크기가 (len(sequences), dimension)이고 모든 원소가 0인 행렬을 만든다.\n",
        "  for i, sequence in enumerate(sequences):\n",
        "    results[i, sequence] = 1. # results[i]에서 특정 인덱스의 위치를 1로 만든다.\n",
        "  return results\n",
        "\n",
        "x_train = vectorize_sequences(train_data) # 훈련 데이터를 벡터로 변환\n",
        "x_test = vectorize_sequences(test_data) # 테스트 데이터를 벡터로 변환\n",
        "\n",
        "# 레이블 데이터를 벡터로 변환\n",
        "y_train = np.asarray(train_labels).astype('float32')\n",
        "y_test = np.asarray(test_labels).astype('float32')"
      ],
      "metadata": {
        "id": "E6ZkwOiGEnKk"
      },
      "execution_count": 22,
      "outputs": []
    },
    {
      "cell_type": "markdown",
      "source": [
        "입력 데이터가 벡터고 레이블은 스칼라(1 or 0)이다. 여기선 relu 활성화 함수를 사용한 완전 연결 층을 쌓는다.\n",
        "\n",
        "**Dense**층에 전달한 매개변수(16)은 **은닉 유닛**(hidden unit)의 개수이다."
      ],
      "metadata": {
        "id": "hZxe_CPIGL2b"
      }
    },
    {
      "cell_type": "code",
      "source": [
        "# Code 2-3 Define model\n",
        "from keras import models\n",
        "from keras import layers\n",
        "\n",
        "model = models.Sequential()\n",
        "model.add(layers.Dense(16, activation='relu', input_shape=(10000,)))\n",
        "model.add(layers.Dense(16, activation='relu'))\n",
        "model.add(layers.Dense(1, activation='sigmoid'))"
      ],
      "metadata": {
        "id": "JGuKwvXDGhhM"
      },
      "execution_count": 7,
      "outputs": []
    },
    {
      "cell_type": "markdown",
      "source": [
        "마지막으로 손실 함수와 옵티마이저를 선택해야 한다. <br>\n",
        "이진 분류 문제고 신경망의 출력이 확률이기 때문에 binary_crossentropy 손실이 적합하다. (그 밖에 mean_squared_error도 사용가능)\n",
        "\n",
        "**`.complie`** 에서는 신경망에서 사용할 옵티마이저(**`optimizer`**), 손실 함수(**`loss`**), 지표(**`metrics`**)를 설정한다.\n",
        "> ❗️ ***'옵티마이저'와 '손실 함수'는 다음 챕터에서 다시 나올 예정이니 오늘은 '이런 용어가 있다!'라는 것만 기억하고 넘어가자.***"
      ],
      "metadata": {
        "id": "o7FTenL-G2GZ"
      }
    },
    {
      "cell_type": "code",
      "source": [
        "# Code 2-4 Compile model\n",
        "model.compile(optimizer='rmsprop', # adam, SGD\n",
        "              loss='binary_crossentropy',\n",
        "              metrics=['accuracy'])"
      ],
      "metadata": {
        "id": "QsTIU9BxHGMW"
      },
      "execution_count": 8,
      "outputs": []
    },
    {
      "cell_type": "markdown",
      "source": [
        "훈련하는 동안 처음 본 데이터에 대한 모델의 정확도를 측정하기 위해서는 원본 훈련 데이터에서 10,000의 샘플을 떼어 검증 세트를 만들어야 한다."
      ],
      "metadata": {
        "id": "MxPTE90aHQni"
      }
    },
    {
      "cell_type": "code",
      "source": [
        "# Code 2-5 Prepare validation data set\n",
        "x_val = x_train[:10000]\n",
        "partial_x_train = x_train[10000:]\n",
        "y_val = y_train[:10000]\n",
        "partial_y_train = y_train[10000:]"
      ],
      "metadata": {
        "id": "tQp57J-PHgzO"
      },
      "execution_count": 9,
      "outputs": []
    },
    {
      "cell_type": "markdown",
      "source": [
        "이제 모델을 512개의 샘플씩 미니 배치를 만들어 20번의 에포크 동안 훈련 시켜준다.\n",
        "\n",
        "**`.fit`** 은 실제로 신경망 학습이 진행되는 부분이다.<br/>\n",
        "에포크(`epochs`)를 조정하면 학습 횟수를 조정할 수 있다.\n",
        "> ❗️ ***에포크 역시 다음 강의에서 다시 나오기 때문에 오늘은 용어 자체만 기억하고 넘어가자.***"
      ],
      "metadata": {
        "id": "w_EePolgIMvG"
      }
    },
    {
      "cell_type": "code",
      "source": [
        "# Code 2-6 Train model\n",
        "history = model.fit(partial_x_train,\n",
        "                    partial_y_train,\n",
        "                    epochs = 20,\n",
        "                    batch_size = 512,\n",
        "                    validation_data=(x_val, y_val))"
      ],
      "metadata": {
        "colab": {
          "base_uri": "https://localhost:8080/"
        },
        "id": "3bQpTUNgHik5",
        "outputId": "a130a927-b27d-4e7b-83b3-36707db31ae3"
      },
      "execution_count": 10,
      "outputs": [
        {
          "output_type": "stream",
          "name": "stdout",
          "text": [
            "Epoch 1/20\n",
            "30/30 [==============================] - 3s 79ms/step - loss: 0.5260 - accuracy: 0.7909 - val_loss: 0.4190 - val_accuracy: 0.8421\n",
            "Epoch 2/20\n",
            "30/30 [==============================] - 1s 45ms/step - loss: 0.3191 - accuracy: 0.8985 - val_loss: 0.3143 - val_accuracy: 0.8851\n",
            "Epoch 3/20\n",
            "30/30 [==============================] - 1s 45ms/step - loss: 0.2322 - accuracy: 0.9264 - val_loss: 0.3037 - val_accuracy: 0.8804\n",
            "Epoch 4/20\n",
            "30/30 [==============================] - 1s 45ms/step - loss: 0.1859 - accuracy: 0.9379 - val_loss: 0.2727 - val_accuracy: 0.8930\n",
            "Epoch 5/20\n",
            "30/30 [==============================] - 1s 44ms/step - loss: 0.1528 - accuracy: 0.9497 - val_loss: 0.2764 - val_accuracy: 0.8928\n",
            "Epoch 6/20\n",
            "30/30 [==============================] - 1s 45ms/step - loss: 0.1263 - accuracy: 0.9606 - val_loss: 0.3076 - val_accuracy: 0.8834\n",
            "Epoch 7/20\n",
            "30/30 [==============================] - 1s 45ms/step - loss: 0.1053 - accuracy: 0.9677 - val_loss: 0.3040 - val_accuracy: 0.8850\n",
            "Epoch 8/20\n",
            "30/30 [==============================] - 1s 44ms/step - loss: 0.0894 - accuracy: 0.9739 - val_loss: 0.3196 - val_accuracy: 0.8831\n",
            "Epoch 9/20\n",
            "30/30 [==============================] - 1s 45ms/step - loss: 0.0741 - accuracy: 0.9785 - val_loss: 0.3511 - val_accuracy: 0.8810\n",
            "Epoch 10/20\n",
            "30/30 [==============================] - 1s 45ms/step - loss: 0.0620 - accuracy: 0.9827 - val_loss: 0.3694 - val_accuracy: 0.8807\n",
            "Epoch 11/20\n",
            "30/30 [==============================] - 1s 45ms/step - loss: 0.0515 - accuracy: 0.9875 - val_loss: 0.3921 - val_accuracy: 0.8763\n",
            "Epoch 12/20\n",
            "30/30 [==============================] - 1s 44ms/step - loss: 0.0422 - accuracy: 0.9907 - val_loss: 0.4235 - val_accuracy: 0.8757\n",
            "Epoch 13/20\n",
            "30/30 [==============================] - 1s 44ms/step - loss: 0.0343 - accuracy: 0.9925 - val_loss: 0.4728 - val_accuracy: 0.8731\n",
            "Epoch 14/20\n",
            "30/30 [==============================] - 1s 45ms/step - loss: 0.0273 - accuracy: 0.9953 - val_loss: 0.5177 - val_accuracy: 0.8712\n",
            "Epoch 15/20\n",
            "30/30 [==============================] - 1s 45ms/step - loss: 0.0229 - accuracy: 0.9957 - val_loss: 0.5300 - val_accuracy: 0.8651\n",
            "Epoch 16/20\n",
            "30/30 [==============================] - 1s 45ms/step - loss: 0.0173 - accuracy: 0.9978 - val_loss: 0.5548 - val_accuracy: 0.8665\n",
            "Epoch 17/20\n",
            "30/30 [==============================] - 1s 44ms/step - loss: 0.0151 - accuracy: 0.9981 - val_loss: 0.5922 - val_accuracy: 0.8651\n",
            "Epoch 18/20\n",
            "30/30 [==============================] - 1s 45ms/step - loss: 0.0105 - accuracy: 0.9988 - val_loss: 0.6271 - val_accuracy: 0.8652\n",
            "Epoch 19/20\n",
            "30/30 [==============================] - 1s 45ms/step - loss: 0.0097 - accuracy: 0.9985 - val_loss: 0.6629 - val_accuracy: 0.8663\n",
            "Epoch 20/20\n",
            "30/30 [==============================] - 1s 43ms/step - loss: 0.0066 - accuracy: 0.9996 - val_loss: 0.7016 - val_accuracy: 0.8665\n"
          ]
        }
      ]
    },
    {
      "cell_type": "markdown",
      "source": [
        "history 객체는 훈련하는 동안 발생한 모든 정보를 담고 있는 딕셔너리인 history 속성을 가지고 있다."
      ],
      "metadata": {
        "id": "xLDqAfblIwzQ"
      }
    },
    {
      "cell_type": "code",
      "source": [
        "history_dict = history.history\n",
        "history_dict.keys()"
      ],
      "metadata": {
        "colab": {
          "base_uri": "https://localhost:8080/"
        },
        "id": "uo1CmGuUI29u",
        "outputId": "84d1b595-2cc3-4a5f-83d3-c441390c187f"
      },
      "execution_count": 11,
      "outputs": [
        {
          "output_type": "execute_result",
          "data": {
            "text/plain": [
              "dict_keys(['loss', 'accuracy', 'val_loss', 'val_accuracy'])"
            ]
          },
          "metadata": {},
          "execution_count": 11
        }
      ]
    },
    {
      "cell_type": "code",
      "source": [
        "# Code 2-7 Draw train and validation loss\n",
        "import matplotlib.pyplot as plt\n",
        "\n",
        "history_dict = history.history\n",
        "loss = history_dict['loss']\n",
        "val_loss = history_dict['val_loss']\n",
        "\n",
        "epochs = range(1, len(loss)+1)\n",
        "\n",
        "plt.plot(epochs, loss, 'bo', label = 'Training loss')\n",
        "plt.plot(epochs, val_loss, 'b', label = 'validation loss')\n",
        "plt.title('Training and validation loss')\n",
        "plt.xlabel('Epochs')\n",
        "plt.ylabel('Loss')\n",
        "plt.legend()\n",
        "\n",
        "plt.show()"
      ],
      "metadata": {
        "colab": {
          "base_uri": "https://localhost:8080/",
          "height": 295
        },
        "id": "YGIYQg9PJLj_",
        "outputId": "56e73107-4a5d-4e88-e131-38bde4625863"
      },
      "execution_count": 12,
      "outputs": [
        {
          "output_type": "display_data",
          "data": {
            "image/png": "[encoded data removed]",
            "text/plain": [
              "<Figure size 432x288 with 1 Axes>"
            ]
          },
          "metadata": {
            "needs_background": "light"
          }
        }
      ]
    },
    {
      "cell_type": "code",
      "source": [
        "# Code 2-8 Draw train and validation accuracy\n",
        "plt.clf() # grpah initialization\n",
        "acc = history_dict['accuracy']\n",
        "val_acc = history_dict['val_accuracy']\n",
        "\n",
        "plt.plot(epochs, acc, 'bo', label='Training acc')\n",
        "plt.plot(epochs, val_acc, 'b', label='Validation acc')\n",
        "plt.title('Training and validation accuracy')\n",
        "plt.xlabel('Epochs')\n",
        "plt.ylabel('Accuracy')\n",
        "plt.legend()\n",
        "\n",
        "plt.show()"
      ],
      "metadata": {
        "colab": {
          "base_uri": "https://localhost:8080/",
          "height": 295
        },
        "id": "_NEVCh8pJuKU",
        "outputId": "2ba45cc7-f6f0-4496-b546-2c795b9826e4"
      },
      "execution_count": 14,
      "outputs": [
        {
          "output_type": "display_data",
          "data": {
            "image/png": "[encoded data removed]",
            "text/plain": [
              "<Figure size 432x288 with 1 Axes>"
            ]
          },
          "metadata": {
            "needs_background": "light"
          }
        }
      ]
    },
    {
      "cell_type": "markdown",
      "source": [
        "그래프를 통해 알 수 있듯이 훈련 손실이 에포크마다 감소하고 훈련 정확도는 에포크마다 증가한다.\n",
        "\n",
        "4번째 에포크에서 그래프가 역전되는데(Training acc는 증가, Validation acc는 감소), 이것이 과적합된 것이다."
      ],
      "metadata": {
        "id": "kkLTf0fdMcri"
      }
    },
    {
      "cell_type": "markdown",
      "source": [
        "최종 결과는 다음과 같이 구할 수 있다."
      ],
      "metadata": {
        "id": "6M39-7upKuWB"
      }
    },
    {
      "cell_type": "code",
      "source": [
        "results = model.evaluate(x_test, y_test)\n",
        "results # [0.762의 loss, 85%의 정확도]"
      ],
      "metadata": {
        "colab": {
          "base_uri": "https://localhost:8080/"
        },
        "id": "4ddMen5RKxKe",
        "outputId": "2a7dac94-89f4-47db-c6bd-ec82420dc4d8"
      },
      "execution_count": 15,
      "outputs": [
        {
          "output_type": "stream",
          "name": "stdout",
          "text": [
            "782/782 [==============================] - 5s 6ms/step - loss: 0.7624 - accuracy: 0.8513\n"
          ]
        },
        {
          "output_type": "execute_result",
          "data": {
            "text/plain": [
              "[0.7623596787452698, 0.8513200283050537]"
            ]
          },
          "metadata": {},
          "execution_count": 15
        }
      ]
    },
    {
      "cell_type": "markdown",
      "source": [
        "#### 추가 실험\n",
        "\n",
        "* 여기에서는 2개의 은닉 층을 사용했다. 1개 또는 3개의 은닉 층을 사용하고 검증과 테스트 정확도에 어떤 영향을 미치는지 확인해보자.\n",
        "* 층의 은닉 유닛을 추가하거나 줄여보자. 32개의 유닛, 64개의 유닛 등\n",
        "* binary_crossentropy 대신에 mse 손실 함수 사용해보자.\n",
        "* relu 대신 tanh 활성화 함수를 사용해보자."
      ],
      "metadata": {
        "id": "DFgw2CgwM_AX"
      }
    },
    {
      "cell_type": "markdown",
      "source": [
        "## 2.4 다중 분류 모델"
      ],
      "metadata": {
        "id": "rA1lvEePtmNj"
      }
    },
    {
      "cell_type": "markdown",
      "source": [
        "다중 분류 문제는 주사위를 굴렸을 때 각 면이 나올 확률을 예측하는 문제와 같다. <br>\n",
        "주사위의 각 면이 나올 확률분포는 **카테고리 분포(categorial distribution)**로 정의되므로, <font color='#ff6f61'>다중분류 모델은 카테고리 분포를 예측하는 모델</font>로 정의할 수 있다."
      ],
      "metadata": {
        "id": "5fUN0jJAtq8o"
      }
    },
    {
      "cell_type": "markdown",
      "source": [
        "### 2.4.1 카테고리 분포"
      ],
      "metadata": {
        "id": "by8En2Sot-Hf"
      }
    },
    {
      "cell_type": "markdown",
      "source": [
        "카테고리 분포는 <font color='#ff6f61'>**여러 종류의 사건이 발생할 확률**</font>을 나타내며 다음과 같은 식으로 정의한다. <br>\n",
        "카테고리 분포는 베르누이 분포를 일반화한 분포로 $K$개 사건의 확률을 표현한다.\n",
        "\n",
        "$$p(x|\\mu)=\\displaystyle\\prod_{k=1}^{K}\\mu_{k}^{x_k}$$\n",
        "$$\\mu=(\\mu_1,\\mu_2, ...,\\mu_K)^T, \\displaystyle\\sum_{k=1}^{K}\\mu_k=1$$\n",
        "$$x=(x_1,x_2,...,x_K)^T, \\begin{cases}1, k=i\\\\ 0, k\\neq i\\end{cases} i\\in\\{1,2,...,K\\}$$\n",
        "<br><br>\n",
        "$K$는 사건 개수이고 $\\mu_k$는 사건 $k$가 발생할 확률이며 $\\mu=(\\mu_1,\\mu_2,...,\\mu_K)^T$ 는 각 사건에 대한 확률을 나타내는 벡터이다. <br>\n",
        "$x=(x_1,x_2,...,x_K)^T$는 0과 1로 표현되는 확률 변수로 사건 $k$는 $x_k$만 1이고 나머지는 0인 벡터로 표현된다. <br>\n",
        "e.g. 주사위 굴리기에서 사건 개수는 $K=6$이고 숫자 1이 나올 사건의 확률 변수는 $x=(1,0,0,0,0,0)^T$이다.\n",
        "\n",
        "최종적으로 각 면이 나올 확률은 다음과 같이 표기할 수 있다.\n",
        "\n",
        "$$p(x=(1,0,0,0,0,0)^T;\\mu)=\\mu_1=\\frac{1}{6}\\\\.\\\\.\\\\.\\\\p(x=(0,0,0,0,0,1)^T;\\mu)=\\mu_6=\\frac{1}{6}$$"
      ],
      "metadata": {
        "id": "7Qo-L6UfuAZs"
      }
    },
    {
      "cell_type": "markdown",
      "source": [
        "### 2.4.2 확률 모델 정의"
      ],
      "metadata": {
        "id": "LPmqcI51yL8r"
      }
    },
    {
      "cell_type": "markdown",
      "source": [
        "다중 분류 문제를 확률 모델로 정의해보자. <br>\n",
        "관측 데이터는 $D=\\{(x_i,t_i): i=1,...,N\\}$로 $N$개의 $(x_i,t_i)$샘플로 구성된다. <br>\n",
        "입력 데이터 $x_i$는 같은 분포에서 독립적으로 샘플링되어 i.i.d를 만족한다고 하자. <br>\n",
        "타깃 $t_i=(t_{i1},t_{i2},...,t_{iK})^T$는 $K$개의 클래스 중 하나로 클래스 $k$인 경우 $t_{ik}=1$이고 나머지는 0인 벡터로 정의된다.\n",
        "\n",
        "다중 분류 모델은 <font color='#ff6f61'>타깃 $t_i$의 확률분포인 카테고리 분포의 파라미터 $\\mu$를 예측</font>한다. <br>\n",
        "모델은 $x_i$를 입력했을 때 카테고리 분포의 파라미터 $\\mu$ 에 해당하는 $\\mu(x_i; \\theta)$를 출력하며, 그 결과 다음과 같은 카테고리 분포가 예측된다.\n",
        "\n",
        "$$p(t_i|x_i;\\theta)=Category(t_i;\\mu(x_i;\\theta))=\\displaystyle\\prod_{k=1}^{K}\\mu(x_i;\\theta)_k^{t_{ik}}$$"
      ],
      "metadata": {
        "id": "udFO4DkLyN4W"
      }
    },
    {
      "cell_type": "markdown",
      "source": [
        "### 2.4.3 출력 계층의 활성 함수"
      ],
      "metadata": {
        "id": "OxqMICY71yd0"
      }
    },
    {
      "cell_type": "markdown",
      "source": [
        "> 고양이 사진을 입력받아서 분류하는 다중 분류 모델을 만든다고 해보자. 모델은 고양이 사진을 입력받아서 '토끼, 고양이, 강아지,$\\dotsb$'와 같은 $K$개의 클래스에 속할 확률인 $\\mu$를 예측한다.\n",
        "\n",
        "이때 신경망 모델은 각 클래스에 속할 수치인 점수 또는 로짓을 실수 벡터로 출력하고 이를 활성 함수를 통해 **카테고리 분포의 확률 벡터 $\\mu$ 로 변환**한다. <br>\n",
        "\n",
        "이때 사용하는 활성 함수가 <font color='#ff6f61'>**소프트맥스(softmax)**</font>함수이다.\n",
        "\n",
        "<img width=550 src=https://user-images.githubusercontent.com/48666867/146732636-93986192-717c-4606-b785-673cf1756e7f.jpg>\n",
        "\n",
        "Ref. Deep Learning Textbook\n",
        "\n",
        "앞서 배웠던 이진 분류 문제와 비교해보자. <br>\n",
        "* 이진 분류 모델: 클래스1이 발생할 확률인 <font color='#ff6f61'>실수 $\\mu$를 예측</font>하기 때문에 <font color='#ff6f61'>신경망 출력은 **실수**</font>가 된다. \n",
        "* 다중분류 모델: $K$개 클래스가 발생할 확률인 <font color='#ff6f61'>벡터 $\\mu$를 예측</font>하기 때문에 <font color='#ff6f61'>신경망 출력은 크기가 $K$인 실수 벡터</font>가 된다.\n",
        "\n",
        "\n",
        "---\n",
        "✨출력 계층에서 소프트맥스를 사용할 때는 손실 함수를 크로스 엔트로피로 선택해야 학습이 안정화된다."
      ],
      "metadata": {
        "id": "sX5LZekb11I3"
      }
    },
    {
      "cell_type": "markdown",
      "source": [
        "#### 소프트맥스 함수\n",
        "\n",
        "소프트맥스 함수는 <font color='#ff6f61'>실수 벡터를 확률 벡터로 변환</font>한다. <br>\n",
        "실수 벡터의 각 요소는 <font color='#ff6f61'>[0,1] 범위</font>로 변환되고 각 요소의 합은 1이 된다. 따라서 신경망의 출력 계층에서 실수 벡터를 카테고리 확률분포의 확률 벡터로 변환할 때 사용한다.\n",
        "\n",
        "$$softmax(y_i)=\\frac{e^{y_i}}{\\sum_{j=1}^{K}e^{y_j}}$$\n",
        "\n",
        "<img width=400 src=https://user-images.githubusercontent.com/48666867/146734439-648bf2c7-cec8-4339-8c2a-9a808dbc751c.png>\n",
        "\n",
        "Ref. researchgate.net\n",
        "\n",
        "소프트맥스는 시그모이드를 여러 클래스에 대해 일반화한 함수라고 이해하면 좋다.\n",
        "\n",
        "\n",
        "\n",
        "---\n",
        "✨소프트맥스는 입력값이 클수록 1에 가깝게, 입력값이 작을수록 0에 가깝게 만들어주기 때문에 Max함수와 같은 역할을 한다. 단, Max함수와 달리 함수 형태가 부드러운 곡선 형태이므로 Soft한 Max 함수란 의미로 소프트맥스라고 부른다."
      ],
      "metadata": {
        "id": "o_qVxtYF3_0K"
      }
    },
    {
      "cell_type": "markdown",
      "source": [
        "### 2.4.4 뉴스 기사 분류: 다중 분류 문제\n",
        "\n"
      ],
      "metadata": {
        "id": "aMRUsnoB2J7c"
      }
    },
    {
      "cell_type": "markdown",
      "source": [
        "로이터에서 공개한 짧은 뉴스 기사와 토픽의 집합인 로이터 데이터셋을 사용하여 로이터(Reuter) 뉴스를 46개의 상호 배타적인 토픽으로 분류하는 신경망을 만들어 보자.\n"
      ],
      "metadata": {
        "id": "j60Cjkex2Ytz"
      }
    },
    {
      "cell_type": "code",
      "source": [
        "# Code 2-1 Load Reuter Dataset\n",
        "from keras.datasets import reuters\n",
        "\n",
        "(train_data, train_labels), (test_data, test_labels) = reuters.load_data(num_words=10000)"
      ],
      "metadata": {
        "colab": {
          "base_uri": "https://localhost:8080/"
        },
        "id": "GSWwMHeCGv9W",
        "outputId": "5b78e561-5789-422c-8baf-8395398d75ed"
      },
      "execution_count": 23,
      "outputs": [
        {
          "output_type": "stream",
          "name": "stdout",
          "text": [
            "Downloading data from https://storage.googleapis.com/tensorflow/tf-keras-datasets/reuters.npz\n",
            "2113536/2110848 [==============================] - 0s 0us/step\n",
            "2121728/2110848 [==============================] - 0s 0us/step\n"
          ]
        }
      ]
    },
    {
      "cell_type": "markdown",
      "source": [
        "[예제 2.3.4]와 동일하게 데이터를 벡터로 변환해준다."
      ],
      "metadata": {
        "id": "SP8DWmip3Z7e"
      }
    },
    {
      "cell_type": "code",
      "source": [
        "# Code 2-2 Incoding data\n",
        "\n",
        "import numpy as np\n",
        "\n",
        "def vectorize_sequences(sequences, dimension=10000):\n",
        "  results = np.zeros((len(sequences), dimension)) # 크기가 (len(sequences), dimension)이고 모든 원소가 0인 행렬을 만든다.\n",
        "  for i, sequence in enumerate(sequences):\n",
        "    results[i, sequence] = 1. # results[i]에서 특정 인덱스의 위치를 1로 만든다.\n",
        "  return results\n",
        "\n",
        "x_train = vectorize_sequences(train_data)\n",
        "x_test = vectorize_sequences(test_data)\n",
        "\n",
        "# categorical encoding\n",
        "from keras.utils.np_utils import to_categorical\n",
        "\n",
        "one_hot_train_labels = to_categorical(train_labels) # 훈련 레이블 벡터 변환\n",
        "one_hot_test_labels = to_categorical(test_labels) # 테스트 레이블 벡터 변환"
      ],
      "metadata": {
        "id": "G8q0pYhW3X-1"
      },
      "execution_count": 27,
      "outputs": []
    },
    {
      "cell_type": "code",
      "source": [
        "# Code 2-3 Define model\n",
        "from keras import models\n",
        "from keras import layers\n",
        "\n",
        "model = models.Sequential()\n",
        "model.add(layers.Dense(64, activation = 'relu', input_shape=(10000,)))\n",
        "model.add(layers.Dense(64, activation = 'relu'))\n",
        "model.add(layers.Dense(46, activation = 'softmax'))"
      ],
      "metadata": {
        "id": "9FG9WZkQ4TbR"
      },
      "execution_count": 31,
      "outputs": []
    },
    {
      "cell_type": "code",
      "source": [
        "# Code 2-4 Compile model\n",
        "model.compile(optimizer = 'rmsprop',\n",
        "              loss = 'categorical_crossentropy',\n",
        "              metrics = ['accuracy'])"
      ],
      "metadata": {
        "id": "REr9_L0p5T47"
      },
      "execution_count": 32,
      "outputs": []
    },
    {
      "cell_type": "code",
      "source": [
        "# Code 2-5 Prepare validation set\n",
        "x_val = x_train[:1000]\n",
        "partial_x_train = x_train[1000:]\n",
        "\n",
        "y_val = one_hot_train_labels[:1000]\n",
        "partial_y_train = one_hot_train_labels[1000:]"
      ],
      "metadata": {
        "id": "3MEWq5O_5l0I"
      },
      "execution_count": 33,
      "outputs": []
    },
    {
      "cell_type": "code",
      "source": [
        "# Code 2-6 Train model\n",
        "history = model.fit(partial_x_train,\n",
        "                    partial_y_train,\n",
        "                    epochs = 20,\n",
        "                    batch_size = 512,\n",
        "                    validation_data = (x_val, y_val))"
      ],
      "metadata": {
        "colab": {
          "base_uri": "https://localhost:8080/"
        },
        "id": "DdSKsZ206CoN",
        "outputId": "32c1776a-416c-4717-8548-c0c2eee9f38b"
      },
      "execution_count": 34,
      "outputs": [
        {
          "output_type": "stream",
          "name": "stdout",
          "text": [
            "Epoch 1/20\n",
            "16/16 [==============================] - 2s 66ms/step - loss: 2.7649 - accuracy: 0.5375 - val_loss: 1.8253 - val_accuracy: 0.6470\n",
            "Epoch 2/20\n",
            "16/16 [==============================] - 1s 45ms/step - loss: 1.4344 - accuracy: 0.7092 - val_loss: 1.3269 - val_accuracy: 0.7060\n",
            "Epoch 3/20\n",
            "16/16 [==============================] - 1s 44ms/step - loss: 1.0448 - accuracy: 0.7737 - val_loss: 1.1536 - val_accuracy: 0.7390\n",
            "Epoch 4/20\n",
            "16/16 [==============================] - 1s 46ms/step - loss: 0.8206 - accuracy: 0.8220 - val_loss: 1.0422 - val_accuracy: 0.7690\n",
            "Epoch 5/20\n",
            "16/16 [==============================] - 1s 46ms/step - loss: 0.6538 - accuracy: 0.8629 - val_loss: 0.9671 - val_accuracy: 0.7920\n",
            "Epoch 6/20\n",
            "16/16 [==============================] - 1s 47ms/step - loss: 0.5219 - accuracy: 0.8915 - val_loss: 0.9481 - val_accuracy: 0.8000\n",
            "Epoch 7/20\n",
            "16/16 [==============================] - 1s 45ms/step - loss: 0.4174 - accuracy: 0.9124 - val_loss: 0.9072 - val_accuracy: 0.7990\n",
            "Epoch 8/20\n",
            "16/16 [==============================] - 1s 45ms/step - loss: 0.3393 - accuracy: 0.9268 - val_loss: 0.9111 - val_accuracy: 0.8000\n",
            "Epoch 9/20\n",
            "16/16 [==============================] - 1s 47ms/step - loss: 0.2772 - accuracy: 0.9376 - val_loss: 0.9049 - val_accuracy: 0.8100\n",
            "Epoch 10/20\n",
            "16/16 [==============================] - 1s 45ms/step - loss: 0.2352 - accuracy: 0.9437 - val_loss: 0.9352 - val_accuracy: 0.8090\n",
            "Epoch 11/20\n",
            "16/16 [==============================] - 1s 46ms/step - loss: 0.2050 - accuracy: 0.9501 - val_loss: 0.9340 - val_accuracy: 0.8130\n",
            "Epoch 12/20\n",
            "16/16 [==============================] - 1s 46ms/step - loss: 0.1807 - accuracy: 0.9523 - val_loss: 0.9138 - val_accuracy: 0.8220\n",
            "Epoch 13/20\n",
            "16/16 [==============================] - 1s 46ms/step - loss: 0.1634 - accuracy: 0.9533 - val_loss: 1.0026 - val_accuracy: 0.7960\n",
            "Epoch 14/20\n",
            "16/16 [==============================] - 1s 45ms/step - loss: 0.1498 - accuracy: 0.9555 - val_loss: 0.9490 - val_accuracy: 0.8190\n",
            "Epoch 15/20\n",
            "16/16 [==============================] - 1s 45ms/step - loss: 0.1388 - accuracy: 0.9565 - val_loss: 1.0079 - val_accuracy: 0.8080\n",
            "Epoch 16/20\n",
            "16/16 [==============================] - 1s 46ms/step - loss: 0.1315 - accuracy: 0.9563 - val_loss: 0.9916 - val_accuracy: 0.8200\n",
            "Epoch 17/20\n",
            "16/16 [==============================] - 1s 45ms/step - loss: 0.1262 - accuracy: 0.9569 - val_loss: 1.0297 - val_accuracy: 0.8070\n",
            "Epoch 18/20\n",
            "16/16 [==============================] - 1s 46ms/step - loss: 0.1183 - accuracy: 0.9579 - val_loss: 1.0357 - val_accuracy: 0.8080\n",
            "Epoch 19/20\n",
            "16/16 [==============================] - 1s 45ms/step - loss: 0.1129 - accuracy: 0.9572 - val_loss: 1.0447 - val_accuracy: 0.8090\n",
            "Epoch 20/20\n",
            "16/16 [==============================] - 1s 45ms/step - loss: 0.1117 - accuracy: 0.9573 - val_loss: 1.0395 - val_accuracy: 0.8130\n"
          ]
        }
      ]
    },
    {
      "cell_type": "code",
      "source": [
        "# Code 2-7 Draw train and validation loss\n",
        "import matplotlib.pyplot as plt\n",
        "\n",
        "loss = history.history['loss']\n",
        "val_loss = history.history['val_loss']\n",
        "\n",
        "epochs = range(1, len(loss) + 1)\n",
        "\n",
        "plt.plot(epochs, loss, 'bo', label = 'Training loss')\n",
        "plt.plot(epochs, val_loss, 'b', label = 'Validation loss')\n",
        "plt.title('Training and validation loss')\n",
        "plt.xlabel('Epochs')\n",
        "plt.ylabel('Loss')\n",
        "plt.legend()\n",
        "\n",
        "plt.show()"
      ],
      "metadata": {
        "colab": {
          "base_uri": "https://localhost:8080/",
          "height": 295
        },
        "id": "Z1ay9rSZ6OFb",
        "outputId": "bc62fbea-396e-4d7c-b86b-a0682caeaf09"
      },
      "execution_count": 35,
      "outputs": [
        {
          "output_type": "display_data",
          "data": {
            "image/png": "[encoded data removed]",
            "text/plain": [
              "<Figure size 432x288 with 1 Axes>"
            ]
          },
          "metadata": {
            "needs_background": "light"
          }
        }
      ]
    },
    {
      "cell_type": "code",
      "source": [
        "# Code 2-8 Draw train and validation accuracy\n",
        "plt.clf()\n",
        "\n",
        "acc = history.history['accuracy']\n",
        "val_acc = history.history['val_accuracy']\n",
        "\n",
        "plt.plot(epochs, acc, 'bo', label = 'Training acc')\n",
        "plt.plot(epochs, val_acc, 'b', label = 'Validation acc')\n",
        "plt.xlabel('Epochs')\n",
        "plt.ylabel('Accuracy')\n",
        "plt.legend()\n",
        "\n",
        "plt.show()"
      ],
      "metadata": {
        "colab": {
          "base_uri": "https://localhost:8080/",
          "height": 279
        },
        "id": "GcchWzjr7DtV",
        "outputId": "c6e73d2b-055d-4607-ad7a-d12226ffc617"
      },
      "execution_count": 36,
      "outputs": [
        {
          "output_type": "display_data",
          "data": {
            "image/png": "[encoded data removed]",
            "text/plain": [
              "<Figure size 432x288 with 1 Axes>"
            ]
          },
          "metadata": {
            "needs_background": "light"
          }
        }
      ]
    },
    {
      "cell_type": "code",
      "source": [
        "# Code 2-9 Evaluate model\n",
        "results = model.evaluate(x_test, one_hot_test_labels)\n",
        "results"
      ],
      "metadata": {
        "colab": {
          "base_uri": "https://localhost:8080/"
        },
        "id": "0bDweXPu7c82",
        "outputId": "33ed8c5e-9415-4271-b4e5-881937aafed1"
      },
      "execution_count": 37,
      "outputs": [
        {
          "output_type": "stream",
          "name": "stdout",
          "text": [
            "71/71 [==============================] - 0s 4ms/step - loss: 1.2115 - accuracy: 0.7903\n"
          ]
        },
        {
          "output_type": "execute_result",
          "data": {
            "text/plain": [
              "[1.2115319967269897, 0.7902938723564148]"
            ]
          },
          "metadata": {},
          "execution_count": 37
        }
      ]
    },
    {
      "cell_type": "code",
      "source": [
        "# Code 2-10 predict for new dataset\n",
        "predictions = model.predict(x_test)\n",
        "np.argmax(predictions[0]) # 가장 확률이 높은 클래스"
      ],
      "metadata": {
        "colab": {
          "base_uri": "https://localhost:8080/"
        },
        "id": "FIxpm9KU70Zq",
        "outputId": "c6bcef1b-aa09-46ba-9fd9-e41e3538d928"
      },
      "execution_count": 41,
      "outputs": [
        {
          "output_type": "execute_result",
          "data": {
            "text/plain": [
              "3"
            ]
          },
          "metadata": {},
          "execution_count": 41
        }
      ]
    },
    {
      "cell_type": "code",
      "source": [
        "predictions[0].shape # predictions 항목의 길이 46은 멀티 클래스 46개 개수와 일치"
      ],
      "metadata": {
        "colab": {
          "base_uri": "https://localhost:8080/"
        },
        "id": "I2HFiS-H8C0l",
        "outputId": "9d7ec616-bf58-4b17-85d4-92f0d92a5a0e"
      },
      "execution_count": 42,
      "outputs": [
        {
          "output_type": "execute_result",
          "data": {
            "text/plain": [
              "(46,)"
            ]
          },
          "metadata": {},
          "execution_count": 42
        }
      ]
    },
    {
      "cell_type": "code",
      "source": [
        "np.sum(predictions[0]) # 출력값은 확률 형태값이므로 모두 더하면 1이 되는 것을 확인"
      ],
      "metadata": {
        "colab": {
          "base_uri": "https://localhost:8080/"
        },
        "id": "TRvZvPPc8L6h",
        "outputId": "2cfe0152-c697-49b3-b698-795aef871c41"
      },
      "execution_count": 44,
      "outputs": [
        {
          "output_type": "execute_result",
          "data": {
            "text/plain": [
              "1.0000002"
            ]
          },
          "metadata": {},
          "execution_count": 44
        }
      ]
    },
    {
      "cell_type": "code",
      "source": [
        "import copy\n",
        "test_labels_copy = copy.copy(test_labels)\n",
        "np.random.shuffle(test_labels_copy)\n",
        "hits_array = np.array(test_labels) == np.array(test_labels_copy)\n",
        "float(np.sum(hits_array)) / len(test_labels)"
      ],
      "metadata": {
        "colab": {
          "base_uri": "https://localhost:8080/"
        },
        "id": "maYpY8aA85rp",
        "outputId": "0487f1df-e9c3-4e22-a83c-30dfd7a8c502"
      },
      "execution_count": 45,
      "outputs": [
        {
          "output_type": "execute_result",
          "data": {
            "text/plain": [
              "0.19545859305431879"
            ]
          },
          "metadata": {},
          "execution_count": 45
        }
      ]
    },
    {
      "cell_type": "markdown",
      "source": [
        "이 문제는 불균형한 데이터셋을 사용하므로 무작위로 분류하면 19%정도를 달성한다.\n",
        "\n",
        "---\n",
        "✨데이터 모델간의 성능 편차가 심할 경우, holdout 기법 보다는 cross-validation 사용하는 것이 좋다.\n"
      ],
      "metadata": {
        "id": "s2pHOIam8nod"
      }
    },
    {
      "cell_type": "markdown",
      "source": [
        "#### 추가 실험\n",
        "* 더 크거나 작은 층을 사용해보자. 32개의 유닛, 128개의 유닛 등\n",
        "* 여기에는 2개의 은닉층을 사용했다. 1개나 3개의 은닉층을 사용해보자."
      ],
      "metadata": {
        "id": "rwatxLhW9V_k"
      }
    },
    {
      "cell_type": "markdown",
      "source": [
        "## 2.5 회귀 모델"
      ],
      "metadata": {
        "id": "pQCSVcmK9WHo"
      }
    },
    {
      "cell_type": "markdown",
      "source": [
        "회귀 문제는 여러 독립 변수와 종속 변수의 관계를 연속 함수 형태로 분석하는 문제이다. <br>\n",
        "데이터를 관측할 때 발생하는 관측 오차 또는 실험 오차는 **가우시안 분포**(Gaussian distribution)로 정의되므로, <font color='#ff6f61'>회귀문제는 가우시안 분포를 예측하는 모델</font>로 정의할 수 있다.\n",
        "\n",
        "\n",
        "---\n",
        "✨관측 데이터를 수집할 때마다 값이 조금씩 달라지는데 이런 변동분을 **관측 오차**(observational error)라고 한다.\n"
      ],
      "metadata": {
        "id": "CTWutyYv-r3O"
      }
    },
    {
      "cell_type": "markdown",
      "source": [
        "### 2.5.1 가우시안 분포"
      ],
      "metadata": {
        "id": "DS-QMShR_lQF"
      }
    },
    {
      "cell_type": "markdown",
      "source": [
        "**가우시안 분포**는 <font color='#ff6f61'>평균을 중심</font>으로 <font color='#ff6f61'>대칭적인 종 모양의 사건이 발생할 확률</font>을 나타내며 다음과 같은 식으로 정의한다.\n",
        "\n",
        "$$N(x|\\mu,\\sigma^2)=\\frac{1}{\\sigma\\sqrt{2\\pi}}e^{-\\frac{(x-\\mu)^2}{2\\sigma^2}}$$\n",
        "\n",
        "가우시안 분포는 관측 데이터의 분포를 근사하는 데에 자주 쓰인데. **중심 극한 정리**(central limit theorem)에 따라 독립적인 확률 변수들의 평균은 가우시안 분포에 가까워지는 성질이 있기 때문이다.\n",
        "\n",
        "<img width=300 src=https://user-images.githubusercontent.com/48666867/146876509-8c908b08-a5e0-45c5-911e-d32e915a8493.png>\n",
        "\n",
        "Ref. https://bskyvision.com/806\n",
        "\n",
        "---\n",
        "✨가우시안 분포를 정규분포(normal distribution)라고도 한다."
      ],
      "metadata": {
        "id": "XoeK7w_5_nqO"
      }
    },
    {
      "cell_type": "markdown",
      "source": [
        "### 2.5.1 회귀 모델 정의"
      ],
      "metadata": {
        "id": "sla1Z6HceTL3"
      }
    },
    {
      "cell_type": "markdown",
      "source": [
        "회귀 문제를 확률 모델로 정의하면 타깃 $t_i$는 모델 예측값 $y(x_i;\\theta)$에 관측 오차 $\\epsilon$ 가 더해진 값이다. <br>\n",
        "관측 오차 $\\epsilon$ 는 가우시안 분포 $N(\\epsilon|0, \\beta^{-1})$ 를 따른다고 가정한다. <br>\n",
        "이때 오차의 분산 $\\beta^{-1}$ 는 정밀도(precision) $\\beta$ 의 역수이자 상수로 가정한다.\n",
        "\n",
        "---\n",
        "✨분산과 정밀도는 서로 역수 관계이다. 즉, 분산이 크면 정밀하지 않은 것으로 생각하고, 분산이 작으면 정밀한 것으로 생각할 수 있다.\n"
      ],
      "metadata": {
        "id": "sEcw0Dt3eWcN"
      }
    },
    {
      "cell_type": "markdown",
      "source": [
        "$$t_i = y(x_i;\\theta)+\\epsilon, \\epsilon~N(\\epsilon|0, \\beta^{-1})$$\n",
        "\n",
        "<br>\n",
        "\n",
        "정리하자면, 회귀 모델은 입력 $x_i$가 주어졌을 때 타깃 $t_i$의 조건부 확률분포인 $p(t_i|x_i;\\theta)$ 를 예측한다.\n",
        "\n",
        "관측 오차 $\\epsilon$ 는 가우시안 분포 $N(\\epsilon|0, \\beta^{-1})$ 로 가정했기 때문에 타깃 $t_i$의 분포는 관측 오차의 분산 $\\beta^{-1}$를 갖는 가우시안 분포 $N(t_i|y(x_i;\\theta), \\beta^{-1})$ 로 정의된다.\n",
        "\n",
        "따라서 신명망 모델은 평균 $y(x_i;\\theta)$ 만 예측하면 된다.\n",
        "\n",
        "$$p(t_i|x_i;\\theta)=N(t_i|y(x_i;\\theta), \\beta^{-1})$$"
      ],
      "metadata": {
        "id": "TEGvUGFIfRcz"
      }
    },
    {
      "cell_type": "markdown",
      "source": [
        "### 2.5.3 출력 계층의 활성 함수"
      ],
      "metadata": {
        "id": "sW8GJmUsgsuz"
      }
    },
    {
      "cell_type": "markdown",
      "source": [
        "회귀 모델의 경우 예측된 평균과 분산이 바뀌면 안되기 때문에 **항등 함수**(identity function)를 활성 함수로 사용한다.\n",
        "\n",
        "<img width=600 src=https://user-images.githubusercontent.com/48666867/146878105-bb613842-e2f0-46c1-87bb-6c5131d100b5.jpg>\n",
        "\n",
        "Ref. Deep learning textbook"
      ],
      "metadata": {
        "id": "EcORRdAhgusC"
      }
    },
    {
      "cell_type": "markdown",
      "source": [
        "#### 항등 함수\n",
        "\n",
        "**항등 함수**는 <font color='#ff6f61'>입력값을 그대로 출력</font>하는 함수이다. 기울기가 1인 직선을 나타내는 선형 함수로 정의된다.\n",
        "\n",
        "<img width=250 src=https://user-images.githubusercontent.com/48666867/146878383-48e39f8c-1540-49a2-b09a-b151e95cba75.png>\n",
        "\n",
        "Ref. mathfactory.net\n",
        "\n",
        "---\n",
        "✨항등 함수 $f(x)=x$ 는 입력값을 그대로 출력하기 때문에 모델을 구현할 때는 활성 함수가 없는 것처럼 구현해도 된다.\n"
      ],
      "metadata": {
        "id": "ZB3Th4_5iOWe"
      }
    },
    {
      "cell_type": "markdown",
      "source": [
        "### 2.5.4 주택 가격 예측: 회귀 문제"
      ],
      "metadata": {
        "id": "bMUvk_M3tcO8"
      }
    },
    {
      "cell_type": "markdown",
      "source": [
        "1970년 중반 보스턴 외곽 지역의 범죄율, 지방세율 등의 데이터가 주어졌을 때 주택 가격의 중간 값을 예측해 보자. <br>\n",
        "여기서 사용할 데이터셋은 404개의 훈련 샘플과 102개의 테스트 샘플로 나뉘어 있다. <br>\n",
        "입력 데이터에 있는 각 특성(feature)은 스케일이 서로 다르다. 어떤 값은 0과 1 사이의 비율을 나타내고, 어떤 것은 1과 12 사이의 값을 가지거나 1과 100사이의 값을 가진다."
      ],
      "metadata": {
        "id": "b1lTYjPatg-S"
      }
    },
    {
      "cell_type": "code",
      "source": [
        "# Code 2-1 Load Boston house dataset\n",
        "from keras.datasets import boston_housing\n",
        "\n",
        "(train_data, train_targets), (test_data, test_targets) = boston_housing.load_data()"
      ],
      "metadata": {
        "id": "BpPAUVvgt8cK"
      },
      "execution_count": 10,
      "outputs": []
    },
    {
      "cell_type": "markdown",
      "source": [
        "상이한 스케일을 가진 값을 신경망에 주입하면 문제가 된다. 네트워크가 이런 다양한 데이터에 자동으로 맞추려고 할 수 있지만 이는 확실히 학습을 더 어렵게 만든다. <br>\n",
        "이런 데이터를 다룰 때 대표적인 방법은 특성별로 정규화를 하는 것이다. 입력 데이터에 있는 각 특성에 대해서 특성의 평균을 빼고 표준 편차로 나눠준다. (특성의 중앙이 0 근처에 맞추어지고 표준 편차가 1이 된다.)\n",
        "\n",
        "테스트 데이터를 정규화할 때 사용한 값이 훈련 데이터에서 계산한 값임을 주목하자. 절대로 테스트 데이터에서 계산한 어떤 값도 사용해서는 안된다."
      ],
      "metadata": {
        "id": "m3PGwPyquXNv"
      }
    },
    {
      "cell_type": "code",
      "source": [
        "# Code 2-2 Regularize Data\n",
        "mean = train_data.mean(axis=0)\n",
        "train_data -= mean\n",
        "std = train_data.std(axis=0)\n",
        "train_data /= std\n",
        "\n",
        "test_data -= mean\n",
        "test_data /= std"
      ],
      "metadata": {
        "id": "euu4UErUuVkB"
      },
      "execution_count": 11,
      "outputs": []
    },
    {
      "cell_type": "markdown",
      "source": [
        "훈련하는 동안 모니터링을 위해 **평균 절대 오차**(Mean Absolute Error, MAE)를 측정해준다. <br>\n",
        "이는 예측과 타깃 사이 거리의 절댓값이다. <br>\n",
        "$e.g.$ 본 예제에서 MAE가 0.5면 예측이 평균적으로 500달러 정도 차이가 난다는 뜻"
      ],
      "metadata": {
        "id": "_VJVLCjjwo4i"
      }
    },
    {
      "cell_type": "code",
      "source": [
        "# Code 2-3 Define model\n",
        "from keras import models\n",
        "from keras import layers\n",
        "\n",
        "def build_model(): # 동일한 모델을 여러 번 생성할 것이기 때문에 함수를 만들어서 사용해준다.\n",
        "  model = models.Sequential()\n",
        "  model.add(layers.Dense(64, activation = 'relu',\n",
        "                         input_shape=(train_data.shape[1],)))\n",
        "  model.add(layers.Dense(64, activation = 'relu'))\n",
        "  model.add(layers.Dense(1)) # 회귀 분석이므로 activation function은 항등 함수 사용 또는 사용 x\n",
        "  model.compile(optimizer = 'rmsprop', loss='mse', metrics=['mae'])\n",
        "  return model"
      ],
      "metadata": {
        "id": "-2DmYQIAvpiP"
      },
      "execution_count": 12,
      "outputs": []
    },
    {
      "cell_type": "markdown",
      "source": [
        "데이터셋 크기가 작기 때문에 검증 세트의 분할에 따라 검증 점수의 분산이 높게 나올 수 있다. 이렇게 되면 신뢰 있는 모델 평가를 할 수 없게 된다. <br>\n",
        "따라서 **K-겹 교차 검증**(K-fold cross-validation)을 사용해준다. <br>\n",
        "$i.g.$ 데이터를 $K$개의 분할(fold)로 나누고(일반적으로 $K=4 \\;또는\\; 5$), $K$개의 모델을 각각 만들어 $K-1$개의 분할에서 훈련하고 나머지 분할에서 평가하는 방법이다. <br>\n",
        "모델의 검증 점수는 $K$개의 검증 점수 **평균**이 된다."
      ],
      "metadata": {
        "id": "RDk2s_7Hw_dp"
      }
    },
    {
      "cell_type": "code",
      "source": [
        "# Code 2-4 Validate K-fold\n",
        "import numpy as np\n",
        "\n",
        "k = 4\n",
        "num_val_samples = len(train_data) // k\n",
        "num_epochs = 100\n",
        "all_scores = []\n",
        "for i in range(k):\n",
        "  print('처리중인 폴드 #', i)\n",
        "  val_data = train_data[i * num_val_samples: (i+1) * num_val_samples]\n",
        "  val_targets = train_targets[i * num_val_samples: (i+1) * num_val_samples]\n",
        "\n",
        "  partial_train_data = np.concatenate(\n",
        "      [train_data[:i * num_val_samples],\n",
        "       train_data[(i+1) * num_val_samples:]], axis = 0)\n",
        "  partial_train_targets = np.concatenate(\n",
        "      [train_targets[:i * num_val_samples],\n",
        "       train_targets[(i + 1) * num_val_samples:]], axis = 0)\n",
        "  \n",
        "  model = build_model()\n",
        "  model.fit(partial_train_data, partial_train_targets,\n",
        "            epochs = num_epochs, batch_size = 1, verbose = 0)\n",
        "  val_mse, val_mae = model.evaluate(val_data, val_targets, verbose = 0)\n",
        "  all_scores.append(val_mae)"
      ],
      "metadata": {
        "colab": {
          "base_uri": "https://localhost:8080/"
        },
        "id": "0D24nuibwUXw",
        "outputId": "e871309b-27ae-41c3-9232-9e2180a542d1"
      },
      "execution_count": 13,
      "outputs": [
        {
          "output_type": "stream",
          "name": "stdout",
          "text": [
            "처리중인 폴드 # 0\n",
            "처리중인 폴드 # 1\n",
            "처리중인 폴드 # 2\n",
            "처리중인 폴드 # 3\n"
          ]
        }
      ]
    },
    {
      "cell_type": "markdown",
      "source": [
        "최종적인 결과는 다음과 같다. <br>\n",
        "검증 세트가 다르므로 확실히 검증 점수의 변화가 큰 것을 알 수 있다. 따라서 평균값이 각각의 점수보다 훨씬 신뢰할 만하다. 이것이 K-겹 교차 검증의 핵심이다."
      ],
      "metadata": {
        "id": "Ah8Kvjpyz5Sg"
      }
    },
    {
      "cell_type": "code",
      "source": [
        "print(all_scores)\n",
        "print(np.mean(all_scores))"
      ],
      "metadata": {
        "colab": {
          "base_uri": "https://localhost:8080/"
        },
        "id": "s-DUO8qr0Egf",
        "outputId": "b1511854-d6b0-439d-c668-f9523f4d980c"
      },
      "execution_count": 14,
      "outputs": [
        {
          "output_type": "stream",
          "name": "stdout",
          "text": [
            "[2.05462384223938, 2.5097315311431885, 2.519540309906006, 2.5357000827789307]\n",
            "2.404898941516876\n"
          ]
        }
      ]
    },
    {
      "cell_type": "markdown",
      "source": [
        "각 에포크마다 모델이 얼마나 개선되는지 기록하기 위해 훈련 루프를 조금 수정해서 에포크의 검증 점수를 로그에 저장해보자. 이번에는 신경망을 조금 더 오래 500 에포크 동안 훈련해보자."
      ],
      "metadata": {
        "id": "pOFUe5v50Sln"
      }
    },
    {
      "cell_type": "code",
      "source": [
        "# Code 2-5 Save the each fold validation score in the log\n",
        "num_epochs = 500\n",
        "all_mae_histories = []\n",
        "for i in range(k):\n",
        "  print('처리중인 폴드 #', i)\n",
        "  val_data = train_data[i * num_val_samples: (i+1) * num_val_samples]\n",
        "  val_targets = train_targets[i * num_val_samples: (i+1) * num_val_samples]\n",
        "\n",
        "  partial_train_data = np.concatenate(\n",
        "      [train_data[:i * num_val_samples],\n",
        "       train_data[(i+1) * num_val_samples:]], axis = 0)\n",
        "  partial_train_targets = np.concatenate(\n",
        "      [train_targets[:i * num_val_samples],\n",
        "       train_targets[(i + 1) * num_val_samples:]], axis = 0)\n",
        "  \n",
        "  model = build_model()\n",
        "  history = model.fit(partial_train_data, partial_train_targets,\n",
        "            validation_data = (val_data, val_targets),\n",
        "            epochs = num_epochs, batch_size = 1, verbose = 0)\n",
        "  mae_history = history.history['val_mae']\n",
        "  all_mae_histories.append(mae_history)"
      ],
      "metadata": {
        "colab": {
          "base_uri": "https://localhost:8080/"
        },
        "id": "TWm0YQGC1Ffj",
        "outputId": "f798d0e1-a112-4b5b-c5b0-921c2c5cce22"
      },
      "execution_count": 15,
      "outputs": [
        {
          "output_type": "stream",
          "name": "stdout",
          "text": [
            "처리중인 폴드 # 0\n",
            "처리중인 폴드 # 1\n",
            "처리중인 폴드 # 2\n",
            "처리중인 폴드 # 3\n"
          ]
        }
      ]
    },
    {
      "cell_type": "markdown",
      "source": [
        "이제 모든 폴드에 대해 에포크의 MAE 점수 평균을 계산해준다."
      ],
      "metadata": {
        "id": "RT8AespY2hcZ"
      }
    },
    {
      "cell_type": "code",
      "source": [
        "# Code 2-6 Record the average of K-fold cross validation score\n",
        "average_mae_history = [np.mean([x[i] for x in all_mae_histories]) for i in range(num_epochs)]"
      ],
      "metadata": {
        "id": "s4vSMwo90dCo"
      },
      "execution_count": 16,
      "outputs": []
    },
    {
      "cell_type": "markdown",
      "source": [
        "이제 검증 점수를 그래프로 그려보자."
      ],
      "metadata": {
        "id": "KFWI8X0V2yO2"
      }
    },
    {
      "cell_type": "code",
      "source": [
        "# Code 2-7 Draw the validation score graph\n",
        "import matplotlib.pyplot as plt\n",
        "\n",
        "plt.plot(range(1, len(average_mae_history) + 1), average_mae_history)\n",
        "plt.xlabel('Epochs')\n",
        "plt.ylabel('Validation MAE')\n",
        "plt.show()"
      ],
      "metadata": {
        "colab": {
          "base_uri": "https://localhost:8080/",
          "height": 279
        },
        "id": "Sb_QYEcL21Zb",
        "outputId": "f929d9fd-b47f-4dc5-c58c-d591bef8e3f6"
      },
      "execution_count": 17,
      "outputs": [
        {
          "output_type": "display_data",
          "data": {
            "image/png": "[encoded data removed]",
            "text/plain": [
              "<Figure size 432x288 with 1 Axes>"
            ]
          },
          "metadata": {
            "needs_background": "light"
          }
        }
      ]
    },
    {
      "cell_type": "markdown",
      "source": [
        "해당 그래프는 범위가 크고 변동이 심하기 때문에 가독성이 좋게 바꿔준다.\n",
        "\n",
        "* 곡선의 다른 부분과 스케일이 많이 다른 첫 10개의 데이터 포인트를 제외시켜준다.\n",
        "* 부드러운 곡선을 얻기 위해 각 포인트를 이전 포인트의 **지수 이동 평균**(exponential moving average)으로 대체해준다."
      ],
      "metadata": {
        "id": "0qKy8vPp3WTX"
      }
    },
    {
      "cell_type": "code",
      "source": [
        "# Code 2-8 Draw the validation score excluding first data point of 10\n",
        "def smooth_curve(points, factor = 0.9):\n",
        "  smoothed_points = []\n",
        "  for point in points:\n",
        "    if smoothed_points:\n",
        "      previous = smoothed_points[-1]\n",
        "      smoothed_points.append(previous * factor + point * (1-factor))\n",
        "    else:\n",
        "      smoothed_points.append(point)\n",
        "  return smoothed_points\n",
        "\n",
        "smooth_mae_history = smooth_curve(average_mae_history[10:])\n",
        "\n",
        "plt.plot(range(1, len(smooth_mae_history) + 1), smooth_mae_history)\n",
        "plt.xlabel('Epochs')\n",
        "plt.ylabel('Validation MAE')\n",
        "plt.show()"
      ],
      "metadata": {
        "colab": {
          "base_uri": "https://localhost:8080/",
          "height": 282
        },
        "id": "wgyOJVWU3klw",
        "outputId": "e6b1f6b2-fec9-4aa2-c540-a865bf5c8f7b"
      },
      "execution_count": 18,
      "outputs": [
        {
          "output_type": "display_data",
          "data": {
            "image/png": "[encoded data removed]",
            "text/plain": [
              "<Figure size 432x288 with 1 Axes>"
            ]
          },
          "metadata": {
            "needs_background": "light"
          }
        }
      ]
    },
    {
      "cell_type": "markdown",
      "source": [
        "위 그래프를 보면 검증 MAE가 80번째 에포크 이후에 줄어드는 것이 멈추었습니다. 이 지점 이후로는 과적합이 시작됩니다.\n",
        "\n",
        "모델의 여러 매개변수에 대한 튜닝이 끝나면 모든 훈련 데이터를 사용하고 최상의 매개변수로 최종 실전에 투입될 모델을 훈련시킬 수 있습니다.\n",
        "\n",
        "그 다음 테스트 데이터로 성능을 확인해줍니다."
      ],
      "metadata": {
        "id": "Nl7_vqoV5MQk"
      }
    },
    {
      "cell_type": "code",
      "source": [
        "# Code 2-9 Train the final model\n",
        "model = build_model()\n",
        "model.fit(train_data, train_targets,\n",
        "          epochs = 80, batch_size = 16, verbose = 0)\n",
        "test_mae_score, test_mae_score = model.evaluate(test_data, test_targets)"
      ],
      "metadata": {
        "colab": {
          "base_uri": "https://localhost:8080/"
        },
        "id": "NIWyfj8w5bO5",
        "outputId": "1d9339ae-a7f3-4377-ac87-c89a7dd1da70"
      },
      "execution_count": 19,
      "outputs": [
        {
          "output_type": "stream",
          "name": "stdout",
          "text": [
            "4/4 [==============================] - 0s 3ms/step - loss: 20.3879 - mae: 2.7662\n"
          ]
        }
      ]
    },
    {
      "cell_type": "markdown",
      "source": [
        "최종 결과는 다음과 같습니다."
      ],
      "metadata": {
        "id": "GpctRRQr5q0v"
      }
    },
    {
      "cell_type": "code",
      "source": [
        "test_mae_score"
      ],
      "metadata": {
        "colab": {
          "base_uri": "https://localhost:8080/"
        },
        "id": "9Cmkwg775s7n",
        "outputId": "cfec6409-1d18-4c72-fe84-c9074c9af6f0"
      },
      "execution_count": 20,
      "outputs": [
        {
          "output_type": "execute_result",
          "data": {
            "text/plain": [
              "2.7661712169647217"
            ]
          },
          "metadata": {},
          "execution_count": 20
        }
      ]
    },
    {
      "cell_type": "markdown",
      "source": [
        "## 2.6 입력 계층"
      ],
      "metadata": {
        "id": "MPiKL51vjE4D"
      }
    },
    {
      "cell_type": "markdown",
      "source": [
        "입력 계층은 입력 데이터를 벡터 형태로 받아서 다음 계층에 전달하는 역할을 한다. <br>\n",
        "따라서 입력 데이터가 크기가 $n$개인 벡터라면 입력 계층은 $n$개의 뉴런으로 정의된다."
      ],
      "metadata": {
        "id": "bEBn9f_4jGrN"
      }
    },
    {
      "cell_type": "markdown",
      "source": [
        "## 2.7 활성 함수"
      ],
      "metadata": {
        "id": "MLpY-ExejRhO"
      }
    },
    {
      "cell_type": "markdown",
      "source": [
        "은닉 계층을 설계할 때 선택할 수 있는 활성 함수는 매우 다양하다. <br>\n",
        "활성 함수는 크게 <font color='#ff6f61'>S자형 곡선 형태</font>의 **시그모이드**(sigmoidal)계열과 <font color='#ff6f61'>구간 선형 함수로</font> 정의되는 **ReLU**(Rectified Linear Unit)계열로 구분할 수 있다.\n",
        "\n",
        "* 시그모이드 계열: 시그모이드(sigmoid), 하이퍼볼릭 탄젠트(tanh:hyperbolic tangent)\n",
        "* ReLU 계열: ReLu, 리키 ReLU(Leaky ReLU), 맥스아웃(Maxout), ELU\n",
        "\n",
        "<img width=550 src=https://user-images.githubusercontent.com/48666867/146879281-bb558617-0050-4b24-b71f-a0f2b05d8689.png>\n",
        "\n",
        "Ref. https://medium.com/@kmkgabia\n",
        "\n",
        "**ReLU 계열**은 <font color='#ff6f61'>선형성</font>을 갖고 있어서 <font color='#ff6f61'>연산 속도가 매우 빠르고 학습 과정을 안정적으로</font> 만들어준다. 따라서 은닉 계층에서는 ReLU 계열을 활성 함수로 사용하는 것이 좋다.\n",
        "\n",
        "**시그모이드 계열**은 <font color='#ff6f61'>연산 속도도 느리고 **그레디언트 소실**의 원인</font>이 되어 신경망 학습에는 좋지 않지만, 값을 고정 범위로 만들어주는 **스쿼싱**(squashing)기능이 필요한 구조에서 다양하게 활용된다."
      ],
      "metadata": {
        "id": "9ovxsBxYjTk9"
      }
    },
    {
      "cell_type": "markdown",
      "source": [
        "### 2.7.1 계단 함수"
      ],
      "metadata": {
        "id": "sywnYe59lzTA"
      }
    },
    {
      "cell_type": "markdown",
      "source": [
        "계단 함수(step function)는 매컬러-피츠 모델과 **퍼셉트론**에서 사용된 활성 함수로 생체 뉴런의 발화 방식을 모방해서 만든 것이다.\n",
        "\n",
        "**뉴런의 활성과 비활성 상태를 숫자 1과 0으로 표현**한다. 그래서 <font color='#ff6f61'>입력값이 0보다 크면 1을 출력하고 0보다 작으면 0을 출력</font>한다.\n",
        "\n",
        "$$f(x)=\\begin{cases}1 \\;\\; if \\;\\;x\\gt0 \\\\ 0 \\;\\; 그 \\;외의 \\;경우 \\end{cases}$$\n",
        "\n",
        "<img src=\"https://i.imgur.com/Pbf8B4B.png\" width=\"350\">\n",
        "\n",
        "계단 함수는 현대의 신경망에서는 사용할 수 없다. <br>\n",
        "그 이유는 <font color='#ff6f61'>**모든 구간에서 미분값이 0**</font>이기 때문에 미분을 이용해서 학습하는 역전파 알고리즘에 적용할 경우 학습이 진행되지 않는다. <br>\n",
        "그래서 역전파 알고리즘을 만들 당시 계단 함수를 대체할 **미분 가능한 함수**가 필요햇고 그 결과 찾아낸 활성 함수가 **부드러운 계단 함수 모양인 시그모이드 함수**이다."
      ],
      "metadata": {
        "id": "-TYyMlHsl1yr"
      }
    },
    {
      "cell_type": "markdown",
      "source": [
        "### 2.7.2 시그모이드 함수"
      ],
      "metadata": {
        "id": "SjGzi9DqppkP"
      }
    },
    {
      "cell_type": "markdown",
      "source": [
        "시그모이드는 아래 그래프와 같은 S자 형태의 함수이다. 계단 함수와 같이 <font color='#ff6f61'>**함숫값의 범위도 [0,1]사이**</font>이다. <br>\n",
        "<font color='#ff6f61'>**모든 구간에서 미분할 수 있고 증가함수이므로 미분값이 항상 양수**</font>이다.\n",
        "\n",
        "$$f(x)=\\frac{1}{1+e^{-x}}$$\n",
        "\n",
        "<img src=\"https://i.imgur.com/W884y3K.png\" width=\"400\">\n",
        "\n",
        "시그모이드는 함수에는 몇 가지 문제점이 존재한다.\n",
        "* 함수 정의에 <font color='#ff6f61'>**지수 함수**</font>가 포함되어 있어서 <font color='#ff6f61'>연산 비용이 많이 든다</font>.\n",
        "* <font color='#ff6f61'>**그레디언트 포화**가 발생해서 학습이 중단</font>될 수 있다.\n",
        "* <font color='#ff6f61'>양수만 출력</font>하므로 <font color='#ff6f61'>**학습 경로가 진동**</font>하면서 학습 속도가 느려진다.\n",
        "\n",
        "<font color='#ff6f61'>**그레디언트 포화**</font>(gradient saturation)란 시그모이드 함수 끝부분에서 <font color='#ff6f61'>**미분값이 0으로 포화**되는 상태</font>를 말한다. <br>\n",
        "함수에서 **포화**란 <font color='#ff6f61'>입력값이 변화해도 함숫값이 변화하지 않는 상태</font>를 말한다.\n",
        "\n",
        "다음 그림에서 파란색 실선의 시그모이드 함수와 빨간색 점선의 도함수가 있다. 시그모이드 도함수 양쪽 끝에서 함숫값이 0과 1로 포화하기 때문에 미분값도 0으로 포화한다. <br>\n",
        "**그레디언트가 0으로 포화**하면 <font color='#ff6f61'>**그레디언트 소실</font>로 학습이 진행되지 않는다.**\n",
        "\n",
        "<img width=600 src=https://user-images.githubusercontent.com/48666867/146883182-bce7d1fc-e777-4d18-ba93-1d24a7d8b666.png>\n",
        "\n",
        "Ref. velog.io/@weoqpur\n",
        "\n",
        "한편 시그모이드의 출력은 항상 **양수**이기 때문에 학습 시 <font color='#ff6f61'>**최적화 경로가 최적해를 향해 곧바로 가지 못하고 좌우로 진동</font>하면서 비효율적**으로 가게 된다."
      ],
      "metadata": {
        "id": "lwbo-zsFptaU"
      }
    },
    {
      "cell_type": "markdown",
      "source": [
        "### 2.7.3 하이퍼볼릭 탄젠트 함수"
      ],
      "metadata": {
        "id": "6RZO40y2uFn4"
      }
    },
    {
      "cell_type": "markdown",
      "source": [
        "하이퍼볼릭 탄젠트(tanh:hyperbolic tangent)는 <font color='#ff6f61'>함숫값이 [-1,1] 범위</font>에 있는 S형 함수이다. <br>\n",
        "시그모이드는 항상 양수만을 출력하기 때문에 최적화가 비효율적으로 진행되는 문제를 해결하고자 쓰이기 시작했다.\n",
        "\n",
        "$$f(x)=\\frac{e^x-e^{-x}}{e^x+e^{-x}}$$\n",
        "<br>\n",
        "<img width=350 src=https://user-images.githubusercontent.com/48666867/146884028-f937e38b-ad05-4ec8-a6c0-28783cf47b3e.png>\n",
        "\n",
        "Ref. https://gooopy.tistory.com/54\n",
        "\n",
        "하이퍼볼릭 탄젠트 함수는 시그모이드 함수 $\\sigma(x)$ 의 선형 변환식으로 나타낼 수 있다. <br>\n",
        "\n",
        "$$tanh(x)=2\\sigma(2x)-1$$\n",
        "<br>\n",
        "그렇기 때문에 몇 가지 시그모이드 함수의 문제점이 그대로 남아 있다.\n",
        "* 함수 정의에 지수 함수가 포함되어 있어서 연산 비용이 많이 든다.\n",
        "* 그레디언트 포화가 발생해서 학습이 중단될 수 있다.\n",
        "\n",
        "<img width=550 src=https://user-images.githubusercontent.com/48666867/146884786-0fa6d15c-ef2e-4a77-96af-d689825ebdcc.png>"
      ],
      "metadata": {
        "id": "bX9KXoCNuSvs"
      }
    },
    {
      "cell_type": "markdown",
      "source": [
        "### 2.7.4 ReLU 함수"
      ],
      "metadata": {
        "id": "EvfQuWEcwjNz"
      }
    },
    {
      "cell_type": "markdown",
      "source": [
        "ReLU(Rectified Liner Unit)는 0보다 큰 입력이 들어오면 그대로 통과시키고 0보다 작은 입력이 들어오면 0을 출력하는 함수이다. 따라서 <font color='#ff6f61'>**입력값이 양수인 경우에만 활성 상태**</font>가 된다. <br>\n",
        "(두 표기 모두 같은 의미이다.)\n",
        "\n",
        "$$f(x)=\\begin{cases}x \\;\\; if \\;x\\gt 0\\\\ 0 \\;\\; 그 \\;외의 \\;경우 \\end{cases}$$\n",
        "$$f(x) = \\max(0, x)$$\n",
        "\n",
        "\n",
        "<img src=\"https://i.imgur.com/HuorFwZ.png\" width=\"450\">"
      ],
      "metadata": {
        "id": "d6eslESiyin8"
      }
    },
    {
      "cell_type": "markdown",
      "source": [
        "#### ReLU는 왜 빠를까?\n",
        "\n",
        "ReLU를 사용했을 때 시그모이드 계열보다 추론이 빨라지는 이유는 <font color='#ff6f61'>**연산이 거의 없기 때문**</font>이다. <br>\n",
        "양수 구간은 값을 그대로 통과시키므로 연산이 필요 없고 음수 구간도 0을 출력하므로 연산이 발생하지 않는다. <br>\n",
        "또한 음수 구간의 데이터가 0이 되면서 데이터가 희소(sparse)해져서 추가 연산량이 줄어든다.\n",
        "\n",
        "\n",
        "---\n",
        "✨데이터가 희소하다는 표현은 값이 대부분 0인 경우를 말한다.\n"
      ],
      "metadata": {
        "id": "DKUc8C9g08sb"
      }
    },
    {
      "cell_type": "markdown",
      "source": [
        "또한 학습이 빨라지는 이유는 <font color='#ff6f61'>**미분을 계산할 필요가 없기 때문**</font>이다. <br>\n",
        "ReLU는 양수 구간에서 미분값이 1이고 음수 구간에서 0이다. 따라서 미분을 계산할 필요가 없으므로 시그모이드 계열보다 6배 정도 학습이 빨라진다. <br>\n",
        "또한 ReLU는 양수 구간이 <font color='#ff6f61'>**선형함수**</font>이기 때문에 **그레디언트 소실이 생기지 않으므로 안정적으로 학습할 수 있다.**"
      ],
      "metadata": {
        "id": "I93uvgL910vG"
      }
    },
    {
      "cell_type": "markdown",
      "source": [
        "#### 죽은 ReLU\n",
        "\n",
        "ReLU에도 몇 가지 단점이 존재한다.\n",
        "* 양수만 출력하므로 학습 경로가 진동하면서 학습 속도가 느려진다.\n",
        "* 죽은 ReLU가 발생하면 학습이 진행되지 않을 수 있다.\n",
        "\n",
        "<font color='#ff6f61'>**죽은 ReLU**</font>(dead ReLU)는 <font color='#ff6f61'>**뉴런이 계속 0을 출력하는 상태**</font>를 말한다. <br>\n",
        "**뉴런이 0을 출력하면 그레디언트도 0이 되어 뉴런이 더 학습하지 않고 같은 값을 출력하게 된다.**\n",
        "\n",
        "죽은 ReLU는 **가중치 초기화를 잘못**했거나 **학습률이 매우 클 때** 발생할 수 있다. 뉴런의 10~20%가 죽은 ReLU가 되면 학습에 문제가 될 수 있다.\n",
        "\n",
        "<img width=400 src=https://user-images.githubusercontent.com/48666867/146888948-8727f224-79f8-496b-82b0-43e271aba23a.png>\n",
        "\n",
        "Ref. medium.com/@shubham.deshmukh705\n"
      ],
      "metadata": {
        "id": "jx79nx-E34GC"
      }
    },
    {
      "cell_type": "markdown",
      "source": [
        "### 2.7.5 릭키 ReLU, PReLU, ELU 함수"
      ],
      "metadata": {
        "id": "nYKQRLgq5GCw"
      }
    },
    {
      "cell_type": "markdown",
      "source": [
        "죽은 ReLU 문제를 해결하려면 **음수 구간이 0이 되지 않도록 약간의 기울기를 주면 된다.** <br>\n",
        "**릭키 ReLU**(Leaky ReLU)가 이런 방식을 취하는데, 음수 구간에 기울기를 주면 <font color='#ff6f61'>작은 그레디언트</font>가 생겨서 학습 속도가 빨라지게 된다. <br>\n",
        "\n",
        "다만 릭키 ReLU는 <font color='#ff6f61'>기울기가 **고정**</font>되어 있기 때문에 최적의 성능을 내지 못할 수 있다. <br>\n",
        "그래서 기울기를 <font color='#ff661'>**학습**</font>하도록 만든 방식이 **PReLU**(parametric ReLU)이다. PReLU를 사용하면 뉴런별로 기울기를 학습하므로 성능이 개선된다.<br>\n",
        "릭키 ReLU의 식은 아래와 같다.\n",
        "\n",
        "$$f(x)=\\begin{cases}x \\quad\\;\\;\\; if\\; x\\gt 0\\\\0.01x \\;\\; 그\\;외의 \\;경우\\end{cases}$$\n",
        "\n",
        "<img width=400 src=https://user-images.githubusercontent.com/48666867/146889910-93dfed2a-04f5-468d-8636-b5ce2829fa21.png>\n",
        "\n",
        "Ref. intelliz\n",
        "\n",
        "릭키 ReLU나 PReLU는 **음수 구간이 직선이므로 기울기가 작더라도 큰 음숫값이 들어오면 출력값이 $-\\infty$ 로 발산**할 수 있다. <br>\n",
        "\n",
        "이에 반해 **ELU**(Exponential Linear Units)는 음수 구간이 <font color='#ff6f61'>$a(e^x-1)$</font> 와 같이 지수 함수 형태로 정의되어 $x$값이 음수 방향으로 커지더라도 함숫값이 0에 가까운 일정한 음숫값으로 포화한다. <br>\n",
        "따라서 **아주 큰 음숫값이 입력되더라도 함숫값이 커지지 않으므로 노이즈에 민감해지지 않는다.**\n",
        "<br><br>\n",
        "\n",
        "$$f(x)=\\begin{cases}\\quad \\;\\;x \\quad\\quad if\\;x\\gt0\\\\a(e^x-1) \\;\\; 그 \\;외의\\;경우\\end{cases}$$\n",
        "\n",
        "<img width=400 src=https://user-images.githubusercontent.com/48666867/146891121-2428123b-5b8d-4249-bb73-d1e9a4e54dbb.png>\n",
        "\n",
        "Ref. datascience.stackexchange/@Blaszard\n",
        "\n"
      ],
      "metadata": {
        "id": "glCHkpTE5USO"
      }
    },
    {
      "cell_type": "markdown",
      "source": [
        "### 2.7.6 맥스아웃 함수"
      ],
      "metadata": {
        "id": "wTYSU9cc94Yx"
      }
    },
    {
      "cell_type": "markdown",
      "source": [
        "**맥스아웃**(Maxout)은 활성 함수를 <font color='#ff6f61'>구간 선형 함수</font>(piecewise linear function)로 가정하고, **각 뉴런에 최적화된 활성 함수를 학습을 통해 찾아낸다.**\n",
        "\n",
        "뉴런별로 선형 함수를 여러 개 학습한 뒤에 최댓값을 취하면 다음 그림과 같은 빨간 선 모양의 활성 함수를 구할 수 있다. 맥스아웃은 ReLU의 일반화된 형태라고 할 수 있으며 성능이 뛰어나다.\n",
        "\n",
        "$$f(x)=max(w_i^Tx+b_i), i=1,2,...,k\\\\k:\\;선형구간의\\;개수$$\n",
        "\n",
        "<img width=400 src=https://user-images.githubusercontent.com/48666867/146892739-3c2d00b5-428c-4c2a-a0e1-e7408f9a4fc6.png>\n",
        "\n",
        "Ref. towardsdatascience"
      ],
      "metadata": {
        "id": "qPzFkHvT96qY"
      }
    },
    {
      "cell_type": "markdown",
      "source": [
        "#### 맥스아웃 유닛 구조\n",
        "\n",
        "맥스아웃 활성 함수를 학습하기 위해 뉴런을 확장한 구조를 **맥스아웃 유닛**(Maxout unit)이라고 한다. <br>\n",
        "맥스아웃 유닛은 선형 함수를 학습하는 선형 노드(linear node)와 최댓값을 출력하는 노드로 구성된다.\n",
        "\n",
        "<img width=400 src=https://user-images.githubusercontent.com/48666867/146893107-246ddc80-d38f-4a8a-a002-6aaaa3f28625.png>\n",
        "\n",
        "Ref. https://medium.com/@rahuljain13101999\n",
        "\n",
        "맥스아웃 유닛은 선형 노드 $Z_1\\dotsb Z_n$와 최댓값을 출력하는 $h(x)$ 노드로 구성된다. <br>\n",
        "따라서 $n$개의 선형 함수를 학습해서 $n$ 구간으로 정의되는 구간 선형 함수를 만든다."
      ],
      "metadata": {
        "id": "uth3wRwEAImG"
      }
    },
    {
      "cell_type": "markdown",
      "source": [
        "#### 볼록 함수 근사 능력\n",
        "\n",
        "맥스아웃은 선형 노드의 개수에 따라 다른 형태의 **볼록 함수**(convex function)를 근사할 수 있다.\n",
        "\n",
        "선형 노드가 2개면 ReLU와 절댓값 함수를 근사할 수 있고 선형 노드가 5개면 2차 함수를 근사할 수 있다.\n",
        "\n",
        "선형 노드가 많아질수록 좀 더 부드러운 곡선 형태의 활성 함수를 학습할 수 있지만, 맥스아웃 유닛에 사용되는 파라미터 수가 노드의 개수에 비례해서 증가하므로 선형 노드를 제한적으로 늘려줘야 한다.\n",
        "\n",
        "<img width=600 src=https://user-images.githubusercontent.com/48666867/146894350-9b3c08ed-5d14-4a13-b9e4-0b9342cc42f9.png>\n",
        "\n",
        "Ref. https://medium.com/@rahuljain13101999"
      ],
      "metadata": {
        "id": "uBfuKF7TBfPV"
      }
    },
    {
      "cell_type": "markdown",
      "source": [
        "### 2.7.7 Swish 함수"
      ],
      "metadata": {
        "id": "9pzEuYnmC3fP"
      }
    },
    {
      "cell_type": "markdown",
      "source": [
        "**Swish**는 구글 브레인의 AutoML로 찾은 최적의 활성 함수로 SiLU(sigmoid linear unit)라고 불리기도 한다.<br>\n",
        "Swish함수는 선형 함수 $x$와 시그모이드 $\\sigma(x)$의 곱인 $f(x)=x\\centerdot \\sigma(x)$으로 정의된다.<br>\n",
        "ReLU나 ELU와 비슷한 모양이지만 **원점 근처의 음수 구간에서 잠시 볼록 튀어나왔다가 다시 0으로 포화하는 곡선 모양**을 하고 있다.\n",
        "\n",
        "<img width=400 src=https://user-images.githubusercontent.com/48666867/146894975-96ebe5cd-e21a-4c2a-91f9-91e601a53463.png>\n",
        "\n",
        "Ref. https://eehoeskrap.tistory.com/440\n",
        "\n",
        "최근에 나온 **SELU**(scaled exponential liner units)나 **GELU**(Gaussian error linear units)와 같은 ReLU 계열의 활성함수들도 Swish와 매우 유사한 모양을 하고 있다.\n"
      ],
      "metadata": {
        "id": "WY-pfh2VC7DX"
      }
    },
    {
      "cell_type": "markdown",
      "source": [
        "## 2.8 신경망 모델의 크기"
      ],
      "metadata": {
        "id": "fcWIlL5FSu-n"
      }
    },
    {
      "cell_type": "markdown",
      "source": [
        "신경망 모델의 크기는 **너비**(width)와 **깊이**(depth)로 정해진다. <br>\n",
        "너비는 '<font color='#ff6f61'>계층별 뉴런 수</font>'를 의미하고, 깊이는 '<font color='#ff6f61'>계층 수</font>'를 의미한다.\n",
        "\n",
        "<img width=350 src=https://user-images.githubusercontent.com/48666867/146905054-0766f453-243c-472c-8396-a9cc955d7b6c.jpg>\n",
        "\n",
        "Ref. Deep learning textbook\n",
        "\n",
        "<font color='6666ff'>데이터가 특징이 많고 데이터 간의 관계가 복잡할수록</font> 특징을 학습하는 <font color='6666ff'>**뉴런 수**</font>를 늘려줘야 하고, <font color='#ff6f61'>특징의 추상화 수준이 높을수록</font> 추상화를 수행하는 <font color='#ff6f61'>**계층의 수**</font>를 늘려줘야 한다.\n",
        "\n",
        "적절한 모델의 크기를 찾기 위해서는 경험적으로 크기의 범위를 정하고 **성능 분석을 통해 최적의 크기를 탐색**해 나가야 한다."
      ],
      "metadata": {
        "id": "vSYmkzhESxHD"
      }
    },
    {
      "cell_type": "markdown",
      "source": [
        "### 2.8.1 모델 크기 탐색"
      ],
      "metadata": {
        "id": "0FlEYUltUjNL"
      }
    },
    {
      "cell_type": "markdown",
      "source": [
        "신경망 모델의 크기를 탐색할 때는 <font color='#ff6f61'>**그리드 서치**</font>(grid search)나 <font color='#ff6f61'>**랜덤 서치**</font>(random search)와 같은 탐색 방법을 사용한다.\n",
        "\n",
        "* 그리드 서치: 파라미터별로 구간을 정해서 <font color='#ff6f61'>등간격</font>으로 값을 샘플링하는 방법\n",
        "* 랜덤 서치: 여러 파라미터를 조합해서 <font color='#ff6f61'>랜덤</font>하게 값을 샘플링하는 방법\n",
        "\n",
        "아래의 그림과 같이 랜덤 서치와 그리드 서치를 했을 때 샘플링된 파라미터값을 빨간색 점으로 표현했을 때, 두 방식 모두 9개의 값을 샘플링했지만, 그리드 서치는 파라미터별로 3개씩 값이 정해졌고 랜덤 서치는 9개씩 값이 정해졌다. <br>\n",
        "$i.g.$ 랜덤 서치가 더 골고루 테스트할 수 있기 때문에 그리드 서치보다 성능이 좋다.\n",
        "\n",
        "<img width=400 src=https://user-images.githubusercontent.com/48666867/146906988-fa1f7a3d-b1a5-44ae-96e7-82d1bddff36e.JPG>\n",
        "\n",
        "Ref. Deep learning textbook\n",
        "\n",
        "최근에는 네트워크 구조 탐색 방법인 **NAS**(network architecture search)와 같은 <font color='#ff6f61'>자동 모델 탐색 방법</font>을 활용하기도 한다."
      ],
      "metadata": {
        "id": "CgbsSYiiUlre"
      }
    },
    {
      "cell_type": "markdown",
      "source": [
        "## 2.9 신경망 학습 관련 내용"
      ],
      "metadata": {
        "id": "irXQfo0VW_xt"
      }
    },
    {
      "cell_type": "markdown",
      "source": [
        "### 2.9.1 시그모이드 함수와 크로스 엔트로피 손실"
      ],
      "metadata": {
        "id": "Idmdkn0xXcfN"
      }
    },
    {
      "cell_type": "markdown",
      "source": [
        "시그모이드 함수는 분모에 지수 항이 있기 때문에 함수의 양 끝부분에서 그레디언트 포화가 발생하고 그로 인해 학습이 중단될 수 있다. 다만 **시그모이드 함수를 출력 계층에 사용**할 때 <font color='#ff6f61'>**크로스 엔트로피 손실**</font>을 사용하면 일부 구간에서 그레디언트 포화가 생기지 않게 만들 수 있다.\n",
        "\n",
        "이진 분류 모델에서 이진 크로스 엔트로피 손실 함수를 사용했을 때 시그모이드 함수가 어떻게 바뀌는지 확인해보자.\n",
        "\n",
        "이진 분류 모델에서 이진 크로스 엔트로피 손실 함수는 다음과 같이 정의된다.\n",
        "\n",
        "$$J(\\theta)=\\displaystyle -\\sum_{i=1}^{N}t_i\\centerdot log\\mu(x_i;\\theta)+(1-t_i)\\centerdot log(1-\\mu(x_i;\\theta))$$\n",
        "\n",
        "$t_i=1$인 경우에 이진 크로스 엔트로피는 $J(\\theta)=-log(\\mu(x;\\theta))$로 정의되므로 다음과 같이 식을 풀어볼 수 있다.\n",
        "\n",
        "$$J(\\theta)=-log(\\mu(x;\\theta))\\\\ =-log(\\sigma(x))\\\\ =-log(\\frac{1}{1+e^{-x}})\\\\ =log(1+e^{-x})\\\\=softplus(-x)$$\n",
        "\n",
        "두번 째 줄에서 모델의 출력 $\\mu(x;\\theta)$ 는 시그모이드 함수 $\\sigma(x)=\\frac{1}{1+e^{-x}}$ 로 대체했고, 마지막 줄은 **소프트플러스**(Softplus)함수로 표현한 식이다.\n",
        "\n",
        "소프트플러스 함수는 다음과 같이 부드러운 곡선 형태의 ReLU 함수와 같다. 그래서 양수 구간에서 그레디언트 포화가 발생하지 않는다.\n",
        "\n",
        "$$softplus(x)=log(1+e^x)$$\n",
        "\n",
        "<img width=400 src=https://user-images.githubusercontent.com/48666867/146909663-7ed42630-9055-4a62-88b1-5409b2f13140.png>\n",
        "\n",
        "Ref. Deep Sparse Rectifier Neural Networks(@paper)\n",
        "\n",
        "시그모이드 함수의 <font color='#ff6f61'>**지수 항**</font>이 크로스 엔트로피의 <font color='#ff6f61'>**로그 함수에 상쇄**</font>되어 소프트플러스 함수 형태로 변환되었다. 따라서 소프트플러스 함수와 같이 양수 구간에서 그레디언트 포화가 발생하지 않는다.\n",
        "\n",
        "이와 같이 분류 모델의 출력 계층에서 소프트맥스와 시그모이드 계열의 활성 함수를 사용할 때 크로스 엔트로피 손실 함수를 같이 사용하면 소프트플러스 함수 형태로 변환되어 학습이 개선될 수 있다.\n",
        "\n",
        "\n",
        "---\n",
        "❗식을 유도하는 부분이 이해가 안되더라도 지수 항이 로그 함수에 상쇄된다는 것만 기억해도 좋다."
      ],
      "metadata": {
        "id": "DW6uoZ1oXfG4"
      }
    },
    {
      "cell_type": "markdown",
      "source": [
        "### 2.9.2 양수만 출력하는 활성 함수의 최적화 문제"
      ],
      "metadata": {
        "id": "jP2ekDB4b71v"
      }
    },
    {
      "cell_type": "markdown",
      "source": [
        "시그모이드나 ReLU와 같이 활성 함수의 출력이 항상 양수이면 학습 경로의 이동 방향이 크게 진동하면서 학습이 느려진다. 이런 현상이 생기는 원인을 살펴보자.\n",
        "\n",
        "먼저 가중치의 최적화 경로를 확인하기 위해 그레디언트 $\\partial J\\over \\partial W$를 계산해보자. <br>\n",
        "여기서 $J$는 손실 함수를 의미하고 $w$는 임의의 뉴런의 가중치이다.\n",
        "\n",
        "가중치의 그레디언트를 다음과 같이 두 개의 항으로 분리할 수 있다.\n",
        "\n",
        "$$\\frac{\\partial J}{\\partial w}=\\frac{\\partial J}{\\partial z} \\centerdot \\frac{\\partial z}{\\partial w}$$\n",
        "\n",
        "이 때 두 번째 항인 $\\frac{\\partial z}{\\partial w}$은 뉴런의 가중 합산 $z=w^Tx+b$를 가중치 $w$에 대해 미분한 지역 미분값으로 $\\frac{\\partial z}{\\partial w}=x$이다. <br>\n",
        "따라서 뉴런의 입력 $x$가 항상 양수라면 가중치에 대한 지역 미분 값 $\\frac{\\partial z}{\\partial w}=x$도 항상 양수가 된다.\n",
        "\n",
        "따라서 $\\frac{\\partial J}{\\partial z}$가 양수이면 그레디언트 $\\frac{\\partial J}{\\partial w}=(\\frac{\\partial J}{\\partial w_1}, \\frac{\\partial J}{\\partial w_2},...,\\frac{\\partial J}{\\partial w_n})$는 모든 차원이 양수가 되고 $\\frac{\\partial J}{\\partial z}$가 음수이면 모든 차원이 음수가 된다.\n",
        "\n",
        "<font color='#6666ff'>**결국 가중치를 업데이트할 때 모든 차원이 양수이거나 음수인 방향으로 이동하게 되어 최적해 방향으로 곧바로 가지 못한다.**</font>\n",
        "\n",
        "<img width=400 src=https://user-images.githubusercontent.com/48666867/146912888-e204c213-9d05-45f3-9b59-389eac5814a1.jpg>\n",
        "\n",
        "Ref. Deep learning textbook"
      ],
      "metadata": {
        "id": "RsSrqsyFb_ZC"
      }
    },
    {
      "cell_type": "markdown",
      "source": [
        "### 2.9.3 죽은 ReLU가 발생하는 이유"
      ],
      "metadata": {
        "id": "DGFb5Saaflzd"
      }
    },
    {
      "cell_type": "markdown",
      "source": [
        "죽은 ReLU는 뉴런이 계속 0을 출력하는 상태를 말한다. 죽은 ReLU는 가중치 초기화를 잘못했거나 학습률이 매우 클 때 발생할 수 있다.<br>\n",
        "예를 들어 가중치 초기화를 잘못해서 뉴런의 입력값이 아주 커졌다고 가정해보자.\n",
        "\n",
        "먼저 가중치를 업데이트할 때 발생하는 상황을 확인하기 위해 그레디언트 $\\frac{\\partial J}{\\partial w}$를 계산해보자.\n",
        "\n",
        "(계산하는 과정은 위와 같다.)\n",
        "\n",
        "최종적으로 $\\frac{\\partial z}{\\partial w}=x$인 것을 알 수 있다.\n",
        "\n",
        "따라서 뉴런의 입력 $x$가 아주 큰 값이면 그레디언트 $\\frac{\\partial J}{\\partial w}$도 커지고 $w^+=w-a\\frac{\\partial J}{\\partial w}$ 로 가중치를 업데이트하면 가중치가 큰 음수로 변한다. <br>\n",
        "가중치가 한번 음수가 되면 다음 입력이 들어왔을 때 가중 합산이 음수가 되므로 ReLU는 0을 출력하고, ReLU의 그레디언트가 0이 되어 학습이 더 진행되지 않고 계속해서 0을 출력하는 상태로 남는다.\n"
      ],
      "metadata": {
        "id": "-pL-IottfquS"
      }
    },
    {
      "cell_type": "markdown",
      "source": [
        "### 2.9.4 미분 불가능한 활성 함수"
      ],
      "metadata": {
        "id": "PWhchkMIhZZL"
      }
    },
    {
      "cell_type": "markdown",
      "source": [
        "<font color='6666ff'>신경망에서 학습하려면 미분 가능한 활성 함수를 사용해야 한다.</font><br>\n",
        "하지만 ReLU와 같은 구간 선형 함수는 구간이 바뀌는 지점에서 미분이 되지 않는다.\n",
        "\n",
        "특정 구간에서 미분이 되지 않는 활성 함수를 사용해도 될까? 답은 '괜찮다'이다. <br>\n",
        "신경망은 <font color='#ff6f61'>**근사 방식**</font>으로 함수를 표현하기 때문에 **약간의 미분 오차를 허용해도 결과에 미치는 영향은 크지 않다**고 본다.\n",
        "\n",
        "<img width=550 src=https://user-images.githubusercontent.com/48666867/146915110-883de047-9825-439b-8bff-e428047dbe7f.png>\n",
        "\n",
        "Ref. https://gomguard.tistory.com/183\n",
        "\n",
        "예를 들어 오른쪽 그림처럼 $x=0$에서 ReLU의 미분값은 우미분 1과 좌미분 0 중 어느 것을 사용해도 상관없다.<br>\n",
        "따라서 활성 함수가 **구간별로 미분 가능한 형태**라면 구간 내에서는 정상적으로 미분을 해서 학습하고, 구간이 변경되는 지점에서는 우미분과 좌미분 중에 하나를 선택해서 학습하면 된다.\n"
      ],
      "metadata": {
        "id": "F9vie9TIhhlV"
      }
    },
    {
      "cell_type": "markdown",
      "source": [
        "## Summary"
      ],
      "metadata": {
        "id": "JYs_tNOXjVfk"
      }
    },
    {
      "cell_type": "markdown",
      "source": [
        "1. <font color='ff9900'>**순방향 신경망**</font>은 뉴런들이 모여 계층을 이루고 그 계층이 쌓여 전체 신경망을 이루는 구조로 되어 있다. 계층은 입력 계층, 은닉 계층, 출력 계층으로 구분되며 모든 계층은 완전히 연결된다.\n",
        "2. <font color='ff9900'>**분류 문제**</font>는 데이터의 클래스를 예측하는 문제로 두 클래스로 분류하면 이진 분류, 여러 클래스로 분류하면 다중 분류라고 한다. 분류 모델을 판별 함수로 정의하면 모델은 입력 데이터가 속한 클래스를 예측하지만, 확률 모델로 정의하면 입력 데이터가 각 클래스에 속할 확률을 예측한다.\n",
        "3. <font color='ff9900'>**회귀 문제**</font>는 여러 독립 변수와 종속 변수의 관계를 연속 함수 형태로 분석하는 문제이다. 회귀 모델은 입력 데이터에 대한 함숫값을 예측하는데, 확률 모델로 정의하면 관측값의 확률분포를 예측한다.\n",
        "4. <font color='ff9900'>**이진 분류**</font> 문제는 동전 던지기를 할 때 앞면과 뒷면이 나올 확률을 예측하는 문제와 같다.\n",
        "5. 이진 분류 모델은 <font color='ff9900'>**베르누이 분포**</font>를 예측하는 모델로 정의할 수 있다.\n",
        "6. <font color='ff9900'>**다중 분류 문제**</font>는 주사위를 굴렸을 때 각 면이 나올 확률을 예측하는 문제와 같다.\n",
        "7. 다중 분류 모델은 <font color='ff9900'>**카테고리 분포**</font>를 예측하는 모델로 정의할 수 있다.\n",
        "8. 회귀 모델은 <font color='ff9900'>**가우시안 분포**</font>를 예측하는 모델로 정의할 수 있다.\n",
        "9. 은닉 계층을 설계할 때 선택할 수 있는 활성 함수는 S자형 곡선 형태의 <font color='ff9900'>**시그모이드**</font> 계열과 구간 선형 함수로 정의되는 <font color='ff9900'>**ReLU**</font> 계열로 구분할 수 있다.\n",
        "10. 시그모이드 계열은 연산 속도가 느리고 <font color='ff9900'>**그레디언트 소실**</font>의 원인을 제공하므로 신경망 학습에는 좋지 않지만, <font color='ff9900'>**스쿼싱**</font> 기능이 필요한 다양한 구조에서 활용된다. 시그모이드 계열에는 <font color='ff9900'>**시그모이드**</font>, <font color='ff9900'>**하이퍼볼릭 탄젠트**</font>가 있다.\n",
        "11. ReLU 계열은 <font color='ff9900'>**선형성**</font>이 있으므로 연산 속도가 매우 빠르고 학습 과정을 안정적으로 만들어준다. ReLU의 <font color='ff9900'>**죽은 ReLU**</font> 문제를 해결하고자 리키 ReLU, PReLU, ELU로 발전했다. 일반화된 ReLU의 형태로서 구간 선형 활성 함수를 학습하는 맥스아웃은 매우 좋은 성능을 보여준다.\n",
        "12. 신경망의 모델의 크기는 '계층의 수'를 나타내는 <font color='ff9900'>**깊이**</font>와 '계층별 뉴런 수'를 나타내는 <font color='ff9900'>**너비**</font>로 말할 수 있다.\n",
        "13. 신경망 모델의 크기를 정할 때는 <font color='ff9900'>**그리드 서치**</font>나 <font color='ff9900'>**랜덤 서치**</font>와 같은 탐색 방법을 사용한다. 최근에는 네트워크 구조 탐색 방법인 NAS와 같은 자동 모델 탐색 방법을 활용하기도 한다.\n",
        "14. <font color='ff9900'>**시그모이드**</font>나 <font color='ff9900'>**ReLU**</font>와 같이 활성 함수의 출력이 항상 양수이면 학습 경로가 크게 진동하고 학습이 느려진다.\n",
        "15. 죽은 ReLU는 뉴런이 계속 0을 출력하는 상태로 <font color='ff9900'>**가중치**</font> 초기화를 잘못했거나 <font color='ff9900'>**학습률**</font>이 매우 클 때 발생할 수 있다."
      ],
      "metadata": {
        "id": "5Vt44-pvjpuX"
      }
    },
    {
      "cell_type": "markdown",
      "source": [
        "## Challenge"
      ],
      "metadata": {
        "id": "JzBxIDSa6PHr"
      }
    },
    {
      "cell_type": "markdown",
      "source": [
        "### 실습 01) MNIST 필기체 숫자 인식하기"
      ],
      "metadata": {
        "id": "mF4XKb3J6TNr"
      }
    },
    {
      "cell_type": "code",
      "source": [
        "# !pip install -q tensorflow-gpu==2.0.0-rc1\n",
        "import tensorflow as tf"
      ],
      "metadata": {
        "colab": {
          "base_uri": "https://localhost:8080/"
        },
        "id": "3FgQ5_5N6192",
        "outputId": "820567c1-e83e-4577-ae47-fc2f71a07cd9"
      },
      "execution_count": 21,
      "outputs": [
        {
          "output_type": "stream",
          "name": "stdout",
          "text": [
            "\u001b[31mERROR: Could not find a version that satisfies the requirement tensorflow-gpu==2.0.0-rc1 (from versions: 1.13.1, 1.13.2, 1.14.0, 1.15.0, 1.15.2, 1.15.3, 1.15.4, 1.15.5, 2.0.0, 2.0.1, 2.0.2, 2.0.3, 2.0.4, 2.1.0, 2.1.1, 2.1.2, 2.1.3, 2.1.4, 2.2.0, 2.2.1, 2.2.2, 2.2.3, 2.3.0, 2.3.1, 2.3.2, 2.3.3, 2.3.4, 2.4.0, 2.4.1, 2.4.2, 2.4.3, 2.4.4, 2.5.0, 2.5.1, 2.5.2, 2.6.0, 2.6.1, 2.6.2, 2.7.0rc0, 2.7.0rc1, 2.7.0)\u001b[0m\n",
            "\u001b[31mERROR: No matching distribution found for tensorflow-gpu==2.0.0-rc1\u001b[0m\n"
          ]
        }
      ]
    },
    {
      "cell_type": "code",
      "source": [
        "# MNIST 데이터셋을 로드하여 준비한 뒤, 샘플 값을 정수에서 부동소수로 변환해준다.\n",
        "mnist = tf.keras.datasets.mnist\n",
        "\n",
        "(x_train, y_train), (x_test, y_test) = mnist.load_data()\n",
        "x_train, x_test = x_train / 255.0, x_test / 255.0"
      ],
      "metadata": {
        "colab": {
          "base_uri": "https://localhost:8080/"
        },
        "id": "hws5gEfX65q_",
        "outputId": "15e2e45d-02ce-45b9-bca8-8ccd093437dd"
      },
      "execution_count": 22,
      "outputs": [
        {
          "output_type": "stream",
          "name": "stdout",
          "text": [
            "Downloading data from https://storage.googleapis.com/tensorflow/tf-keras-datasets/mnist.npz\n",
            "11493376/11490434 [==============================] - 0s 0us/step\n",
            "11501568/11490434 [==============================] - 0s 0us/step\n"
          ]
        }
      ]
    },
    {
      "cell_type": "code",
      "source": [
        "# 층을 차례대로 쌓아 tf.keras.Sequential 모델을 만들고, 훈련에 사용할 옵티마이저(optimizer)와 손실 함수를 선택해준다.\n",
        "model = tf.keras.models.Sequential([\n",
        "  tf.keras.layers.Flatten(input_shape=(28, 28)),\n",
        "  tf.keras.layers.Dense(128, activation='relu'),\n",
        "  tf.keras.layers.Dropout(0.2),\n",
        "  tf.keras.layers.Dense(10, activation='softmax')\n",
        "])\n",
        "\n",
        "model.compile(optimizer='adam',\n",
        "              loss='sparse_categorical_crossentropy',\n",
        "              metrics=['accuracy'])"
      ],
      "metadata": {
        "id": "mJ9PfveV69km"
      },
      "execution_count": 23,
      "outputs": []
    },
    {
      "cell_type": "code",
      "source": [
        "# 모델을 훈련하고 평가해준다. 훈련된 이미지 분류기는 이 데이터셋에서 약 98%의 정확도를 달성하는 것을 알 수 있다.\n",
        "model.fit(x_train, y_train, epochs=5)\n",
        "\n",
        "model.evaluate(x_test,  y_test, verbose=2)"
      ],
      "metadata": {
        "colab": {
          "base_uri": "https://localhost:8080/"
        },
        "id": "1DcNEuXw7Ybi",
        "outputId": "daaf245a-e78a-4678-c497-c2c581cc7d4e"
      },
      "execution_count": 24,
      "outputs": [
        {
          "output_type": "stream",
          "name": "stdout",
          "text": [
            "Epoch 1/5\n",
            "1875/1875 [==============================] - 16s 8ms/step - loss: 0.2986 - accuracy: 0.9131\n",
            "Epoch 2/5\n",
            "1875/1875 [==============================] - 7s 3ms/step - loss: 0.1442 - accuracy: 0.9576\n",
            "Epoch 3/5\n",
            "1875/1875 [==============================] - 6s 3ms/step - loss: 0.1072 - accuracy: 0.9679\n",
            "Epoch 4/5\n",
            "1875/1875 [==============================] - 7s 3ms/step - loss: 0.0876 - accuracy: 0.9732\n",
            "Epoch 5/5\n",
            "1875/1875 [==============================] - 6s 3ms/step - loss: 0.0765 - accuracy: 0.9769\n",
            "313/313 - 1s - loss: 0.0702 - accuracy: 0.9793 - 562ms/epoch - 2ms/step\n"
          ]
        },
        {
          "output_type": "execute_result",
          "data": {
            "text/plain": [
              "[0.07018639892339706, 0.9793000221252441]"
            ]
          },
          "metadata": {},
          "execution_count": 24
        }
      ]
    },
    {
      "cell_type": "markdown",
      "source": [
        "# Reference\n",
        "\n",
        "1. Do it! 딥러닝 교과서\n",
        "2. 케라스 창시자에게 배우는 딥러닝"
      ],
      "metadata": {
        "id": "pWp3wDOkjVp2"
      }
    },
    {
      "cell_type": "markdown",
      "source": [
        "---\n",
        "\n",
        "*made by* <font color='6699ff'>Kim Geon</font>(DCU, major.AI·BD)\n",
        "\n",
        "---"
      ],
      "metadata": {
        "id": "rN6yk5JCjcQZ"
      }
    }
  ]
}
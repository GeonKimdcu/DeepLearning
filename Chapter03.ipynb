{
  "nbformat": 4,
  "nbformat_minor": 0,
  "metadata": {
    "colab": {
      "name": "Chapter03.ipynb",
      "provenance": [],
      "collapsed_sections": [],
      "authorship_tag": "ABX9TyNOLyePuWTVpKQtVqu2ZM1R",
      "include_colab_link": true
    },
    "kernelspec": {
      "name": "python3",
      "display_name": "Python 3"
    },
    "language_info": {
      "name": "python"
    }
  },
  "cells": [
    {
      "cell_type": "markdown",
      "metadata": {
        "id": "view-in-github",
        "colab_type": "text"
      },
      "source": [
        "<a href=\"https://colab.research.google.com/github/GeonKimdcu/DeepLearning/blob/main/Chapter03.ipynb\" target=\"_parent\"><img src=\"https://colab.research.google.com/assets/colab-badge.svg\" alt=\"Open In Colab\"/></a>"
      ]
    },
    {
      "cell_type": "markdown",
      "source": [
        "# Chapter 03 신경망 학습\n",
        "\n",
        "---\n",
        "\n"
      ],
      "metadata": {
        "id": "wLtdzHO7RM1g"
      }
    },
    {
      "cell_type": "markdown",
      "source": [
        "## 3.1 신경망 학습의 의미"
      ],
      "metadata": {
        "id": "Zmvr83gbRRK0"
      }
    },
    {
      "cell_type": "markdown",
      "source": [
        "신경망은 입력 데이터가 들어와도 어떤 출력을 만들어야 할지 알지 못하며 그 **규칙**을 **학습 데이터**를 이용해서 스스로 찾아내야만 한다. 학습 데이터에는 기대하는 정답이 들어 있어서 규칙을 찾아낼 수 있다. <br>\n",
        "따라서 신경망이 학습한다는 것은 이 <font color = 'ff6f61'>규칙을 찾는 과정</font>을 의미한다.\n",
        "\n",
        "신경망에 입력 데이터가 들어왔을 때 어떤 출력 데이터를 만들어야 할지를 정하는 규칙은 함수적 매핑 관계로 표현된다.<br>\n",
        "가중 합산과 활성 함수가 연결되어 뉴런을 구성하고, 뉴런이 모여 계층을 구성하며, 계층이 쌓여서 신경망의 계층 구조가 정의된다. <br>\n",
        "\n",
        "이처럼 신경망의 요소들이 이루는 복잡한 신경망의 계층 구조 자체가 신경망의 함수적 매핑 관계를 표현하는 것이다.\n",
        "\n",
        "신경망의 학습 과정에서 함수적 매핑 관계를 표현하는 전체 계층 구조를 찾아야 하는 것은 아니다. **신경망의 구조와 관련된 것들은 학습 전에 미리 정해두고**, <font color='#ff6f61'>**학습 과정에서는 모델 파라미터(model parameter)의 값을 찾는다.**</font>\n",
        "\n",
        "예를 들어 집값을 예측하는 **규칙은 신경망을 구성하는 모든 뉴런의 가중치와 편향이 결정될 때 완성**된다. <br>\n",
        "따라서 **학습 과정**에서 정확한 집값을 예측하도록 신경망 모델의 <font color='#ff6f61'>**가중치와 편향을 조정**</font>해 나가며, **최적의 값이 결정되면 모델은 집값을 예측할 수 있는 추론 능력을 갖춘다.**\n",
        "\n",
        "신경망 학습이 <font color='#ff6f61'>**모델의 파라미터값을 찾는 과정**</font>이라면, 과연 어떤 방법으로 최적의 파라미터 값을 찾아내는 것일까?\n",
        "\n",
        "신경망 학습에서는 **최적화**(optimization)기법을 사용한다. <br>\n",
        "최적화 기법은 <font color='#ff6f61'>함수의 해를 근사적으로 찾는 방법</font>으로, **신경망이 관측 데이터를 가장 잘 표현하는 함수가 되도록 만들어준다.**"
      ],
      "metadata": {
        "id": "NkBY4sVORXu5"
      }
    },
    {
      "cell_type": "markdown",
      "source": [
        "## 3.2 신경망 학습과 최적화"
      ],
      "metadata": {
        "id": "fjJS2gC_a0Ts"
      }
    },
    {
      "cell_type": "markdown",
      "source": [
        "### 3.2.1 최적화란?"
      ],
      "metadata": {
        "id": "XPD0MHYEa3xz"
      }
    },
    {
      "cell_type": "markdown",
      "source": [
        "**최적화**란? 유한한 방정식으로 정확한 해를 구할 수 없을 때 <font color='#ff6f61'>근사적으로 해를 구하는 방법</font>으로, 다양한 제약 조건을 만족하면서 목적 함수를 최대화하거나 최소화하는 해를 반복하여 조금씩 접근하는 방식으로 찾아가는 방법이다."
      ],
      "metadata": {
        "id": "NzkR_JF-a5yL"
      }
    },
    {
      "cell_type": "markdown",
      "source": [
        "#### <a href=https://pasus.tistory.com/72>최적화 문제의 표준 형태</a>\n",
        "(제약 조건 이해 안되면 참고!)\n",
        "\n",
        "최적화 문제는 수학적으로 다음과 같은 표준 형태로 정의한다.\n",
        "\n",
        "$$\\displaystyle \\min_{x \\in D} \\quad f(x) \\\\ subject \\; to \\; g_i(x) \\leq 0, \\quad i=1,...,m \\\\ \\quad \\quad  \\quad \\;\\; h_j(x)=0, \\quad j=1,...,r$$\n",
        "\n",
        "<br>\n",
        "\n",
        "최적화 문제는 **목적 함수**(objective function) $f(x)$와 여러 **제약 조건**(constraints)으로 이루어진다. <br>\n",
        "제약 조건은 부등식 형태의 제약 조건 $g_i(x) \\leq 0$ 과 등식 형태의 제약 조건 $h_j(x)=0$ 로 구분된다.\n",
        "\n",
        "표준 최적화 문제는 '**변수 $x$에 대한 등식과 부등식으로 표현되는 여러 제약 조건을 만족하면서 목적 함수인 $f(x)$를 최소화하는 $x$의 값을 찾는 문제**'로 풀어서 설명할 수 있습니다.\n",
        "\n",
        "최적화를 통해 찾은 $x$의 값을 **최적해**(optimal solution)라고 하며, <font color='#ff6f61'> 최적해에 점점 가까이 가는 상태</font>를 '<font color='#ff6f61'>**수렴한다**</font>'(coverge)고 하고 최적해를 찾으면 '**수렴했다**'고 한다.\n",
        "\n",
        "\n",
        "\n",
        "---\n",
        "✨최소화 문제에서 목적 함수는 **비용 함수**(cost function) 또는 <font color='#ff6f61'>**손실 함수**</font>(loss function)라고 부르며, 최대화 문제에서는 **유틸리티 함수**(utility function)라고 부른다. <br>\n",
        "✨앞으로 별다른 언급이 없으면 신경망 학습을 최소화 문제로 정의하고 목적 함수를 손실 함수라고 표기하겠다.\n"
      ],
      "metadata": {
        "id": "yu0yMzgkbwQY"
      }
    },
    {
      "cell_type": "markdown",
      "source": [
        "### 3.2.2 신경망 학습을 위한 최적화 문제 정의"
      ],
      "metadata": {
        "id": "sGOh9r1BekjK"
      }
    },
    {
      "cell_type": "markdown",
      "source": [
        "#### 회귀 문제를 최적화 문제로 정의한다면?\n",
        "\n",
        "회귀 문제는 '<font color='#ff6f61'>**타깃과 예측값의 오차를 최소화하는 파라미터를 찾으라**</font>'라는 최적화 문제로 다음과 같이 정의할 수 있다.\n",
        "\n",
        "$$\\displaystyle \\min_{\\theta} \\quad \\frac {1}{N} \\sum_{i=1}^{N} ||t_i-y(x_i;\\theta)||_2^2$$\n",
        "\n",
        "회귀 문제에서 손실 함수는 <font color='#ff6f61'>**평균 제곱 오차**</font>(MSE:mean square error)로 정의되며 <font color='#ff6f61'>타깃과 예측값의 오차</font>를 나타낸다."
      ],
      "metadata": {
        "id": "vK7pVSAbenYY"
      }
    },
    {
      "cell_type": "markdown",
      "source": [
        "#### 분류 문제를 최적화 문제로 정의한다면?\n",
        "\n",
        "분류 문제는 확률 모델 관점에서 '<font color='#ff6f61'>**관측 확률분포와 예측 확률분포의 차이를 최소화하는 파라미터를 찾으라**</font>'라는 최적화 문제로 다음과 같이 정의할 수 있다.\n",
        "\n",
        "$$\\displaystyle \\min_\\theta \\quad -\\frac{1}{N} \\sum_{i=1}^{N}\\sum_{k=1}^{K}t_{ik}\\centerdot log\\mu (x_i;\\theta)_k$$\n",
        "\n",
        "분류 문제에서 손실 함수는 <font color='#ff6f61'>**크로스 엔트로피**</font>(cross entropy)로 정의되며, <font color='#ff6f61'>타깃의 확률분포와 모델 예측 확률분포의 차이</font>를 나타낸다."
      ],
      "metadata": {
        "id": "wshdMtfJfsOZ"
      }
    },
    {
      "cell_type": "markdown",
      "source": [
        "### 3.2.3 최적화를 통한 신경망 학습"
      ],
      "metadata": {
        "id": "Sovg9TBZuAiD"
      }
    },
    {
      "cell_type": "markdown",
      "source": [
        "신경망 학습을 위한 최적화 문제가 정의되었다면 최적화를 통해 신경망 학습을 수행한다. <br>\n",
        "최적화는 손실 함수의 최소 지점을 찾아가는 과정이다.\n",
        "\n",
        "<img width=400 src=https://user-images.githubusercontent.com/48666867/147043483-8daf692a-e2e6-4e79-84ca-facb1ea7ab3f.jpg>\n",
        "\n",
        "Ref. Deep Learning textbook\n",
        "\n",
        "동그라미로 표시된 <font color='#ff6f61'>**손실 함수의 최소 지점으로 가야 신경망 모델 파라미터의 최적해를 찾을 수 있다.**</font> 손실 함수의 임의의 위치에서 출발해서 최적해가 있는 최소 지점을 찾아가는 과정을 <font color='#ff6f61'>**최적화 과정**</font>이라고 한다."
      ],
      "metadata": {
        "id": "dp8R4L1BuDTV"
      }
    },
    {
      "cell_type": "markdown",
      "source": [
        "## 3.3 경사 하강법"
      ],
      "metadata": {
        "id": "MbblTUNxvhrI"
      }
    },
    {
      "cell_type": "markdown",
      "source": [
        "### 3.3.1 신경망의 학습 목표"
      ],
      "metadata": {
        "id": "j1UWfHpUqbMU"
      }
    },
    {
      "cell_type": "markdown",
      "source": [
        "신경망의 손실 함수는 차원이 매우 높고 복잡한 모양을 하고 있어서 최적화가 어렵다. <br>\n",
        "손실 함수에는 하나의 <font color='#ff6f61'>**전역 최소**</font>(global minimum)와 함께 수많은 <font color='#ff6f61'>**지역 최소**</font>(local minimum)가 있다. <br>\n",
        "\n",
        "* 전역 최소: 함수 전체에서 가장 낮은 곳\n",
        "* 지역 최소: 함수에서 부분적으로 낮은 곳\n",
        "\n",
        "<img width=400 src=https://user-images.githubusercontent.com/48666867/147078361-34ca3efa-9cab-4620-be7b-cb97100ac789.png>\n",
        "\n",
        "Ref. https://gooopy.tistory.com/67\n",
        "\n",
        "위 그림과 같이 손실 함수를 2차원 그래프로 단순화해서 표현해 보면 **궁극적으로 찾으려는 최적해**는 **전역 최소에 해당하는 파라미터값**이 되겠지만, **전역 최소를 찾으려면 곡면의 전체 모양을 확인**해야 하므로 **계산 비용이 많이 든다.** <br>\n",
        "또한 문제가 크고 복잡한 경우 전역 최소를 찾기가 어렵고 떄로는 불가능할 수 있다. 따라서 <font color='#ff6f61'>**대부분의 최적화 알고리즘의 목표는 지역 최소를 찾는 것**</font>이다. <br>\n",
        "단, 좋은 지역 최소를 찾기 위해선 해를 여러 번 찾아서 그 중 가장 좋은 해를 선택하거나 동시에 여러 해를 찾아서 함께 고려하기도 한다.\n"
      ],
      "metadata": {
        "id": "aok4cgzEqd0V"
      }
    },
    {
      "cell_type": "markdown",
      "source": [
        "### 3.3.2 신경망 학습을 위한 최적화 알고리즘"
      ],
      "metadata": {
        "id": "e63IQ75Zs9H7"
      }
    },
    {
      "cell_type": "markdown",
      "source": [
        "일반적으로 최적화 문제는 관측 변수가 많고 **닫힌 형태**로 정의되지 않기 때문에 함수를 미분해서 최대, 최소를 구할 수 없다. <br>\n",
        "그렇기에 <font color='#ff6f61'>**임의의 초기화 상태에서 반복적으로 조금씩 해에 접근해 가는 방식**</font>을 취한다.\n",
        "\n",
        "최적화 알고리즘은 손실 함수 곡면을 매번 근사하는데 이때 사용되는 미분의 차수에 따라 **1차 미분**, **1.5차 미분**, **2차 미분** 방식으로 나뉜다.\n",
        "\n",
        "* 1차 미분\n",
        "  - 경사 하강법\n",
        "  - 경사 하강법의 변형 알고리즘: SGD, SGD 모멘텀, AdaGrad, RMSProp, Adam\n",
        "\n",
        "* 1.5차 미분\n",
        "  - 준 뉴턴 방법(quasi-newton method)\n",
        "  - 켤레 경사 하강법(conjugate gradient descent)\n",
        "  - 레벤버그-마쿼트 방법(levenberg-marquardt method)\n",
        "\n",
        "* 2차 미분\n",
        "  - 뉴턴 방법(newton method)\n",
        "  - 내부점법(Interior point method)\n",
        "\n",
        "2차 미분 방식은 곡률(curvature)을 사용하므로 최적해를 빠르게 찾을 수 있다는 장점은 있지만, 손실 함수 곡면이 볼록(convex)해야만 최적해를 찾을 수 있으며 계산 비용과 메모리 사용량이 많기 때문에 신경망에서는 사용하기 어렵다.<br>\n",
        "\n",
        "1.5차 미분 방식은 1차 미분을 이용해서 2차 미분을 근사하는 방식으로 최적해를 빠르게 찾을 수 있다. 하지만 신경망 학습과 별도로 2차 미분을 근사하는 알고리즘을 실행해야 하고 근사된 2차 미분값을 저장해야 하므로 메모리 사용량이 많다. <br>\n",
        "\n",
        "**1차 미분 방식의 경우 상대적으로 수렴 속도는 느리지만, 손실 함수 곡면이 볼록하지 않아도 최적해를 찾을 수 있어서 손실 함수 곡면이 매우 복잡한 신경망에서 안정적으로 사용하기 좋다.** <br>\n",
        "\n",
        "따라서 신경망에서는 주로 1차 미분 방식인 경사 하강법과 이를 개선한 알고리즘을 주로 사용한다."
      ],
      "metadata": {
        "id": "gnRc-IbnFDt1"
      }
    },
    {
      "cell_type": "markdown",
      "source": [
        "### 3.3.3 경사 하강법"
      ],
      "metadata": {
        "id": "DIBFRtGHMolC"
      }
    },
    {
      "cell_type": "markdown",
      "source": [
        "**경사 하강법**(gradient descent)은 손실 함수의 최소 지점을 찾기 위해 <font color='#ff6f61'>**경사가 가장 가파른 곳을 찾아서 한 걸음씩 내려가는 방법**</font>이다. <br>\n",
        "현재 위치에서 **경사가 가장 가파른 곳**을 찾기 위해 **손실 함수의 기울기를 구하고 기울기의 반대 방향으로 내려간다.**\n",
        "\n",
        "<img width=400 src=https://user-images.githubusercontent.com/48666867/147096617-1f85fad8-07b1-41db-bc96-903269999887.png>\n",
        "\n",
        "Ref. http://taewan.kim/post/cost_function_derivation/\n",
        "\n",
        "위 그림에서 Initial Weights 지점에서 출발한다고 하면 **먼저 기울기를 구해서 기울기의 반대 방향으로 한 걸음 내려간다. 한 걸음 내려간 지점에서 다시 기울기를 구하고 한 걸음 내려가는 과정을 반복하면 결국 최소 지점에 도달할 것이라고 가정**하는 방식이 바로 경사 하강법이다.\n",
        "\n",
        "경사 하강법으로 손실 함수의 현재 위치 $\\theta$ 에서 다음 위치 $\\theta^+$로 한 걸음 이동하려면 다음과 같은 업데이트 식을 사용한다. <br>\n",
        "\n",
        "$$\\theta^+=\\theta - a\\frac{\\partial J}{\\partial \\theta}$$\n",
        "\n",
        "여기서 $a$는 **스텝 크기**(step size) 또는 **학습률**(learning rate)로 <font color='#ff6f61'>이동 폭</font>을 결정한다. <br>\n",
        "$-\\frac{\\partial J}{\\partial \\theta}$는 **이동 방향**(step direction)으로 <font color='#ff6f61'>기울기의 음수 방향</font>을 나타내므로 현재 지점에서 가장 가파른 내리막길로 내려가겠다는 의미이다.\n",
        "\n",
        "경사 하강법에서는 파라미터 업데이트 과정을 반복하다가 $\\theta - \\theta^+$가 임계치 이하가 되면 최소 지점에 도달한 것으로 판단하고 이동을 멈춘다. <br>\n",
        "기울기 $\\frac{\\partial J}{\\partial \\theta}$는 손실 함수 $(J(f(x;\\theta),t)$를 파라미터 $\\theta$에 대해 미분한 <font color='#ff6f61'>**그레디언트**</font>이다."
      ],
      "metadata": {
        "id": "fBBi69YsMqlK"
      }
    },
    {
      "cell_type": "markdown",
      "source": [
        "> 그레디언트\n",
        "\n",
        "**그레디언트**(gradient)란 $R^n \\rightarrow R$ 형태의 <font color='#ff6f61'>**실수 함수의 미분**</font>을 말한다. <br>\n",
        "$f(x) = f(x_1,x_2,...,x_n)$와 같이 변수 $x$가 $n$차원 벡터이고 함숫값이 실수인 경우, <font color='#ff6f61'>**입력 벡터의 요소별로 함수 $f(x)$를 편미분한 벡터**</font>를 그레디언트라고 한다. <br>\n",
        "따라서 그레디언트는 $x$에서 함수 $f(x)$가 **증가하는 방향과 증가율**을 나타낸다.\n",
        "\n",
        "$$\\triangledown f=\\begin{bmatrix}\\frac{\\partial f}{\\partial x_1}\\\\\\frac{\\partial f}{\\partial x_2}\\\\ \\vdots \\\\ \\frac{\\partial f}{\\partial x_n} \\end{bmatrix}\\\\ f:R^n \\rightarrow R$$\n",
        "\n",
        "신경망의 손실 함수 $J(f(x;\\theta), t)$는 실수 함수이고 모델의 파라미터는 $\\theta$는 벡터이기 때문에 **손실 함수를 파라미터로 미분하면 그레디언트가 된다.**\n",
        "\n",
        "\n",
        "---\n",
        "✨'그레디언트를 계산한다'는 표현은 '미분한다'는 표현과 동일하다.\n"
      ],
      "metadata": {
        "id": "DEmA70jXRlVX"
      }
    },
    {
      "cell_type": "markdown",
      "source": [
        "### 3.3.4 신경망에 경사 하강법 적용"
      ],
      "metadata": {
        "id": "HbeCdHXxJ6xw"
      }
    },
    {
      "cell_type": "markdown",
      "source": [
        "#### 2계층 신경망 회귀 모델\n",
        "\n",
        "다음과 같이 2계층 신경망으로 구성된 회귀 모델이 있다고 하자. <br>\n",
        "은닉 계층의 활성 함수는 ReLU이고, 회귀 모델이므로 출력 계층의 활성 함수는 항등 함수이고 손실 함수는 $J=(y,t)$는 평균제곱오차이다.\n",
        "\n",
        "<img width=400 src=https://user-images.githubusercontent.com/48666867/147179761-9beabd18-25d1-4756-ac42-06c35b52120b.jpg>\n",
        "\n",
        "Ref. Deep learning textbook\n",
        "\n",
        "참고로, $w^1_{nm}$ 표기를 설명하자면 위 첨자 1은 계층 번호이고, 아래 첨자 $n$은 입력 뉴런의 인덱스를, $m$은 은닉 뉴런의 인덱스를 나타낸다."
      ],
      "metadata": {
        "id": "gHNUc_w2KEe1"
      }
    },
    {
      "cell_type": "markdown",
      "source": [
        "#### 파라미터 업데이트 식\n",
        "\n",
        "**경사 하강법을 이용해서 가중치 $w^1_{nm}$ 값을 업데이트** 하려면 먼저 **손실 함수에 대한 가중치의 미분 $\\frac {\\partial J}{\\partial w^1_{nm}}$를 구해서 다음 업데이트 식으로 $w^1_{nm}$를 $w_{nm}^{1\\;+}$로 변경**한다.\n",
        "\n",
        "$$w_{nm}^{1\\;+}=w_{nm}^{1}-a\\frac {\\partial J}{\\partial w^1_{nm}}$$\n",
        "\n",
        "그런데 이 업데이트 식은 바로 계산할 수 없다. **손실 함수 $J(y,t)=\\frac{1}{N}\\displaystyle \\sum_{(x,t)\\in D}^{N} ||t-y||_2^2$에는 가중치 변수  $w^1_{nm}$가 포함되지 않기 때문이다.** <br>\n",
        "즉, 손실 함수는 합성 함수로 정의되며 <font color='#ff6f61'>**합성 함수를 미분하려면 연쇄 법칙(chain rule)을 사용**</font>해야 한다. <br>\n",
        "연쇄 법칙을 사용해서 $\\frac {\\partial J}{\\partial w^1_{nm}}$를 표현하면 다음과 같은 형태가 된다.\n",
        "\n",
        "$$\\frac {\\partial J}{\\partial w^1_{nm}} = \\frac {\\partial J}{\\partial y} \\centerdot \\frac {\\partial y}{\\partial z^2} \\centerdot \\frac {\\partial z^2}{\\partial a^1_m} \\centerdot \\frac {\\partial a_m^1}{\\partial z^1_m} \\centerdot \\frac {\\partial z_m^1}{\\partial w^1_{nm}}$$"
      ],
      "metadata": {
        "id": "uWL4bZUSLKSs"
      }
    },
    {
      "cell_type": "markdown",
      "source": [
        "#### 연쇄 법칙을 사용한 미분 계산\n",
        "\n",
        "연쇄 법칙으로 합성 함수의 미분을 표현할 때는 합성 함수의 실행 순서에 따라 각 함수의 미분을 곱해준다. <br>\n",
        "가중치 변수 $w^1_{nm}$가 정의된 은닉 뉴런부터 손실 함수까지 실행되는 함수의 순서는 다음과 같다.\n",
        "\n",
        "(1) $\\quad$ $z^1_m = w^1_{1m} \\centerdot x_1 + w^1_{2m} \\centerdot x_2 + \\dotsb + w^1_{nm} \\centerdot x_n \\quad \\dotsb \\quad \\displaystyle \\frac {\\partial z^1_m}{\\partial w^1_{nm}}=x_n$\n",
        "\n",
        "(2) $\\quad$ $a^1_m=ReLU(z^1_m) \\quad \\quad \\quad \\quad \\quad \\quad \\quad \\quad \\quad \\quad \\; \\dotsb \\quad \\displaystyle \\frac {\\partial a^1_m}{\\partial z^1_m}=ReLU'(z^1_m)$\n",
        "\n",
        "(3) $\\quad$ $z^2=w^2_1 \\centerdot a^1_1 + w^2_2 \\centerdot a^1_2 + \\dotsb + w^2_m \\centerdot a^1_m \\quad \\quad  \\;\\dotsb \\quad \\displaystyle \\frac{\\partial z^2}{\\partial a^1_m}=w^2_m $\n",
        "\n",
        "(4) $\\quad$ $y = Identity(z^2) \\quad \\quad \\quad \\quad \\quad \\quad \\quad \\quad \\quad \\quad \\;\\dotsb \\quad \\displaystyle \\frac{\\partial y}{\\partial z^2}=Identity'(z^2)=1$\n",
        "\n",
        "(5) $\\quad$ $J(y)=\\displaystyle \\frac{1}{N}\\displaystyle \\sum_{(x,t) \\in D}^{N}||t-y||^2_2 \\quad \\quad \\quad \\quad \\quad \\quad \\;\\;\\, \\dotsb \\quad \\displaystyle \\frac{\\partial J}{\\partial y} = -\\frac{1}{N}\\sum_{(x,t)\\in D}^{N}2(t-y)$\n",
        "\n",
        "식 (1)과 (2)는 은닉 뉴런 $h_m$에 정의된 가중 합산과 ReLU이다. 식 (3)과 (4)는 출력 뉴런 $O$에 정의된 가중 합산과 항등 함수이고 식 (5)는 손실 함수이다. <br>\n",
        "각 함수의 미분은 다음과 같이 계산한다.\n",
        "\n",
        "- 식 (1)의 미분 $\\displaystyle \\frac {\\partial z^1_m}{\\partial w^1_{nm}}$는 가중 합산 $z^1_m$을 가중치 변수 $w^1_{nm}$로 미분한 값\n",
        "\n",
        "- 식 (2)의 미분 $\\displaystyle \\frac {\\partial a^1_m}{\\partial z^1_m}$는 활성 함수 $a^1_m$을 입력 변수 $z^1_m$로 미분한 값\n",
        "\n",
        "- 식 (3)의 미분 $\\displaystyle \\frac {\\partial z^2}{\\partial a^1_m}$는 가중 합산 $z^2$을 입력 변수 $a^1_m$로 미분한 값\n",
        "\n",
        "- 식 (4)의 미분 $\\displaystyle \\frac {\\partial y}{\\partial z^2}$는 활성 함수 $y$을 입력 변수 $z^2$로 미분한 값\n",
        "\n",
        "- 식 (5)의 미분 $\\displaystyle \\frac {\\partial J}{\\partial y}$는 손실 함수 $J(y,t)$을 입력 변수 $y$로 미분한 값\n",
        "\n",
        "최종적으로 각 함수의 미분을 곱하면 연쇄 법칙 형태의 $\\displaystyle \\frac {\\partial J}{\\partial y} \\centerdot \\frac {\\partial y}{\\partial z^2} \\centerdot \\frac {\\partial z^2}{\\partial a^1_m} \\centerdot \\frac {\\partial a_m^1}{\\partial z^1_m} \\centerdot \\frac {\\partial z_m^1}{\\partial w^1_{nm}}$로 $\\displaystyle \\frac {\\partial J}{\\partial w^1_{nm}}$를 정의할 수 있다.\n",
        "\n",
        "$$\\frac {\\partial J}{\\partial w^1_{nm}} = \\frac {\\partial J}{\\partial y} \\centerdot \\frac {\\partial y}{\\partial z^2} \\centerdot \\frac {\\partial z^2}{\\partial a^1_m} \\centerdot \\frac {\\partial a_m^1}{\\partial z^1_m} \\centerdot \\frac {\\partial z_m^1}{\\partial w^1_{nm}}\\\\=-\\frac{1}{N}\\sum_{(x,t)\\in D)}^{N}2(t-y)\\centerdot 1 \\centerdot w^2_m \\centerdot ReLU'(z^1_m) \\centerdot x_n$$\n",
        "\n",
        "이제 이 결과를 파라미터 업데이트 식에 적용하면 경사 하강법이 완성된다. <br>\n",
        "\n",
        "$$w^{1\\; +}_{nm}=w^1_{nm}-a\\frac{\\partial J}{\\partial w^1_{nm}} \\\\ = w^1_{nm}-a(-\\frac{1}{N}\\sum_{(x,t)\\in D)}^{N}2(t-y)\\centerdot 1 \\centerdot w^2_m \\centerdot ReLU'(z^1_m) \\centerdot x_n)$$"
      ],
      "metadata": {
        "id": "kKGQfzJfNwgc"
      }
    },
    {
      "cell_type": "markdown",
      "source": [
        "## 3.4 역전파 알고리즘"
      ],
      "metadata": {
        "id": "B7aaQm5DYiZ1"
      }
    },
    {
      "cell_type": "markdown",
      "source": [
        "신경망에 경사 하강법을 적용할 때 **손실 함수에서 각 가중치까지 신경망의 역방향으로 실행했던 함수를 따라가며 미분을 계산해서 곱했다.** <br>\n",
        "만일 이 과정을 **모든 파라미터에 대해 개별적으로 진행**한다면 <font color='#ff6f61'>**같은 미분을 여러 번 반복**</font>하는 비효율성 문제가 생긴다. 이런 문제를 해결하고자 제안된 방법이 바로 오차의 <font color='#ff6f61'>**역전파 알고리즘**</font>(backpropagation algorithm)이다."
      ],
      "metadata": {
        "id": "GWGQ3M3FYs59"
      }
    },
    {
      "cell_type": "markdown",
      "source": [
        "### 3.4.1 역전파 알고리즘"
      ],
      "metadata": {
        "id": "Mx7WWquOZPws"
      }
    },
    {
      "cell_type": "markdown",
      "source": [
        "뉴런 $h_m$의 또 다른 가중치 $w^1_{n-1m}$에 대해 미분한다고 해보자. <br>\n",
        "연쇄 법칙으로 미분을 표현해보면 마지막 항인 $\\frac {\\partial z^1_m}{\\partial w^1_{n-1m}}$를 제외한 앞 부분의 $\\frac {\\partial J}{\\partial y} \\centerdot \\frac {\\partial y}{\\partial z^2} \\centerdot \\frac {\\partial z^2}{\\partial a^1_m} \\centerdot \\frac {\\partial a_m^1}{\\partial z^1_m}$가 $w^1_{nm}$의 미분과 동일하다는 것을 알 수 있다.\n",
        "\n",
        "<img width=400 src=https://user-images.githubusercontent.com/48666867/147188866-d66e2d6e-f42e-48a1-9830-3d76f0999f70.JPG>\n",
        "\n",
        "Ref. Deep learning textbook\n",
        "\n",
        "따라서 공통부분은 한 번 계산해두면 같은 뉴런에 속한 모든 가중치의 미분을 계산할 때 **재사용**할 수 있다.\n",
        "\n",
        "<img width=400 src=https://user-images.githubusercontent.com/48666867/147188873-e639669c-dda4-4795-9a9c-537aed1b677d.jpg>\n",
        "\n",
        "Ref. Deep learning textbook\n",
        "\n",
        "공통부분의 계산을 중복하지 않으려면 <font color='#ff6f61'>**손실 함수에서 시작해서 입력 계층 방향으로 계산된 미분값을 역방향으로 전파**</font>해주면 된다. <br>\n",
        "이때 각 뉴런의 공통부분에 해당하는 미분값을 오차라고 하며, 오차를 역방향으로 전파하면서 미분을 계산한다고 해서 이러한 계산 방식을 오차의 <font color='#ff6f61'>**역전파 알고리즘**</font>이라고 부른다."
      ],
      "metadata": {
        "id": "ICrn6MSSfrG4"
      }
    },
    {
      "cell_type": "markdown",
      "source": [
        "### 3.4.2 역전파 알고리즘의 실행 순서"
      ],
      "metadata": {
        "id": "5trSRchGmfzs"
      }
    },
    {
      "cell_type": "markdown",
      "source": [
        "역전파 알고리즘에서 손실 함수부터 시작해 가중치 $w^1_{nm}$에 도달할 때가지 미분이 어떤 순서로 실행되는지 확인해 보자."
      ],
      "metadata": {
        "id": "MyMXJLtlmiRs"
      }
    },
    {
      "cell_type": "markdown",
      "source": [
        "#### 손실 함수 미분\n",
        "\n",
        "역전파 알고리즘은 손실 함수부터 시작하므로, 먼저 **손실 함수에 대한 입력의 미분을 계산해서 출력 계층에 전달**한다.\n",
        "\n",
        "<img width=400 src=https://user-images.githubusercontent.com/48666867/147189451-8b8ead44-94d6-41bb-ac43-96bcfc3c94c3.jpg>\n",
        "\n",
        "Ref. Deep learning textbook\n",
        "\n",
        "(1) 손실 함수 미분 <br>\n",
        "- 손실 함수 지역 미분: 손실 함수 $J(y)=\\displaystyle \\frac{1}{N}\\sum_{(x,t) \\in D}^{N}||t-y||^2_2$의 지역 미분 $\\partial J \\over \\partial y$을 계산한다.\n",
        "- 손실 함수 전역 미분: 손실 함수 전역 미분은 지역 미분 $\\partial J \\over \\partial y$와 같다.\n",
        "\n",
        "(2) 출력 뉴런에 미분 전달\n",
        "- 손실 함수 전역 미분 $\\partial J \\over \\partial y$을 출력 계층 $O$에 전달한다."
      ],
      "metadata": {
        "id": "Z3uM_k0gmicY"
      }
    },
    {
      "cell_type": "markdown",
      "source": [
        "#### 출력 뉴런 미분\n",
        "\n",
        "출력 뉴런 $O$는 전역 미분 $\\partial J \\over \\partial y$을 전달받고 가중치의 미분을 계산해서 가중치를 업데이트하고 입력의 미분을 계산해서 은닉 계층에 전달한다. <br>\n",
        "$O$는 활성 함수 $y=Identity(z^2)$와 가중 합산 $z^2=w^2_1 \\centerdot a^1_1+w^2_2 \\centerdot a^1_2+ \\dotsb + w^2_m \\centerdot a^1_m$으로 이루어지므로 미분을 별도로 수행해야 한다.\n",
        "\n",
        "<img width=500 src=https://user-images.githubusercontent.com/48666867/147190540-4cbfc112-baa4-4c95-9610-3a6fe60dfd35.jpg>\n",
        "\n",
        "Ref. Deep learning textbook\n",
        "\n",
        "(1) 공통부분 계산\n",
        "- 활성 함수 지역 미분: 활성 함수 $y=Identity(z^2)$의 지역 미분 $\\partial y \\over \\partial z^2$를 계산한다.\n",
        "- 활성 함수 전역 미분: $\\partial J \\over \\partial y$과 $\\partial y \\over \\partial z^2$을 곱해서 활성 함수 전역 미분 $\\frac{\\partial J}{\\partial z^2}=\\frac{\\partial J}{\\partial y} \\centerdot \\frac{\\partial y}{\\partial z^2}$를 계산한다.\n",
        "- 공통부분 계산: 활성 함수의 전역 미분 $\\partial J \\over \\partial z^2$이 뉴런의 공통부분이 된다.\n",
        "\n",
        "(2) 가중치 업데이트\n",
        "- 가중치 지역 미분: 가중 합산 식 $z^2 = w^2_1 \\centerdot a^1_1 + w^2_2 \\centerdot a^1_2 \\dotsb + w^2_m \\centerdot a^1_m$에 대해 가중치별로 지역 미분 $\\frac{\\partial z^2}{\\partial w^2_1}, \\frac{\\partial z^2}{\\partial w^2_2}, ..., \\frac{\\partial z^2}{\\partial w^2_m}$를 계산한다.\n",
        "- 가중치 전역 미분: 공통부분 $\\frac {\\partial J}{\\partial z^2}$과 $\\frac{\\partial z^2}{\\partial w^2_1}, \\frac{\\partial z^2}{\\partial w^2_2}, ..., \\frac{\\partial z^2}{\\partial w^2_m}$를 곱해서 가중치의 전역 미분 $\\frac {\\partial J^2}{\\partial w^2_1}, \\frac {\\partial J^2}{\\partial w^2_2}, ..., \\frac {\\partial J^2}{\\partial w^2_m}$를 계산한다.\n",
        "- 가중치 업데이트:  $\\frac{\\partial J}{\\partial w^2_1}, \\frac{\\partial J}{\\partial w^2_2}, ..., \\frac{\\partial J}{\\partial w^2_m}$으로 가중치 $w^2_1, w^2_2,...,w^2_m$를 업데이트한다.\n",
        "\n",
        "(3) 은닉 계층에 미분 전달\n",
        "- 입력 지역 미분: 가중 합산 식 $z^2 = w^2_1 \\centerdot a^1_1 + w^2_2 \\centerdot a^1_2 \\dotsb + w^2_m \\centerdot a^1_m$에 대해 입력별로 지역 미분 $\\frac{\\partial z^2}{\\partial a^1_1}, \\frac{\\partial z^2}{\\partial a^1_2}, ..., \\frac{\\partial z^2}{\\partial a^1_m}$를 계산한다.\n",
        "- 입력 전역 미분: 공통부분 $\\frac {\\partial J}{\\partial z^2}$과  $\\frac{\\partial z^2}{\\partial a^1_1}, \\frac{\\partial z^2}{\\partial a^1_2}, ..., \\frac{\\partial z^2}{\\partial a^1_m}$를 곱해서 입력의 전역 미분 $\\frac {\\partial J}{\\partial a^1_1}, \\frac {\\partial J}{\\partial a^1_2}, ..., \\frac {\\partial J}{\\partial a^1_m}$를 계산한다.\n",
        "- 은닉 뉴런에 미분 전달: 은닉 뉴런 $h_1, h_2, ..., h_m$에 입력의 전역 미분 $\\frac {\\partial J}{\\partial a^1_1}, \\frac {\\partial J}{\\partial a^1_2}, ..., \\frac {\\partial J}{\\partial a^1_m}$를 전달한다."
      ],
      "metadata": {
        "id": "fP0MXe2UoZKX"
      }
    },
    {
      "cell_type": "markdown",
      "source": [
        "#### 은닉 뉴런 미분\n",
        "\n",
        "은닉 뉴런 $h_m$은 전역 미분 $\\frac {\\partial J}{\\partial a^1_m}$을 전달받고 가중치의 미분을 계산해서 가중치를 업데이트하고 다음 은닉 계층이 없으면 입력의 미분을 계산하지 않는다. <br>\n",
        "$h_m$은 활성 함수 $a^1_m = ReLU(z^1_m)$와 가중 합산 $z^1_m = w^1_1 \\centerdot x_1 + w^1_2 \\centerdot x_2 \\dotsb + w^1_{nm} \\centerdot x_n$으로 이뤄져 있으므로 미분을 별도로 수행해야 한다.\n",
        "\n",
        "<img width=500 src=https://user-images.githubusercontent.com/48666867/147190534-164db8e2-52d8-40eb-b36b-76049e4e9172.jpg>\n",
        "\n",
        "Ref. Deep learning textbook\n",
        "\n",
        "(1) 공통부분 계산\n",
        "- 활성 함수 지역 미분: 활성 함수 $a^1_m=ReLU(z^1_m)$의 지역 미분 $\\frac{\\partial a^1_m}{\\partial z^1_m}$를 계산한다.\n",
        "- 활성 함수 전역 미분: $\\frac {\\partial J}{\\partial a^1_m}$과 $\\frac {\\partial a^1_m}{\\partial z^1_m}$을 곱해서 활성 함수 전역 미분 $\\frac {\\partial J}{\\partial z^1_m}=\\frac {\\partial J}{\\partial a^1_m} \\centerdot \\frac {\\partial a^1_m}{\\partial z^1_m}$를 계산한다.\n",
        "- 공통부분 계산: 활성 함수의 전역 미분 $\\frac {\\partial J}{\\partial z^1_m}$이 뉴런의 공통 부분이 된다.\n",
        "\n",
        "(2) 가중치 업데이트\n",
        "- 가중치 지역 미분: 가중 합산 식 $z^1_m = w^1_{1m} \\centerdot x_1 + w^1_{2m} \\centerdot x_2 \\dotsb + w^1_{nm} \\centerdot x_n$에 대해 가중치별로 지역 미분 $\\frac{\\partial z^1_m}{\\partial w^1_{1m}}, \\frac{\\partial z^1_m}{\\partial w^1_{2m}}, ..., \\frac{\\partial z^1_m}{\\partial w^1_{nm}}$를 계산한다.\n",
        "- 가중치 전역 미분: 공통 부분 $\\frac{\\partial J}{\\partial z^1_m}$과 $\\frac{\\partial z^1_m}{\\partial w^1_{1m}}, \\frac{\\partial z^1_m}{\\partial w^1_{2m}}, ..., \\frac{\\partial z^1_m}{\\partial w^1_{nm}}$를 곱해서 가중치의 전역 미분 $\\frac{\\partial J}{\\partial w^1_{1m}}, \\frac{\\partial J}{\\partial w^1_{2m}}, ..., \\frac{\\partial J}{\\partial w^1_{nm}}$를 계산한다.\n",
        "- 가중치 업데이트: $\\frac{\\partial J}{\\partial w^1_{1m}}, \\frac{\\partial J}{\\partial w^1_{2m}}, ..., \\frac{\\partial J}{\\partial w^1_{nm}}$으로 가중치 $w^1_{1m}, w^1_{2m},...,w^2_{nm}$를 업데이트한다.\n",
        "\n",
        "(3) 입력 계층에 미분 전달\n",
        "- 입력 계층에는 가중치가 없으므로 미분을 전달하지 않아도 된다.\n"
      ],
      "metadata": {
        "id": "pBLe_C-yyj1T"
      }
    },
    {
      "cell_type": "markdown",
      "source": [
        "#### 역전파 알고리즘 종료\n",
        "\n",
        "은닉 계층의 가중치 업데이트가 완료되면 역전파 알고리즘도 종료한다."
      ],
      "metadata": {
        "id": "SqKSuA1I1uVM"
      }
    },
    {
      "cell_type": "markdown",
      "source": [
        "### 3.4.3 뉴런 관점에서 보는 역전파 알고리즘"
      ],
      "metadata": {
        "id": "dOegHgMb10S6"
      }
    },
    {
      "cell_type": "markdown",
      "source": [
        "<img width=500 src=https://user-images.githubusercontent.com/48666867/147195063-d389e0f3-d5c7-49b8-aea9-b3ca5271cc7c.png><br>\n",
        "(이미지에서 보이는 $L$은 손실함수 $J$와 같은 의미이다.)\n",
        "\n",
        "Ref. velog.io/@qsdcfd\n",
        "\n",
        "다음과 같이 입력 $x, y$가 있고 활성 함수 $z=f(x,y)$를 실행하는 뉴런이 있다고 하자. 뉴런 출력 $z$는 손실 함수 $J(z)$의 입력이다.\n",
        "\n",
        "역전파 알고리즘을 적용하기 위해, 먼저 손실 함수 $J(z)$를 $z$에 대해 미분해서 $\\frac {\\partial J}{\\partial z}$를 구하고 뉴런에 미분값을 전달한다. <br>\n",
        "다음으로 뉴런의 지역 미분을 구하기 위해, 함수 $f(x,y)$를 $x,y$에 대해 미분해서 $\\frac {\\partial z}{\\partial x}$와 $\\frac {\\partial z}{\\partial y}$를 구한다.\n",
        "\n",
        "$$\\frac {\\partial z}{\\partial x} = \\frac{\\partial f(x,y)}{\\partial x}\\\\\n",
        "\\frac {\\partial z}{\\partial y} = \\frac{\\partial f(x,y)}{\\partial y}$$\n",
        "\n",
        "그리고 전달 받은 전역 미분 $\\frac {\\partial J}{\\partial z}$와 지역 미분 $\\frac {\\partial z}{\\partial x}$와 $\\frac {\\partial z}{\\partial y}$를 곱해서 $J(z)$에 대한 $(x,y)$의 전역 미분을 구한다.\n",
        "\n",
        "$$\\frac {\\partial J}{\\partial x} = \\frac {\\partial J}{\\partial z} \\centerdot \\frac{\\partial z}{\\partial x} \\\\ \\frac{\\partial J}{\\partial y} = \\frac{\\partial J}{\\partial z} \\centerdot \\frac{\\partial z}{\\partial y}$$\n",
        "\n",
        "계산된 전역 미분 $\\frac {\\partial J}{\\partial x}$와 $\\frac {\\partial J}{\\partial y}$를 다음 뉴런에 전달한다.\n",
        "\n",
        "<br>\n",
        "\n",
        "이와 같이 **하나의 뉴런 입장에서 미분을 계산하는 방식은 지역 미분을 구하고 전달받은 전역 미분에 곱하는 것**이 전부이다.  <br>\n",
        "\n",
        "**뉴런의 가중치를 업데이트**하려면 1) <font color='#ff6f61'>가중치에 대한 지역 미분</font>을 구하고 2) 전달받은 <font color='#ff6f61'>전역 미분에 곱해서 가중치의 전역 미분을 계산</font>하며 3) 계산된 가중치의 전역 미분으로 가중치를 업데이트한다.\n",
        "\n",
        "다음 은닉 계층에 미분을 전달하려면 1) 입력에 대한 지역 미분을 구하고 2) 전달받은 지역 미분에 곱해서 입력에 대한 전역 미분을 계산하며 3) 계산된 입력에 대한 전역 미분을 다음 은닉 뉴런에 전달한다."
      ],
      "metadata": {
        "id": "AiLlf1Pq2ISW"
      }
    },
    {
      "cell_type": "markdown",
      "source": [
        "#### 계층 단위의 미분\n",
        "\n",
        "실제 구현할 때는 계층 단위로 계산하는데, 이때 달라지는 점은 뉴런에서 벡터로 표현했던 가중치가 계층에서는 **행렬**로 표현된다는 점이다. <br>\n",
        "따라서 <font color='#ff6f61'>**뉴런에서 가중치의 미분을 나타내는 그레디언트는 벡터로 표현**</font>되지만, <font color='#ff6f61'>**계층에서 가중치와 미분을 나타내는 야코비안(jacobian)은 행렬로 표현**</font>된다."
      ],
      "metadata": {
        "id": "fc59cLQ__UpL"
      }
    },
    {
      "cell_type": "markdown",
      "source": [
        "> 야코비안\n",
        "\n",
        "야코비안은 $f: R^n \\rightarrow R^m$ 형태의 <font color='#ff6f61'>**벡터 함수의 미분**</font>을 말한다. $x=(x_1,x_2,...,x^n)$와 같이 입력이 $n$차원 벡터이고 $f(x) = (f_1(x), f_2(x),...,f_m(x))$와 같이 함숫값이 $m$차원 벡터인 경우, **입력의 차원별로 함숫값의 각 차원을 편미분해서 정의한 행렬을 야코비안**이라고 한다.\n",
        "\n",
        "$$Jf=\\begin{bmatrix}\\displaystyle \\frac {\\partial f_1}{\\partial x_1}&\\displaystyle \\frac {\\partial f_1}{\\partial x_2}&\\dotsb&\\displaystyle \\frac {\\partial f_1}{\\partial x_n}\\\\\\displaystyle \\frac {\\partial f_2}{\\partial x_1}&\\displaystyle \\frac {\\partial f_2}{\\partial x_2}&\\dotsb&\\displaystyle \\frac {\\partial f_2}{\\partial x_n}\\\\ \\vdots & \\quad & \\ddots & \\vdots \\\\ \\displaystyle \\frac {\\partial f_m}{\\partial x_1}&\\displaystyle \\frac {\\partial f_m}{\\partial x_2}&\\dotsb&\\displaystyle \\frac {\\partial f_m}{\\partial x_n} \\end{bmatrix}$$\n",
        "\n",
        "$$f(x)=(f_1(x),f_2(x),...,f_m(x))$$\n",
        "$$x=(x_1, x_2,...,x_n)$$\n",
        "\n",
        "\n",
        "야코비안 행렬의 첫 번째 행은 $f_1(x)$를 $x_1, x_2, ..., x_n$ 별로 편미분한 값이다."
      ],
      "metadata": {
        "id": "bcHWH-jKWvXn"
      }
    },
    {
      "cell_type": "markdown",
      "source": [
        "**역전파 알고리즘은 신경망과 같은 그래프 구조에서 연쇄 법칙을 이용하여 미분을 효과적으로 수행하기 위한 알고리즘**이다. <br>\n",
        "따라서 신경망 학습은 역전파 알고리즘을 이용해서 미분을 계산하고 경사 하강법과 같은 최적화 알고리즘을 통해 파라미터를 업데이트하면서 최적해를 찾는 최적화 과정으로 볼 수 있다."
      ],
      "metadata": {
        "id": "KAyOaDDgbW9q"
      }
    },
    {
      "cell_type": "markdown",
      "source": [
        "## 3.5 데이터셋 구성과 훈련 데이터 단위"
      ],
      "metadata": {
        "id": "ECrj_cEhc1e_"
      }
    },
    {
      "cell_type": "markdown",
      "source": [
        "### 3.5.1 데이터셋 구성"
      ],
      "metadata": {
        "id": "ujDomyMoc5fQ"
      }
    },
    {
      "cell_type": "markdown",
      "source": [
        "실생활에서 모집단을 구하기란 대부분 불가능하며, 현실적으로 모집단을 대표할 수 있는 표본 집단을 구성할 수 밖에 없다."
      ],
      "metadata": {
        "id": "z1-iuZcdc-In"
      }
    },
    {
      "cell_type": "markdown",
      "source": [
        "#### 관측 데이터의 구성\n",
        "\n",
        "관측 데이터를 구성할 때 중요한 것은 **범주성 데이터**의 경우 <font color='#ff6f61'>클래스별로 비율을 맞추는 것</font>이다. <br>\n",
        "$e.g.$ 인종을 분류할 때 어떤 인종의 데이터는 많고 어떤 인종의 데이터는 적다면 **편향된 추론**을 할 수 밖에 없다. <br>\n",
        "\n",
        "만일 특정 클래스의 데이터를 확보하기 어려워 한쪽 클래스에 데이터가 치우친다면 **데이터를 강제로 늘려주거나** 데이터의 분포를 고려하여 손실 함수에 **가중치가 조절**되도록 알고리즘적으로 해결해야 한다.\n",
        "\n",
        "**회귀 데이터**의 경우 입력 데이터가 근사하려는 **함수 범위를 잘 지지하고 있는지** 살펴봐야 한다. <br>\n"
      ],
      "metadata": {
        "id": "0UmTOj3IdH3A"
      }
    },
    {
      "cell_type": "markdown",
      "source": [
        "#### 데이터셋의 분리\n",
        "\n",
        "관측 데이터가 준비되면 데이터를 **훈련 데이터셋**(train set), **검증 데이터셋**(validation set), **테스트 데이터셋**(test set)으로 분리한다. 훈련 데이터셋은 <font color='#ff6f61'>모델을 훈련</font>할 때 사용한다. 검증 데이터셋은 훈련된 모델의 성능을 평가해서 <font color='#ff6f61'>하이퍼파라미터를 튜닝</font>하는데 사용한다. 테스트 데이터셋은 훈련이 완료된 모델의 <font color='#ff6f61'>최종 성능을 평가</font>할 때 사용한다. <br>\n",
        "\n",
        "이 세 종류의 데이터셋은 서로 <font color='#ff6f61'>중복되지 않도록 배타적으로 분리</font>해야 한다. 훈련에 사용하지 않았던 새로운 데이터로 평가해야 **일반화된 성능 평가**가 이루어지기 때문이다.\n",
        "\n",
        "데이터셋을 분리할 때 중요한 원칙은 **분리된 데이터셋의 분포가 원래의 데이터 분포를 따르도록** 해야 한다.\n",
        "\n",
        "\n",
        "---\n",
        "✨보통 훈련 데이터셋과 테스트 데이터셋은 전체 관측 데이터에서 8:2, 7.5:2.5, 7:3 정도의 비율로 분할해서 만들며, 검증 데이터셋은 훈련 데이터셋에서 10%~20%정도를 분할해서 만든다.\n"
      ],
      "metadata": {
        "id": "T6sTrzIBd2KY"
      }
    },
    {
      "cell_type": "markdown",
      "source": [
        "### 3.5.2 훈련 데이터 단위"
      ],
      "metadata": {
        "id": "W1p6SvBnfTma"
      }
    },
    {
      "cell_type": "markdown",
      "source": [
        "훈련 데이터셋을 한꺼번에 입력하는 방식을 <font color='#ff6f61'>**배치**</font>(batch)방식이라고 한다. 하지만 많은 학습 데이터를 사용하는 신경망에서는 주로 배치 방식으로 훈련하지는 않는다.\n",
        "\n",
        "배치 방식의 한계를 극복하고자 데이터를 작은 단위로 묶어서 훈련하는 방식을 <font color='#ff6f61'>**미니배치**</font>(minibatch)방식이라고 한다.\n",
        "\n",
        "일반적으로 신경망은 미니배치 방식으로 학습한다. 데이터 **샘플 단위**로 훈련할 수도 있는데 이런 방식을 **확률적(stochastic)방식**이라고 한다. 보통 **개별 샘플의 용량이 매우 클 때는 샘플 단위로 훈련**하기도 한다.\n",
        "\n",
        "미니배치의 크기를 1로 하면 확률적 방식이 되고, 미니배치의 크기를 훈련 데이터셋 크기로 하면 배치 방식이 되므로 미니 배치 방식이 가장 융통성 있다."
      ],
      "metadata": {
        "id": "MSyC5V_ifZvp"
      }
    },
    {
      "cell_type": "markdown",
      "source": [
        "#### 훈련 데이터 단위에 따른 경사 하강법의 종류\n",
        "\n",
        "훈련 데이터의 단위에 따라 경사 하강법도 **배치 경사 하강법**(batch gradient descent), **미니배치 경사 하강법**(minibatch gradient descent), **확률적 경사 하강법**(stochastic gradient descent)으로 나뉜다.\n",
        "\n",
        "배치 경사 하강법은 그레디언트를 정확히 계산하므로 훈련 경로를 부드럽게 만들지만, 확률적 방식은 하나의 샘플로 그레디언트를 근사하므로 상당히 많이 진동한다. 미니배치 방식도 작은 묶음의 샘플로 그레디언트를 근사하므로 두 방식의 중간 정도 수준에서 진동한다.\n",
        "\n",
        "손실 함수가 **립시츠 연속**(Lipschitz continuous)성질을 만족할 경우 확률적 경사 하강법도 최적해로 수렴한다는 것이 증명되었다. 립시츠 연속 성질은 함수가 급격하게 변하지 않도록 함수 변화량의 상한을 갖는 성질이다. 따라서 손실 함수의 곡면이 어느 정도 부드럽게 변한다면 궤적이 진동하더라도 최소 지점을 향해 진행할 수 있다.\n",
        "\n",
        "\n",
        "---\n",
        "✨보통 경사 하강법은 배치 경사 하강법을 말하고 확률적 경사 하강법은 미니배치 경사 하강법을 포함한 의미로 사용한다. 그리고 확률적 경사 하강법을 간단히 **SGD**(stochastic gradient descent)라고 부른다.\n"
      ],
      "metadata": {
        "id": "LV2C8MQojnV8"
      }
    },
    {
      "cell_type": "markdown",
      "source": [
        "### 3.5.3 미니배치 훈련 방식"
      ],
      "metadata": {
        "id": "CIcvYeyslKTO"
      }
    },
    {
      "cell_type": "markdown",
      "source": [
        "#### 미니배치 훈련 방식의 성능이 우수한 이유\n",
        "\n",
        "미니배치 방식을 사용하면 배치 방식보다 **학습이 더 빨라지고 모델의 성능이 좋아진다.**\n",
        "\n",
        "미니 배치 방식은 데이터를 작은 단위로 묶어서 훈련하기 때문에 미니배치를 생성할 때마다 매번 다른 데이터로 묶인다. <br>\n",
        "따라서 그때마다 조금씩 **다른 통계량을 갖는 <font color='#ff6f61'>확률적 성질**</font>이 생긴다.\n",
        "\n",
        "확률적 성질이 생기면 **일반화 오류가 줄어들고 과적합이 방지되는 <font color='#ff6f61'>정규화 효과**</font>를 볼 수 있다. 또한 배치 방식으로 훈련하면 그레디언트 계산은 정확하지만 학습 속도가 느려진다. 이때 오히려 미니배치 방식으로 훈련하면 그레디언트는 근삿값을 갖지만 학습 속도가 빨라지고 정규화 효과 덕분에 좋은 최적해를 찾을 수 있다."
      ],
      "metadata": {
        "id": "K0cln-JklMMj"
      }
    },
    {
      "cell_type": "markdown",
      "source": [
        "#### 미니배치의 크기는 어느 정도로 정해야 할까?\n",
        "\n",
        "미니배치의 크기는 2의 거듭제곱으로 정해야 GPU 메모리를 효율적으로 사용할 수 있다."
      ],
      "metadata": {
        "id": "fwV2p-b7l0Ls"
      }
    },
    {
      "cell_type": "markdown",
      "source": [
        "## 3.6 손실 함수 정의"
      ],
      "metadata": {
        "id": "pyf_D17tn_LM"
      }
    },
    {
      "cell_type": "markdown",
      "source": [
        "### 3.6.1 손실 함수를 정의하는 기준"
      ],
      "metadata": {
        "id": "x6pmWfgtZwMM"
      }
    },
    {
      "cell_type": "markdown",
      "source": [
        "**손실 함수는 모델이 관측 데이터를 잘 표현하도록 정의되어야 한다.** <br>\n",
        "손실 함수가 달라지면 최적해의 위치가 바뀌므로 모델이 표현하는 함수도 달라진다. 결국 모델이 관측 데이터를 잘 설명하는 함수를 표현하려면, 손실 함수는 <font color='#ff6f61'>'최적해가 관측 데이터를 잘 설명할 수 있는 함수의 파라미터값이 되도록'</font> 정의되어야 한다.\n",
        "\n",
        "따라서 이상적인 손실 함수를 정의하는 기준은 1) 모델이 <font color='#ff6f61'>**오차 최소화**(error minimization)</font>되도록 정의하거나 2) 모델이 추정하는 관측 데이터의 확률이 최대화되도록 <font color='#ff6f61'>**최대우도추정**(maximum likelihood estimation)</font> 방식으로 정의하는 방법이 있다."
      ],
      "metadata": {
        "id": "uQbfd48QZzVe"
      }
    },
    {
      "cell_type": "markdown",
      "source": [
        "#### 오차 최소화 관점\n",
        "\n",
        "모델의 <font color='#ff6f61'>**오차는 모델의 예측과 관측 데이터의 타깃의 차이**</font>를 말한다. 손실 함수의 목표가 모델의 오차를 최소화하는 것이므로 손실 함수를 정의할 때 어떤 방식으로 오차의 크기를 측정할지만 정하면 된다."
      ],
      "metadata": {
        "id": "7693syMmbnkF"
      }
    },
    {
      "cell_type": "markdown",
      "source": [
        "#### 최대우도추정 관점\n",
        "\n",
        "**우도**(likelihood)는 <font color='#ff6f61'>모델이 추정하는 관측 데이터의 확률</font>을 말한다. 손실 함수의 목표는 <font color='#ff6f61'>관측 데이터의 확률이 최대화되는 확률분포 함수를 모델이 표현</font>하도록 만드는 것이다. 이 방식은 확률 모델인 경우에만 적용할 수 있으며 **최대우도추정**(MLE)방식이라고 한다.\n",
        "\n",
        "\n",
        "---\n",
        "✨우도는 추정된 분포가 관측 데이터의 분포를 얼마나 잘 나타내는지 또는 일관되는지를 나타내는 측도이다.\n",
        "\n",
        "<br>\n",
        "\n",
        "두 방식이 손실 함수를 정의하는 관점은 다르지만, 손실 함수를 유도해 보면 동일한 최적해를 갖는 함수가 된다는 것을 확인할 수 있다."
      ],
      "metadata": {
        "id": "9fYYBmDnb1Hh"
      }
    },
    {
      "cell_type": "markdown",
      "source": [
        "### 3.6.2 오차 최소화 관점에서 손실 함수 정의"
      ],
      "metadata": {
        "id": "bcHIr5cEc8Mm"
      }
    },
    {
      "cell_type": "markdown",
      "source": [
        "#### 모델의 오차와 손실 함수\n",
        "\n",
        "신경망 모델은 파라미터 $\\theta$로 이뤄져 있고 학습 데이터 $D=\\{(x_i, t_i): i=1,...,N \\}$가 있다고 하자. 모델의 예측을 $y(x_i; \\theta)$라고 하고 타깃을 $t_i$라고 하면 오차 $ϵ_i$는 다음과 같다.\n",
        "\n",
        "$$\\epsilon_i=t_i-y(x_i;\\theta)$$\n",
        "\n",
        "오차의 크기를 나타내는 대표적인 함수는 벡터의 크기를 나타내는 **노름(norm)**이 있다. 주로 $L_2$ 노름과 $L_1$ 노름을 사용하며 이때 손실함수를 **평균제곱오차**(MSE:mean squared error)와 **평균절대오차**(MAE:mean absolute error)라고 부른다."
      ],
      "metadata": {
        "id": "6VY9qtpLdJGF"
      }
    },
    {
      "cell_type": "markdown",
      "source": [
        "#### 평균제곱오차(MSE)\n",
        "\n",
        "평균제곱오차는 $N$개의 데이터에 대해 **오차의 $L_2$ 노름의 제곱의 평균**으로 정의되며 $l_2$ 손실(loss)로 표기한다.\n",
        "\n",
        "$$J(\\theta)=\\frac{1}{N}\\displaystyle \\sum_{i=1}^{N}||t_i-y(x_i;\\theta)||_2^2$$\n",
        "\n",
        "평균제곱오차는 <font color='#ff6f61'> 모델이 타깃 $t_i$의 평균(mean)을 예측</font>하도록 만든다. 오차가 커질수록 손실이 제곱승으로 증가하므로 **이상치에 민감**하게 반응하는 단점이 있다."
      ],
      "metadata": {
        "id": "dEXboO4afct8"
      }
    },
    {
      "cell_type": "markdown",
      "source": [
        "#### 평균절대오차(MAE)\n",
        "\n",
        "평균절대오차는 $N$개의 데이터에 대해 **오차의 $L_1$노름의 평균**으로 정의하며 $l_1$손실로 표기한다.\n",
        "\n",
        "$$J(\\theta)=\\frac{1}{N}\\displaystyle \\sum_{i=1}^{N}||t_i-y(x_i;\\theta)||_1$$\n",
        "\n",
        "평균절대오차는 <font color='#ff6f61'>모델이 타깃 $t_i$의 중앙값(median)을 예측</font>하도록 만든다. 오차가 커질수록 손실이 선형적으로 증가하므로 이상치에 덜 민감하다. 하지만 미분가능 함수가 아니기 때문에 구간별로 미분을 처리해야 하는 단점이 있다.\n",
        "\n",
        "\n",
        "\n",
        "---\n",
        "✨미분가능 함수라는 말이 이해가 안된다면 <a href=https://m.blog.naver.com/saomath/221971803914>여기 사이트</a>를 참조하자.\n"
      ],
      "metadata": {
        "id": "4mS6yX0dgE--"
      }
    },
    {
      "cell_type": "markdown",
      "source": [
        "#### 오차 최소화 관점에서 최적화 문제 정의\n",
        "\n",
        "평균제곱오차를 예로 정의해보면 다음과 같은 최적화 문제로 정의할 수 있다.\n",
        "\n",
        "$$\\theta^* = argmin_{\\theta}  \\; J(\\theta) = argmin_\\theta \\frac {1}{N}\\displaystyle \\sum_{i=1}^{N}||t_i-y(x_i;\\theta)||_2^2$$\n",
        "\n"
      ],
      "metadata": {
        "id": "Qu7vGPOagFHJ"
      }
    },
    {
      "cell_type": "markdown",
      "source": [
        "### 3.6.3 최대우도추정 관점에서 손실 함수 정의\n",
        "\n",
        "(식이 개선되어가는 흐름을 보면 이해가 될 것임)"
      ],
      "metadata": {
        "id": "fwZ26AsNlXZR"
      }
    },
    {
      "cell_type": "markdown",
      "source": [
        "#### 관측 데이터의 우도와 손실 함수\n",
        "\n",
        "신경망 모델로 추정한 관측 데이터의 확률이 바로 우도 $p(D|\\theta)$이다. 샘플 $(x_i, t_i)$가 서로 독립이므로 관측 데이터의 우도 $p(D|\\theta)$는 $N$개의 샘플의 우도의 곱으로 표현할 수 있다.\n",
        "\n",
        "$$p(D|\\theta)= \\displaystyle \\prod_{i=1}^{N}p(t_i|x_t;\\theta)$$"
      ],
      "metadata": {
        "id": "5eD01COGlbPl"
      }
    },
    {
      "cell_type": "markdown",
      "source": [
        "#### 최대우도추정 관점에서 최적화 문제 정의\n",
        "\n",
        "우도를 최대화하는 확률 모델의 파라미터 $\\theta$를 찾는 문제로 다음과 같이 정의할 수 있다.\n",
        "\n",
        "$$\\theta^*=argmax_\\theta \\; (D|\\theta)=argmax_\\theta \\displaystyle \\prod_{i=1}^{N}p(t_i|x_i;\\theta)$$"
      ],
      "metadata": {
        "id": "8JQ1CDsandZ3"
      }
    },
    {
      "cell_type": "markdown",
      "source": [
        "#### 최대우도추정 관점의 최적화 문제 개선\n",
        "\n",
        "최대우도추정의 경우 최적화 문제를 개선된 형태로 바꾸게 되면 수치적으로 다루기 쉬워질 뿐만 아니라 안정적으로 최적화할 수 있다. 또한 표준 형태의 최소화 문제로 통일할 수도 있다.($s.t.$ 오차 최소화)\n",
        "\n",
        "1. 목적 함수를 개선된 형태로 만들기 위해 우도 대신 **로그 우도**(log likelihood)를 사용한다.\n",
        "2. 최대화 문제를 최소화 문제로 변환하기 위해 목적 함수에 **음의 로그 우도**(negative log likelihood)를 사용한다.\n",
        "\n"
      ],
      "metadata": {
        "id": "_tA_1lJhvJef"
      }
    },
    {
      "cell_type": "markdown",
      "source": [
        "#### 목적 함수를 로그 우도로 변환\n",
        "\n",
        "로그 우도는 우도에 로그를 취한 형태를 말한다.\n",
        "\n",
        "$$J(\\theta)=log p(D|\\theta)=\\displaystyle log \\prod_{i=1}^{N}p(t_i|x_i;\\theta)=\\sum_{i=1}^{N}logp(t_i|x_i;\\theta)$$\n",
        "\n",
        "우도 대신 로그 우도를 사용하는 이유는 다음과 같다.\n",
        "\n",
        "1. 가우시안 분포 또는 베르누이 분포와 같은 **지수 함수** 형태로 표현되는 지수족(exponential family) 확률분포의 경우 **로그를 취하면 지수 항이 상쇄되어 다항식으로 변환되기 때문에 함수 형태가 다루기 쉬워진다.**\n",
        "\n",
        "2. $N$개 샘플에 대한 **우도의 곱을 로그 우도의 합산으로 바꾸면 언더플로를 방지**할 수 있다. 확률은 1보다 작기 때문에 확률을 $N$번 곱하면 $N$이 커질수록 언더플로가 쉽게 생긴다. 따라서 우도 대신 로그 우도를 사용하면 곱이 합산 형태로 바뀌므로 언더플로를 방지할 수 있다.\n",
        "\n",
        "3. 우도 대신 로그 우도를 사용해도 최적해는 달라지지 않는다.\n",
        "\n"
      ],
      "metadata": {
        "id": "BD8-JuVbvmFm"
      }
    },
    {
      "cell_type": "markdown",
      "source": [
        "#### 최대화 문제를 최소화 문제로 변환\n",
        "\n",
        "로그 우도에 음수를 취한 음의 로그 우도, 즉 **NLL**(negative log likelihood)로 손실 함수가 정의된다.\n",
        "\n",
        "$$NLL(\\theta) = -logp(D|\\theta) = \\displaystyle - \\sum_{i=1}^{N}logp(t_i|x_i;\\theta)$$\n",
        "\n",
        "이제 최대우도추정 문제가 다음과 같은 표준 형태의 최소화 문제로 재정의되었다.\n",
        "\n",
        "$$\\theta^*=argmin_\\theta-\\displaystyle \\sum_{i=1}^{N}logp(t_i|x_i;\\theta)$$\n",
        "\n"
      ],
      "metadata": {
        "id": "TVZG4VwCw0vG"
      }
    },
    {
      "cell_type": "markdown",
      "source": [
        "#### 회귀 문제에서 최대우도추정을 위한 손실 함수 정의\n",
        "\n",
        "회귀 모델이 추정하는 가우시안 분포 $p(t_i|x_i;\\theta)$는 신경망 모델이 출력한 평균 $y(x_i;\\theta)$와 정밀도의 역수 $β^{-1}$ 를 분산으로 하는 분포로 정의된다.\n",
        "\n",
        "$$p(t_i|x_i;\\theta)=N(t_i|y(x_i;\\theta), \\beta^{-1})\\\\=\\frac{1}{\\sqrt{ \\beta^{-1}2\\pi}}e^{-\\frac {(t_i-y(x_i;\\theta))^2}{2\\beta^{-1}}} $$\n",
        "\n",
        "이제 신경망 모델을 통해 추정된 가우시안 분포의 음의 로그 우도를 손실 함수로 정의해보자.\n",
        "\n",
        "$$J(\\theta) = -\\displaystyle log\\prod_{i=1}^{N}p(t_i|x_i;\\theta)\\\\ = -log\\prod_{i=1}^{N}\\frac{1}{\\sqrt{ \\beta^{-1}2\\pi}}e^{-\\frac {(t_i-y(x_i;\\theta))^2}{2\\beta^{-1}}}\\\\=-\\sum_{i=1}^{N}log\\frac{1}{\\sqrt{ \\beta^{-1}2\\pi}}e^{-\\frac {(t_i-y(x_i;\\theta))^2}{2\\beta^{-1}}}\\\\=\\frac{\\beta}{2}\\sum_{i=1}^{N}(t_i-y(x_i;\\theta))^2 + \\frac{N}{2}log\\beta^{-1}2\\pi \\\\ =\\frac{\\beta}{2}\\sum_{i=1}^{N}||t_i-y(x_i;\\theta)||_2^2+const$$\n",
        "\n",
        "네 번째 식은 로그 함수가 지수 항을 상쇄했다. 다섯 번째 식은 $(t_i-y(x_i;\\theta))^2=||t_i-y(x_i;\\theta)||_2^2$로 만들고 $\\frac{N}{2}log\\beta^{-1}2\\pi$는 $const$로 만들었다. 이 식에서 $\\beta \\over 2$는 $1$로 변경하고 $const$를 없애면 다음과 같이 **오차제곱합**(sum of squared error) 또는 **SSE**가 된다.\n",
        "\n",
        "\n",
        "---\n",
        "✨최적화 문제에서 목적 함수에 상수 배를 해도 최적해는 동일하기 때문에 $\\beta \\over 2$는 $1$로 변경할 수 있다. 마찬가지로 목적 함수에 상수를 더하거나 뺴도 최적해는 동일하기 때문에 $const$는 없애도 된다."
      ],
      "metadata": {
        "id": "ICtEKTus0DHB"
      }
    },
    {
      "cell_type": "markdown",
      "source": [
        "이 식에 $1 \\over N$로 곱하면 앞에서 오차 최소화 관점에서 유도했던 평균제곱오차로 변환한다. <br>\n",
        "평균제곱오차는 오차제곱합의 상수 배를 한 식이므로 둘의 최적해는 동일하다. 따라서 우도를 최대화하는 것은 오차를 최소화하는 것과 같다는 것을 증명할 수 있게 된다.\n",
        "\n",
        "\n",
        "---\n",
        "✨만약 예측 분포가 가우시안 분포가 아닌 라플라스 분포(Laplacian distribution)라면 평균절대오차와 같은 결과를 얻을 수 있다."
      ],
      "metadata": {
        "id": "XSd6yAFh6Riz"
      }
    },
    {
      "cell_type": "markdown",
      "source": [
        "#### 이진 분류 문제에서 최대우도추정을 위한 손실 함수 정의\n",
        "\n",
        "이진 분류 모델이 추정하는 베르누이 분포 $p(t_i|x_i;\\theta)$는 신경망 모델이 출력한 첫 번째 클래스의 발생 확률인 $\\mu(x_i;\\theta)$로 정의된다.\n",
        "\n",
        "$$p(t_i|x_i;\\theta) = Bern(t_i;\\mu(x_i;\\theta))\\\\=\\mu(x_i;\\theta)^{t_i}(1-\\mu(x_i;\\theta))^{1-t_i}, t_i \\in \\{0,1\\}$$\n",
        "\n",
        "이제 신경망 모델을 통해 추정된 베르누이 분포의 음의 로그 우도를 손실 함수로 정의해 보자.\n",
        "\n",
        "$$J(\\theta)=-log\\displaystyle \\prod_{i=1}^{N}p(t_i|x_i;\\theta)\\\\=-log\\prod_{i=1}^{N}\\mu(x_i;\\theta)^{t_i}(1-\\mu(x_i;\\theta))^{1-t_i}\\\\=-\\sum_{i=1}^{N}log\\mu(x_i;\\theta)^{t_i}(1-\\mu(x_i;\\theta))^{1-t_i}\\\\=-\\sum_{i=1}^{N}t_i\\centerdot log\\mu(x_i;\\theta)+(1-t_i)\\centerdot log(1-\\mu(x_i;\\theta))$$\n",
        "\n",
        "네 번째 식은 지수 $t_i$와 $1-t_i$를 $log$ 함수의 밖으로 옮긴 것이다. 이 식을 <font color='#ff6f61'>**이진 크로스 엔트로피**(binary cross entropy)</font>라고 한다.\n",
        "\n",
        "\n",
        "---\n",
        "✨이진 크로스 엔트로피는 $K=2$인 크로스 엔트로피로, 크로스 엔트로피의 정의는 3.6.5에서 확인해 보자.\n"
      ],
      "metadata": {
        "id": "uSy5MWv66pxT"
      }
    },
    {
      "cell_type": "markdown",
      "source": [
        "최적화할 때는 이 식에 $1 \\over N$을 곱해서 샘플에 대한 합산을 평균으로 바꿔 사용하기도 한다. 두 손실 함수의 최적해는 동일하지만, 평균을 사용하면 최적화 과정에서 손실이 작아지므로 수치상 안정화될 수 있다.\n",
        "\n",
        "$$J(\\theta)=- \\frac {1}{N}\\displaystyle \\sum_{i=1}^{N}\\sum_{k=1}^{K}t_i\\centerdot log\\mu(x_i;\\theta)+(1-t_i)\\centerdot log(1-\\mu(x_i;\\theta))$$"
      ],
      "metadata": {
        "id": "ePv3Qaom9tOm"
      }
    },
    {
      "cell_type": "markdown",
      "source": [
        "#### 다중 분류 문제에서 최대우도추정을 위한 손실 함수 정의\n",
        "\n",
        "다중 분류 모델이 추정하는 카테고리 분포 $p(t_i|x_i;\\theta)$는 신경망 모델이 출력한 각 클래스가 발생할 확률인 $\\mu(x_i;\\theta)$로 정의된다.\n",
        "\n",
        "$$p(t_i|x_i;\\theta)=Category(t_i;\\mu(x_i;\\theta))=\\displaystyle \\prod_{k=1}^{K}\\mu(x_i;\\theta)^{t_{ik}}_k \\\\ \\mu(x_i;\\theta)=(\\mu(x_i;\\theta)_1, \\mu(x_i;\\theta)_2,...,\\mu(x_i;\\theta)_K)^T, \\sum_{k=1}^{K}\\mu(x_i;\\theta)_k=1\\\\t_i=(t_{i1}, t_{i2},...,t_{ik})^T, t_{ik}=\\begin{cases}1, \\; k=j\\\\0, \\; k\\neq j \\end{cases} ,j \\in\\{1,2,...,K\\}$$\n",
        "\n",
        "이제 신경망 모델을 통해 추정된 카테고리 분포의 음의 로그 우도를 손실 함수로 정의해 보자.\n",
        "\n",
        "$$J(\\theta)=-log\\displaystyle \\prod_{i=1}^{N}p(t_i|x_i;\\theta)\\\\=-log\\prod_{i=1}^{N}\\prod_{k=1}^{K}\\mu(x_i;\\theta)_k^{t_{ik}}\\\\=-\\sum_{i=1}^{N}log\\prod_{k=1}^{K}\\mu(x_i;\\theta)_k^{t_{ik}}\\\\=-\\sum_{i=1}^{N}\\sum_{k=1}^{K}t_{ik}\\centerdot log\\mu(x_i;\\theta)_k$$\n",
        "\n",
        "\n",
        "네 번째 식은 지수 $t_{ik}$를 $log$ 함수의 밖으로 옮긴 것이다. 이 식을 <font color='#ff6f61'>**크로스 엔트로피**(cross entropy)</font>라고 한다.\n",
        "\n",
        "최적화할 때는 이 식에 $1 \\over N$을 곱해서 샘플에 대한 합산을 평균으로 바꿔 사용하기도 한다. 두 손실 함수의 최적해는 동일하지만, 평균을 사용할 경우 최적화 과정에서 손실이 작아지므로 수치적으로 안정화될 수 있다.\n",
        "\n",
        "$$J(\\theta) = -\\frac{1}{N}\\sum_{i=1}^{N}\\sum_{k=1}^{K}t_{ik}\\centerdot log\\mu(x_i;\\theta)_k$$"
      ],
      "metadata": {
        "id": "TyDHbEgM-pls"
      }
    },
    {
      "cell_type": "markdown",
      "source": [
        "### 3.6.4 신경망 학습을 위한 손실 함수"
      ],
      "metadata": {
        "id": "j7BkIhUdM9MP"
      }
    },
    {
      "cell_type": "markdown",
      "source": [
        "위 내용을 종합적으로 요약해 보면 **회귀 문제**에서는 <font color='#ff6f61'>평균제곱오차</font>를 사용하고 **분류 문제**에서는 <font color='#ff6f61'>이진 크로스 엔트로피</font> 또는 <font color='#ff6f61'>크로스 엔트로피</font>를 사용한다."
      ],
      "metadata": {
        "id": "1Sli342fM_8S"
      }
    },
    {
      "cell_type": "markdown",
      "source": [
        "### 3.6.5 정보량, 엔트로피, 크로스 엔트로피"
      ],
      "metadata": {
        "id": "w6b2TWEJNVMz"
      }
    },
    {
      "cell_type": "markdown",
      "source": [
        "**정보량**은 확률을 표현하는데 필요한 비트 수로 <font color='#ff6f61'>사건이 얼마나 자주 발생하는지</font>를 나타내며, 엔트로피는 확률 변수가 얼마나 불확실한지를, 크로스 엔트로피는 두 분포의 차이가 어느 정도인지를 판단하는데 사용한다."
      ],
      "metadata": {
        "id": "aWx4ZL5XNbFQ"
      }
    },
    {
      "cell_type": "markdown",
      "source": [
        "#### 정보량\n",
        "\n",
        "정보는 놀라움의 정도에 비례한다. 확률이 낮은 사건이 발생하면 놀라움의 정도가 커지므로 정보가 많다고 볼 수 있다. <br>\n",
        "따라서 정보량은 <color='#ff6f61'>확률에 반비례</font>하면서 독립 사건들의 정보량은 더해져야 하므로, 정보량은 **확률의 역수에 로그를 취한 값**으로 정의된다.\n",
        "\n",
        "$$I(x)=log\\frac{1}{p(x)}=-logp(x)$$\n",
        "\n",
        "확률 변수 관점에서 정보량은 확률을 표현하는 데 필요한 비트 수 이다. <br>\n",
        "**확률이 0이면 정보량은 무한대가 되고 확률이 1이면 정보량은 0이다.** 즉, 발생하지 않는 사건의 정보량은 무한대이며 100% 발생하는 사건의 정보량은 없다.\n",
        "\n",
        "<img width=250 src=https://user-images.githubusercontent.com/48666867/147571073-0dd59ebe-8bf9-4722-8bc6-434f97fc7c68.png>\n",
        "\n",
        "Ref. ktword\n",
        "\n"
      ],
      "metadata": {
        "id": "-ucypmzaNrGQ"
      }
    },
    {
      "cell_type": "markdown",
      "source": [
        "#### 엔트로피\n",
        "\n",
        "엔트로피란 <font color='#ff6f61'>확률 변수 또는 확률분포가 얼마나 **불확실**한지 혹은 **무작위**한지를</font> 나타낸다.\n",
        "아래의 그림을 보면, 왼쪽 그래프는 **분산이 큰 확률분포**로, 넓은 범위에서 사건이 발생하기 때문에 어떤 사건이 발생할지 불확실하다. 따라서 **엔트로피가 높은 상태**이다. <br>\n",
        "오른쪽 그래프는 **분산이 작은 확률분포**로, 좁은 범위에서 사건이 발생하기 때문에 어떤 사건이 발생할지 확실하다. 따라서 **엔트로피가 낮은 상태**이다.\n",
        "\n",
        "\n",
        "<img width=500 src=https://user-images.githubusercontent.com/48666867/147571457-4d60c10b-6159-43ea-9345-71de567bc1f7.jpg>\n",
        "\n",
        "Ref. Deep learning textbook\n",
        "\n",
        "엔트로피는 <font color='#ff6f61'>확률 변수의 정보량의 기댓값</font>으로 정의된다.\n",
        "\n",
        "$$H(p)=E_{x\\sim p(x)}[-logp(x)]\\\\=-\\int_x p(x)logp(x)dx$$\n",
        "\n",
        "$p(x)$를 $-logp(x)$의 가중치로 생각하면 $p(x)=0$이면 $-logp(x)=\\infty$이므로 두 값의 곱인 $-p(x)logp(x)=0$이 되고, $p(x)=1$이면 $-logp(x)=0$이므로 두 값의 곱인 $-p(x)logp(x)=0$이 된다. <br>\n",
        "따라서 $p(x)=0$ 또는 $p(x)=1$일 때 엔트로피는 0이 되고 $p(x)=0.5$일 때 엔트로피는 가장 커진다.\n",
        "\n",
        "<img width=300 src=https://user-images.githubusercontent.com/48666867/147572544-a201f02a-57f6-42c6-afbe-8c3491eaf275.png>\n",
        "\n",
        "Ref. pngwing\n",
        "\n"
      ],
      "metadata": {
        "id": "cw8fcbluOvig"
      }
    },
    {
      "cell_type": "markdown",
      "source": [
        "#### 크로스 엔트로피\n",
        "\n",
        "크로스 엔트로피는 <font color='#ff6f61'>두 확률분포의 차이 또는 **유사하지 않은 정도(dissimilarity)**</font>를 나타낸다. \n",
        "\n",
        "확률분포 $q$로 확률분포 $p$를 추정한다고 해보자. <br>\n",
        "크로스 엔트로피는 <font color='#ff6f61'>**$q$의 정보량을 $p$에 대한 기댓값</font>을 취하는 것으로 정의**된다.\n",
        "\n",
        "$$H(p,q)=-E_{x\\sim p(x)} logq(x)\\\\=-\\int_xp(x)logq(x)dx$$\n",
        "\n",
        "$q$가 $p$를 정확히 추정해서 두 분포가 같아지면 크로스 엔트로피는 최소화되고 $q$가 $p$를 잘못 추정하면 크로스 엔트로피는 높아진다."
      ],
      "metadata": {
        "id": "zO88arY8Sn1K"
      }
    },
    {
      "cell_type": "markdown",
      "source": [
        "정리하자면, <font color='#ff6f61'>신경망의 예측 분포와 타깃 분포가 같으면 크로스 엔트로피는 **최소화**</font>되고, 예측 분포와 타깃 분포가 0과 1로 <font color='#ff6f61'>서로 반대가 되면 크로스 엔트로피는 **$\\infty$**</font>가 된다."
      ],
      "metadata": {
        "id": "N0Q-j4ylT2j9"
      }
    },
    {
      "cell_type": "markdown",
      "source": [
        "## Summary"
      ],
      "metadata": {
        "id": "BoAzbSwYUbkY"
      }
    },
    {
      "cell_type": "markdown",
      "source": [
        "1. 신경망을 학습한다는 말은 모델의 파라미터값을 결정한다는 의미로 모델 파라미터의 대부분은 뉴런의 <font color='#ff9900'>가중치</font>와 <font color='#ff9900'>편향</font>이다.\n",
        "2. <font color='#ff9900'>모델</font>의 <font color='#ff9900'>파라미터값</font>이 결정되면 신경망에 입력이 들어왔을 때 어떤 출력을 만들어야 할지에 관한 규칙이 함수적 관계로 표현된다.\n",
        "3. 신경망 학습은 <font color='#ff9900'>최적화</font>를 통해 실행된다.\n",
        "4. 신경망 학습을 최적화 문제로 정의하면 회귀 문제의 손실 함수는 <font color='#ff9900'>평균제곱오차</font>로 정의되며, 분류 문제의 손실함수는 <font color='#ff9900'>크로스 엔트로피</font>로 정의된다.\n",
        "5. 신경망의 기본 최적화 알고리즘인 <font color='#ff9900'>경사 하강법</font>은 손실 함수의 최소 지점을 찾기 위해 경사가 가장 가파른 곳을 찾아서 한 걸음씩 내려가는 방법이다.\n",
        "6. 신경망은 합성 함수이므로 신경망에 경사 하강법을 적용할 때는 합성 함수의 미분법인 <font color='#ff9900'>연쇄 법칙</font>을 사용한다.\n",
        "7. 신경망에 경사 하강법을 적용할 때 <font color='#ff9900'>파라미터별</font>로 미분을 계산하면 같은 미분을 여러 번 반복하게 된다.\n",
        "8. 미분 계산을 중복하지 않으려면 손실 함수에서 시작해서 입력 계층 방향으로 진행하면서 계층별로 미분을 계산하고 다음 계층에 미분을 전파한다. 이렇게 미분을 전파하면서 계산하는 방식을 <font color='#ff9900'>역전파 알고리즘</font>이라고 한다.\n",
        "9. 관측 데이터는 <font color='#ff9900'>훈련</font>데이터셋, <font color='#ff9900'>검증</font>데이터셋, <font color='#ff9900'>테스트</font>데이터셋으로 나뉘며 각 데이터셋은 관측 데이터의 분포를 따르도록 분할해야 한다. 또한 훈련된 모델의 일반화 성능을 검증하려면 반드시 세 데이터셋을 상호 배타적으로 분할해야 한다.\n",
        "10. 신경망 훈련 방식은 입력 데이터의 단위에 따라 <font color='#ff9900'>배치</font>방식, <font color='#ff9900'>미니배치</font>방식, <font color='#ff9900'>확률적</font>방식으로 나뉜다. 신경망을 미니배치 방식으로 훈련하면 배치 방식보다 학습 속도가 빨라지고 확률적 성질을 갖게 되어 더 좋은 최적해를 찾을 수 있다.\n",
        "11. 신경망 모델이 정확하게 예측하려면 모델은 관측 데이터를 잘 설명하는 함수를 표현해야 한다. 이때 모델이 표현하는 함수의 형태를 결정하는 것이 바로 <font color='#ff9900'>손실 함수</font>이다.\n",
        "12. 손실 함수가 관측 데이터를 잘 설명할 수 있는 함수의 파라미터값을 최적해로 가지려면, 손실 함수를 1)모델의 <font color='#ff9900'>오차</font>가 최소화되도록 정의하거나 2)모델이 추정하는 관측 데이터의 확률이 최대화되도록 <font color='#ff9900'>최대우도추정</font>방식으로 정의한다."
      ],
      "metadata": {
        "id": "pnyk5sY_UfNK"
      }
    },
    {
      "cell_type": "markdown",
      "source": [
        "## Challenge"
      ],
      "metadata": {
        "id": "YRjz4nViWOrD"
      }
    },
    {
      "cell_type": "markdown",
      "source": [
        "### 실습 01) <a href=https://www.tensorflow.org/tutorials/keras/classification>패션 MNIST 이미지 분류하기</a>\n",
        "\n",
        "(링크 참조하면 자세한 설명이 되어 있음)"
      ],
      "metadata": {
        "id": "ZZ69ZUUCWR7H"
      }
    },
    {
      "cell_type": "code",
      "source": [
        "# TensorFlow and tf.keras\n",
        "import tensorflow as tf\n",
        "\n",
        "# Helper libraries\n",
        "import numpy as np\n",
        "import matplotlib.pyplot as plt\n",
        "\n",
        "print(tf.__version__)"
      ],
      "metadata": {
        "colab": {
          "base_uri": "https://localhost:8080/"
        },
        "id": "bLk-91zKNaBL",
        "outputId": "8a1dab78-92ba-45ee-afef-9ff1ffd56b2d"
      },
      "execution_count": null,
      "outputs": [
        {
          "output_type": "stream",
          "name": "stdout",
          "text": [
            "2.7.0\n"
          ]
        }
      ]
    },
    {
      "cell_type": "code",
      "source": [
        "# 패션 데이터셋 import 하기\n",
        "\n",
        "fashion_mnist = tf.keras.datasets.fashion_mnist\n",
        "\n",
        "(train_images, train_labels), (test_images, test_labels) = fashion_mnist.load_data()"
      ],
      "metadata": {
        "colab": {
          "base_uri": "https://localhost:8080/"
        },
        "id": "WsP-nZL1Wf-T",
        "outputId": "7c304294-ccb4-4f88-f848-b4e42c73f752"
      },
      "execution_count": null,
      "outputs": [
        {
          "output_type": "stream",
          "name": "stdout",
          "text": [
            "Downloading data from https://storage.googleapis.com/tensorflow/tf-keras-datasets/train-labels-idx1-ubyte.gz\n",
            "32768/29515 [=================================] - 0s 0us/step\n",
            "40960/29515 [=========================================] - 0s 0us/step\n",
            "Downloading data from https://storage.googleapis.com/tensorflow/tf-keras-datasets/train-images-idx3-ubyte.gz\n",
            "26427392/26421880 [==============================] - 0s 0us/step\n",
            "26435584/26421880 [==============================] - 0s 0us/step\n",
            "Downloading data from https://storage.googleapis.com/tensorflow/tf-keras-datasets/t10k-labels-idx1-ubyte.gz\n",
            "16384/5148 [===============================================================================================] - 0s 0us/step\n",
            "Downloading data from https://storage.googleapis.com/tensorflow/tf-keras-datasets/t10k-images-idx3-ubyte.gz\n",
            "4423680/4422102 [==============================] - 0s 0us/step\n",
            "4431872/4422102 [==============================] - 0s 0us/step\n"
          ]
        }
      ]
    },
    {
      "cell_type": "code",
      "source": [
        "# 데이터셋에 클래스 이름이 들어있지 않기 때문에 나중에 이미지를 출력할 때 사용하기 위해 별도의 변수를 만들어 저장합니다\n",
        "\n",
        "\n",
        "class_names = ['T-shirt/top', 'Trouser', 'Pullover', 'Dress', 'Coat',\n",
        "               'Sandal', 'Shirt', 'Sneaker', 'Bag', 'Ankle boot']"
      ],
      "metadata": {
        "id": "OepC3oR7WqJH"
      },
      "execution_count": null,
      "outputs": []
    },
    {
      "cell_type": "code",
      "source": [
        "# 데이터 탐색\n",
        "train_images.shape"
      ],
      "metadata": {
        "colab": {
          "base_uri": "https://localhost:8080/"
        },
        "id": "GrSRJkYjWug9",
        "outputId": "babd4b98-c3aa-42cd-f75a-3224abcb12cd"
      },
      "execution_count": null,
      "outputs": [
        {
          "output_type": "execute_result",
          "data": {
            "text/plain": [
              "(60000, 28, 28)"
            ]
          },
          "metadata": {},
          "execution_count": 4
        }
      ]
    },
    {
      "cell_type": "code",
      "source": [
        "len(train_labels)"
      ],
      "metadata": {
        "colab": {
          "base_uri": "https://localhost:8080/"
        },
        "id": "4KlS-nGRW4Sk",
        "outputId": "34238d2c-eac6-4721-bc0b-5a37ed9538fc"
      },
      "execution_count": null,
      "outputs": [
        {
          "output_type": "execute_result",
          "data": {
            "text/plain": [
              "60000"
            ]
          },
          "metadata": {},
          "execution_count": 5
        }
      ]
    },
    {
      "cell_type": "code",
      "source": [
        "train_labels"
      ],
      "metadata": {
        "colab": {
          "base_uri": "https://localhost:8080/"
        },
        "id": "1XSnf_LkXBCl",
        "outputId": "1eb70d6d-7b66-44ad-fe20-b775c1414345"
      },
      "execution_count": null,
      "outputs": [
        {
          "output_type": "execute_result",
          "data": {
            "text/plain": [
              "array([9, 0, 0, ..., 3, 0, 5], dtype=uint8)"
            ]
          },
          "metadata": {},
          "execution_count": 6
        }
      ]
    },
    {
      "cell_type": "code",
      "source": [
        "test_images.shape"
      ],
      "metadata": {
        "colab": {
          "base_uri": "https://localhost:8080/"
        },
        "id": "Gv5w1niEXDMs",
        "outputId": "bd845b44-89ac-4f1a-81b7-54c41c1f33ad"
      },
      "execution_count": null,
      "outputs": [
        {
          "output_type": "execute_result",
          "data": {
            "text/plain": [
              "(10000, 28, 28)"
            ]
          },
          "metadata": {},
          "execution_count": 7
        }
      ]
    },
    {
      "cell_type": "code",
      "source": [
        "len(test_labels)"
      ],
      "metadata": {
        "colab": {
          "base_uri": "https://localhost:8080/"
        },
        "id": "g2rbwuhUXE7M",
        "outputId": "5c561401-0738-4091-b089-04d55302d1d1"
      },
      "execution_count": null,
      "outputs": [
        {
          "output_type": "execute_result",
          "data": {
            "text/plain": [
              "10000"
            ]
          },
          "metadata": {},
          "execution_count": 8
        }
      ]
    },
    {
      "cell_type": "code",
      "source": [
        "# 훈련 세트에 있는 첫 번째 이미지를 보면 픽셀 값의 범위가 0~255 사이라는 것을 알 수 있습니다:\n",
        "\n",
        "plt.figure()\n",
        "plt.imshow(train_images[0])\n",
        "plt.colorbar()\n",
        "plt.grid(False)\n",
        "plt.show()"
      ],
      "metadata": {
        "colab": {
          "base_uri": "https://localhost:8080/",
          "height": 265
        },
        "id": "y6Mov_tKXGrx",
        "outputId": "e0c6e696-e755-4376-c6d4-82bc3bc649f2"
      },
      "execution_count": null,
      "outputs": [
        {
          "output_type": "display_data",
          "data": {
            "image/png": "[encoded data removed]",
            "text/plain": [
              "<Figure size 432x288 with 2 Axes>"
            ]
          },
          "metadata": {
            "needs_background": "light"
          }
        }
      ]
    },
    {
      "cell_type": "code",
      "source": [
        "# 데이터 전처리: 신경망 모델에 주입하기 전에 이 값의 범위를 0~1 사이로 조정\n",
        "\n",
        "train_images = train_images / 255.0\n",
        "\n",
        "test_images = test_images / 255.0"
      ],
      "metadata": {
        "id": "uF7SeXC1XI8_"
      },
      "execution_count": null,
      "outputs": []
    },
    {
      "cell_type": "code",
      "source": [
        "plt.figure(figsize=(10,10))\n",
        "for i in range(25):\n",
        "    plt.subplot(5,5,i+1)\n",
        "    plt.xticks([])\n",
        "    plt.yticks([])\n",
        "    plt.grid(False)\n",
        "    plt.imshow(train_images[i], cmap=plt.cm.binary)\n",
        "    plt.xlabel(class_names[train_labels[i]])\n",
        "plt.show()"
      ],
      "metadata": {
        "colab": {
          "base_uri": "https://localhost:8080/",
          "height": 589
        },
        "id": "cAXx3TAFXX0E",
        "outputId": "ec089171-c2cf-42bd-e26b-e7b990505aa2"
      },
      "execution_count": null,
      "outputs": [
        {
          "output_type": "display_data",
          "data": {
            "image/png": "[encoded data removed]",
            "text/plain": [
              "<Figure size 720x720 with 25 Axes>"
            ]
          },
          "metadata": {}
        }
      ]
    },
    {
      "cell_type": "code",
      "source": [
        "# 모델 구성\n",
        "model = tf.keras.Sequential([\n",
        "    tf.keras.layers.Flatten(input_shape=(28, 28)),\n",
        "    tf.keras.layers.Dense(128, activation='relu'),\n",
        "    tf.keras.layers.Dense(10)\n",
        "])"
      ],
      "metadata": {
        "id": "gQEhat48XZmu"
      },
      "execution_count": null,
      "outputs": []
    },
    {
      "cell_type": "code",
      "source": [
        "model.compile(optimizer='adam',\n",
        "              loss=tf.keras.losses.SparseCategoricalCrossentropy(from_logits=True), \n",
        "              # from_logits: 모델의 출력값이 문제에 맞게 normalize 되었느냐의 여부(True: None normalize)\n",
        "              metrics=['accuracy'])"
      ],
      "metadata": {
        "id": "DBuqZfwOXfOX"
      },
      "execution_count": null,
      "outputs": []
    },
    {
      "cell_type": "code",
      "source": [
        "# 모델 훈련\n",
        "model.fit(train_images, train_labels, epochs=10)"
      ],
      "metadata": {
        "colab": {
          "base_uri": "https://localhost:8080/"
        },
        "id": "E3IIWBftXhQ6",
        "outputId": "c8aa6301-7d46-4da8-e366-e139e712771f"
      },
      "execution_count": null,
      "outputs": [
        {
          "output_type": "stream",
          "name": "stdout",
          "text": [
            "Epoch 1/10\n",
            "1875/1875 [==============================] - 6s 3ms/step - loss: 0.4937 - accuracy: 0.8275\n",
            "Epoch 2/10\n",
            "1875/1875 [==============================] - 5s 3ms/step - loss: 0.3705 - accuracy: 0.8650\n",
            "Epoch 3/10\n",
            "1875/1875 [==============================] - 5s 3ms/step - loss: 0.3335 - accuracy: 0.8780\n",
            "Epoch 4/10\n",
            "1875/1875 [==============================] - 5s 3ms/step - loss: 0.3105 - accuracy: 0.8859\n",
            "Epoch 5/10\n",
            "1875/1875 [==============================] - 5s 2ms/step - loss: 0.2924 - accuracy: 0.8921\n",
            "Epoch 6/10\n",
            "1875/1875 [==============================] - 5s 3ms/step - loss: 0.2778 - accuracy: 0.8966\n",
            "Epoch 7/10\n",
            "1875/1875 [==============================] - 7s 4ms/step - loss: 0.2670 - accuracy: 0.9010\n",
            "Epoch 8/10\n",
            "1875/1875 [==============================] - 6s 3ms/step - loss: 0.2549 - accuracy: 0.9040\n",
            "Epoch 9/10\n",
            "1875/1875 [==============================] - 5s 2ms/step - loss: 0.2474 - accuracy: 0.9074\n",
            "Epoch 10/10\n",
            "1875/1875 [==============================] - 5s 2ms/step - loss: 0.2366 - accuracy: 0.9118\n"
          ]
        },
        {
          "output_type": "execute_result",
          "data": {
            "text/plain": [
              "<keras.callbacks.History at 0x7febcc6ae750>"
            ]
          },
          "metadata": {},
          "execution_count": 14
        }
      ]
    },
    {
      "cell_type": "code",
      "source": [
        "# 정확도 평가\n",
        "test_loss, test_acc = model.evaluate(test_images,  test_labels, verbose=2)\n",
        "\n",
        "print('\\nTest accuracy:', test_acc)"
      ],
      "metadata": {
        "colab": {
          "base_uri": "https://localhost:8080/"
        },
        "id": "jHD0cSeOXlkL",
        "outputId": "ccb01d1e-5e76-487e-8f00-31be2a3539ac"
      },
      "execution_count": null,
      "outputs": [
        {
          "output_type": "stream",
          "name": "stdout",
          "text": [
            "313/313 - 1s - loss: 0.3438 - accuracy: 0.8807 - 524ms/epoch - 2ms/step\n",
            "\n",
            "Test accuracy: 0.8806999921798706\n"
          ]
        }
      ]
    },
    {
      "cell_type": "code",
      "source": [
        "# 모델의 선형 출력, 로짓. 소프트맥스 레이어를 연결하여 로짓을 해석하기 쉬운 확률로 변환합니다.\n",
        "probability_model = tf.keras.Sequential([model, \n",
        "                                         tf.keras.layers.Softmax()])"
      ],
      "metadata": {
        "id": "UET4WA7oXtZw"
      },
      "execution_count": null,
      "outputs": []
    },
    {
      "cell_type": "code",
      "source": [
        "# 예측하기\n",
        "predictions = probability_model.predict(test_images)"
      ],
      "metadata": {
        "id": "4004uu7XX5fO"
      },
      "execution_count": null,
      "outputs": []
    },
    {
      "cell_type": "code",
      "source": [
        "# 테스트 세트에 있는 각 이미지의 레이블을 예측했습니다. 첫 번째 예측을 확인\n",
        "predictions[0]"
      ],
      "metadata": {
        "colab": {
          "base_uri": "https://localhost:8080/"
        },
        "id": "ShDQ_TICX-aE",
        "outputId": "79d0db61-8057-4dd0-c015-553d39c8a63f"
      },
      "execution_count": null,
      "outputs": [
        {
          "output_type": "execute_result",
          "data": {
            "text/plain": [
              "array([1.2967266e-05, 5.0606230e-09, 3.7603269e-07, 5.0334716e-11,\n",
              "       1.2274041e-06, 7.7608852e-03, 1.6057027e-07, 7.3867962e-03,\n",
              "       1.4463492e-05, 9.8482311e-01], dtype=float32)"
            ]
          },
          "metadata": {},
          "execution_count": 18
        }
      ]
    },
    {
      "cell_type": "code",
      "source": [
        "# 이 예측은 10개의 숫자 배열로 나타납니다. \n",
        "# 이 값은 10개의 옷 품목에 상응하는 모델의 신뢰도(confidence)를 나타냅니다. 가장 높은 신뢰도를 가진 레이블을 찾아보죠:\n",
        "\n",
        "np.argmax(predictions[0])"
      ],
      "metadata": {
        "colab": {
          "base_uri": "https://localhost:8080/"
        },
        "id": "lVTFgGEQX-s7",
        "outputId": "71e00a00-4c91-4699-9aae-3dbf1bd23d1d"
      },
      "execution_count": null,
      "outputs": [
        {
          "output_type": "execute_result",
          "data": {
            "text/plain": [
              "9"
            ]
          },
          "metadata": {},
          "execution_count": 19
        }
      ]
    },
    {
      "cell_type": "code",
      "source": [
        "# 모델은 이 이미지가 앵클 부츠(class_name[9])라고 가장 확신하고 있습니다. 이 값이 맞는지 테스트 레이블을 확인\n",
        "\n",
        "test_labels[0]"
      ],
      "metadata": {
        "colab": {
          "base_uri": "https://localhost:8080/"
        },
        "id": "Q61h3KjDYJAy",
        "outputId": "8a538a92-c15f-4a7f-8a48-de40e821a06f"
      },
      "execution_count": null,
      "outputs": [
        {
          "output_type": "execute_result",
          "data": {
            "text/plain": [
              "9"
            ]
          },
          "metadata": {},
          "execution_count": 20
        }
      ]
    },
    {
      "cell_type": "code",
      "source": [
        "# 10개 클래스에 대한 예측을 모두 그래프로 표현\n",
        "def plot_image(i, predictions_array, true_label, img):\n",
        "  true_label, img = true_label[i], img[i]\n",
        "  plt.grid(False)\n",
        "  plt.xticks([])\n",
        "  plt.yticks([])\n",
        "\n",
        "  plt.imshow(img, cmap=plt.cm.binary)\n",
        "\n",
        "  predicted_label = np.argmax(predictions_array)\n",
        "  if predicted_label == true_label:\n",
        "    color = 'blue'\n",
        "  else:\n",
        "    color = 'red'\n",
        "\n",
        "  plt.xlabel(\"{} {:2.0f}% ({})\".format(class_names[predicted_label],\n",
        "                                100*np.max(predictions_array),\n",
        "                                class_names[true_label]),\n",
        "                                color=color)\n",
        "\n",
        "def plot_value_array(i, predictions_array, true_label):\n",
        "  true_label = true_label[i]\n",
        "  plt.grid(False)\n",
        "  plt.xticks(range(10))\n",
        "  plt.yticks([])\n",
        "  thisplot = plt.bar(range(10), predictions_array, color=\"#777777\")\n",
        "  plt.ylim([0, 1])\n",
        "  predicted_label = np.argmax(predictions_array)\n",
        "\n",
        "  thisplot[predicted_label].set_color('red')\n",
        "  thisplot[true_label].set_color('blue')"
      ],
      "metadata": {
        "id": "sIR2rAZsYSJz"
      },
      "execution_count": null,
      "outputs": []
    },
    {
      "cell_type": "code",
      "source": [
        "# 예측 확인\n",
        "i = 0\n",
        "plt.figure(figsize=(6,3))\n",
        "plt.subplot(1,2,1)\n",
        "plot_image(i, predictions[i], test_labels, test_images)\n",
        "plt.subplot(1,2,2)\n",
        "plot_value_array(i, predictions[i],  test_labels)\n",
        "plt.show()"
      ],
      "metadata": {
        "colab": {
          "base_uri": "https://localhost:8080/",
          "height": 211
        },
        "id": "AXX_IoEsYWIo",
        "outputId": "14d606ba-0d89-4da2-cbd3-8f9cba83a924"
      },
      "execution_count": null,
      "outputs": [
        {
          "output_type": "display_data",
          "data": {
            "image/png": "[encoded data removed]",
            "text/plain": [
              "<Figure size 432x216 with 2 Axes>"
            ]
          },
          "metadata": {
            "needs_background": "light"
          }
        }
      ]
    },
    {
      "cell_type": "code",
      "source": [
        "i = 12\n",
        "plt.figure(figsize=(6,3))\n",
        "plt.subplot(1,2,1)\n",
        "plot_image(i, predictions[i], test_labels, test_images)\n",
        "plt.subplot(1,2,2)\n",
        "plot_value_array(i, predictions[i],  test_labels)\n",
        "plt.show()"
      ],
      "metadata": {
        "colab": {
          "base_uri": "https://localhost:8080/",
          "height": 211
        },
        "id": "P-crlRuPYabK",
        "outputId": "e1e8da9d-71f9-4751-ee9d-46999d1bcf98"
      },
      "execution_count": null,
      "outputs": [
        {
          "output_type": "display_data",
          "data": {
            "image/png": "[encoded data removed]",
            "text/plain": [
              "<Figure size 432x216 with 2 Axes>"
            ]
          },
          "metadata": {
            "needs_background": "light"
          }
        }
      ]
    },
    {
      "cell_type": "code",
      "source": [
        "# 몇 개의 이미지의 예측을 출력해 보죠.\n",
        "# 올바르게 예측된 레이블은 파란색이고 잘못 예측된 레이블은 빨강색입니다. \n",
        "# 숫자는 예측 레이블의 신뢰도 퍼센트(100점 만점)입니다. 신뢰도 점수가 높을 때도 잘못 예측할 수 있습니다.\n",
        "\n",
        "# Plot the first X test images, their predicted labels, and the true labels.\n",
        "# Color correct predictions in blue and incorrect predictions in red.\n",
        "num_rows = 5\n",
        "num_cols = 3\n",
        "num_images = num_rows*num_cols\n",
        "plt.figure(figsize=(2*2*num_cols, 2*num_rows))\n",
        "for i in range(num_images):\n",
        "  plt.subplot(num_rows, 2*num_cols, 2*i+1)\n",
        "  plot_image(i, predictions[i], test_labels, test_images)\n",
        "  plt.subplot(num_rows, 2*num_cols, 2*i+2)\n",
        "  plot_value_array(i, predictions[i], test_labels)\n",
        "plt.tight_layout()\n",
        "plt.show()"
      ],
      "metadata": {
        "colab": {
          "base_uri": "https://localhost:8080/",
          "height": 729
        },
        "id": "QsDpLhpZYdSt",
        "outputId": "61207343-9ff4-41c4-8120-1c0f69af2685"
      },
      "execution_count": null,
      "outputs": [
        {
          "output_type": "display_data",
          "data": {
            "image/png": "[encoded data removed]",
            "text/plain": [
              "<Figure size 864x720 with 30 Axes>"
            ]
          },
          "metadata": {
            "needs_background": "light"
          }
        }
      ]
    },
    {
      "cell_type": "code",
      "source": [
        "# 마지막으로 훈련된 모델을 사용하여 한 이미지에 대한 예측을 만듭니다.\n",
        "# Grab an image from the test dataset.\n",
        "img = test_images[1]\n",
        "\n",
        "print(img.shape)"
      ],
      "metadata": {
        "colab": {
          "base_uri": "https://localhost:8080/"
        },
        "id": "PiQ2IziOYlO4",
        "outputId": "887ac251-30b7-4284-b5f1-7de071aa1072"
      },
      "execution_count": null,
      "outputs": [
        {
          "output_type": "stream",
          "name": "stdout",
          "text": [
            "(28, 28)\n"
          ]
        }
      ]
    },
    {
      "cell_type": "code",
      "source": [
        "# Add the image to a batch where it's the only member.\n",
        "img = (np.expand_dims(img,0))\n",
        "\n",
        "print(img.shape)"
      ],
      "metadata": {
        "colab": {
          "base_uri": "https://localhost:8080/"
        },
        "id": "kap8F5RiYx7T",
        "outputId": "f8f5b338-a71e-4f11-9110-40392ea11f3c"
      },
      "execution_count": null,
      "outputs": [
        {
          "output_type": "stream",
          "name": "stdout",
          "text": [
            "(1, 28, 28)\n"
          ]
        }
      ]
    },
    {
      "cell_type": "code",
      "source": [
        "# 이제 이 이미지의 예측을 만듭니다:\n",
        "predictions_single = probability_model.predict(img)\n",
        "\n",
        "print(predictions_single)"
      ],
      "metadata": {
        "colab": {
          "base_uri": "https://localhost:8080/"
        },
        "id": "co7Z_tr4Y0Kk",
        "outputId": "7cd73754-5d8d-481e-aa3d-21402dc7bad0"
      },
      "execution_count": null,
      "outputs": [
        {
          "output_type": "stream",
          "name": "stdout",
          "text": [
            "[[3.0201809e-05 3.6659785e-15 9.9961120e-01 3.0196214e-11 2.7648199e-04\n",
            "  2.0952722e-11 8.2062819e-05 1.7617667e-18 4.2385889e-13 2.8671136e-17]]\n"
          ]
        }
      ]
    },
    {
      "cell_type": "code",
      "source": [
        "plot_value_array(1, predictions_single[0], test_labels)\n",
        "_ = plt.xticks(range(10), class_names, rotation=45)\n",
        "plt.show()"
      ],
      "metadata": {
        "colab": {
          "base_uri": "https://localhost:8080/",
          "height": 300
        },
        "id": "EKmaRF2SY1-P",
        "outputId": "05f083c0-e15c-4082-9bb4-a40fa4763276"
      },
      "execution_count": null,
      "outputs": [
        {
          "output_type": "display_data",
          "data": {
            "image/png": "[encoded data removed]",
            "text/plain": [
              "<Figure size 432x288 with 1 Axes>"
            ]
          },
          "metadata": {
            "needs_background": "light"
          }
        }
      ]
    },
    {
      "cell_type": "code",
      "source": [
        "# tf.keras.Model.predict는 데이터 배치의 각 이미지에 대해 하나의 목록씩 목록의 목록을 반환합니다. \n",
        "# 배치에서 (유일한) 이미지에 대한 예측을 가져옵니다.\n",
        "np.argmax(predictions_single[0])"
      ],
      "metadata": {
        "colab": {
          "base_uri": "https://localhost:8080/"
        },
        "id": "btxUVxgSY3qe",
        "outputId": "d1ff76b0-3ed6-4b64-c335-c87931f93289"
      },
      "execution_count": null,
      "outputs": [
        {
          "output_type": "execute_result",
          "data": {
            "text/plain": [
              "2"
            ]
          },
          "metadata": {},
          "execution_count": 29
        }
      ]
    },
    {
      "cell_type": "markdown",
      "source": [
        "### 실습 02) <a href=https://www.tensorflow.org/tutorials/keras/regression>자동차 연비 예측하기</a>\n",
        "\n",
        "(링크 참조하면 자세한 설명 되어 있음)"
      ],
      "metadata": {
        "id": "L-i9nm-aZHM3"
      }
    },
    {
      "cell_type": "code",
      "source": [
        "# 산점도 행렬을 그리기 위해 seaborn 패키지를 설치합니다\n",
        "!pip install -q seaborn"
      ],
      "metadata": {
        "id": "P4dWFhmPZkjH"
      },
      "execution_count": null,
      "outputs": []
    },
    {
      "cell_type": "code",
      "source": [
        "import pathlib\n",
        "\n",
        "import matplotlib.pyplot as plt\n",
        "import pandas as pd\n",
        "import seaborn as sns\n",
        "\n",
        "import tensorflow as tf\n",
        "from tensorflow import keras\n",
        "from tensorflow.keras import layers\n",
        "\n",
        "print(tf.__version__)"
      ],
      "metadata": {
        "colab": {
          "base_uri": "https://localhost:8080/"
        },
        "id": "j6RVCaFCZxo0",
        "outputId": "3fcfc473-3697-423d-d4de-ca533821e2de"
      },
      "execution_count": null,
      "outputs": [
        {
          "output_type": "stream",
          "name": "stdout",
          "text": [
            "2.7.0\n"
          ]
        }
      ]
    },
    {
      "cell_type": "code",
      "source": [
        "# 데이터셋 다운로드\n",
        "dataset_path = keras.utils.get_file(\"auto-mpg.data\", \"http://archive.ics.uci.edu/ml/machine-learning-databases/auto-mpg/auto-mpg.data\")\n",
        "dataset_path"
      ],
      "metadata": {
        "colab": {
          "base_uri": "https://localhost:8080/",
          "height": 87
        },
        "id": "iZt2-kbDZ4rl",
        "outputId": "e5a1ea3a-aa00-438d-e1d7-d9872f1e1ffb"
      },
      "execution_count": null,
      "outputs": [
        {
          "output_type": "stream",
          "name": "stdout",
          "text": [
            "Downloading data from http://archive.ics.uci.edu/ml/machine-learning-databases/auto-mpg/auto-mpg.data\n",
            "32768/30286 [================================] - 0s 2us/step\n",
            "40960/30286 [========================================] - 0s 1us/step\n"
          ]
        },
        {
          "output_type": "execute_result",
          "data": {
            "application/vnd.google.colaboratory.intrinsic+json": {
              "type": "string"
            },
            "text/plain": [
              "'/root/.keras/datasets/auto-mpg.data'"
            ]
          },
          "metadata": {},
          "execution_count": 33
        }
      ]
    },
    {
      "cell_type": "code",
      "source": [
        "column_names = ['MPG','Cylinders','Displacement','Horsepower','Weight',\n",
        "                'Acceleration', 'Model Year', 'Origin']\n",
        "raw_dataset = pd.read_csv(dataset_path, names=column_names,\n",
        "                      na_values = \"?\", comment='\\t',\n",
        "                      sep=\" \", skipinitialspace=True)\n",
        "\n",
        "dataset = raw_dataset.copy()\n",
        "dataset.tail()"
      ],
      "metadata": {
        "colab": {
          "base_uri": "https://localhost:8080/",
          "height": 206
        },
        "id": "AaYXN6nRZ5zO",
        "outputId": "f0e65807-a703-43a9-ec52-79fa3d1a20d5"
      },
      "execution_count": null,
      "outputs": [
        {
          "output_type": "execute_result",
          "data": {
            "text/html": [
              "\n",
              "  <div id=\"df-d4fe15be-d31e-4e79-be33-b2d974ac3817\">\n",
              "    <div class=\"colab-df-container\">\n",
              "      <div>\n",
              "<style scoped>\n",
              "    .dataframe tbody tr th:only-of-type {\n",
              "        vertical-align: middle;\n",
              "    }\n",
              "\n",
              "    .dataframe tbody tr th {\n",
              "        vertical-align: top;\n",
              "    }\n",
              "\n",
              "    .dataframe thead th {\n",
              "        text-align: right;\n",
              "    }\n",
              "</style>\n",
              "<table border=\"1\" class=\"dataframe\">\n",
              "  <thead>\n",
              "    <tr style=\"text-align: right;\">\n",
              "      <th></th>\n",
              "      <th>MPG</th>\n",
              "      <th>Cylinders</th>\n",
              "      <th>Displacement</th>\n",
              "      <th>Horsepower</th>\n",
              "      <th>Weight</th>\n",
              "      <th>Acceleration</th>\n",
              "      <th>Model Year</th>\n",
              "      <th>Origin</th>\n",
              "    </tr>\n",
              "  </thead>\n",
              "  <tbody>\n",
              "    <tr>\n",
              "      <th>393</th>\n",
              "      <td>27.0</td>\n",
              "      <td>4</td>\n",
              "      <td>140.0</td>\n",
              "      <td>86.0</td>\n",
              "      <td>2790.0</td>\n",
              "      <td>15.6</td>\n",
              "      <td>82</td>\n",
              "      <td>1</td>\n",
              "    </tr>\n",
              "    <tr>\n",
              "      <th>394</th>\n",
              "      <td>44.0</td>\n",
              "      <td>4</td>\n",
              "      <td>97.0</td>\n",
              "      <td>52.0</td>\n",
              "      <td>2130.0</td>\n",
              "      <td>24.6</td>\n",
              "      <td>82</td>\n",
              "      <td>2</td>\n",
              "    </tr>\n",
              "    <tr>\n",
              "      <th>395</th>\n",
              "      <td>32.0</td>\n",
              "      <td>4</td>\n",
              "      <td>135.0</td>\n",
              "      <td>84.0</td>\n",
              "      <td>2295.0</td>\n",
              "      <td>11.6</td>\n",
              "      <td>82</td>\n",
              "      <td>1</td>\n",
              "    </tr>\n",
              "    <tr>\n",
              "      <th>396</th>\n",
              "      <td>28.0</td>\n",
              "      <td>4</td>\n",
              "      <td>120.0</td>\n",
              "      <td>79.0</td>\n",
              "      <td>2625.0</td>\n",
              "      <td>18.6</td>\n",
              "      <td>82</td>\n",
              "      <td>1</td>\n",
              "    </tr>\n",
              "    <tr>\n",
              "      <th>397</th>\n",
              "      <td>31.0</td>\n",
              "      <td>4</td>\n",
              "      <td>119.0</td>\n",
              "      <td>82.0</td>\n",
              "      <td>2720.0</td>\n",
              "      <td>19.4</td>\n",
              "      <td>82</td>\n",
              "      <td>1</td>\n",
              "    </tr>\n",
              "  </tbody>\n",
              "</table>\n",
              "</div>\n",
              "      <button class=\"colab-df-convert\" onclick=\"convertToInteractive('df-d4fe15be-d31e-4e79-be33-b2d974ac3817')\"\n",
              "              title=\"Convert this dataframe to an interactive table.\"\n",
              "              style=\"display:none;\">\n",
              "        \n",
              "  <svg xmlns=\"http://www.w3.org/2000/svg\" height=\"24px\"viewBox=\"0 0 24 24\"\n",
              "       width=\"24px\">\n",
              "    <path d=\"M0 0h24v24H0V0z\" fill=\"none\"/>\n",
              "    <path d=\"M18.56 5.44l.94 2.06.94-2.06 2.06-.94-2.06-.94-.94-2.06-.94 2.06-2.06.94zm-11 1L8.5 8.5l.94-2.06 2.06-.94-2.06-.94L8.5 2.5l-.94 2.06-2.06.94zm10 10l.94 2.06.94-2.06 2.06-.94-2.06-.94-.94-2.06-.94 2.06-2.06.94z\"/><path d=\"M17.41 7.96l-1.37-1.37c-.4-.4-.92-.59-1.43-.59-.52 0-1.04.2-1.43.59L10.3 9.45l-7.72 7.72c-.78.78-.78 2.05 0 2.83L4 21.41c.39.39.9.59 1.41.59.51 0 1.02-.2 1.41-.59l7.78-7.78 2.81-2.81c.8-.78.8-2.07 0-2.86zM5.41 20L4 18.59l7.72-7.72 1.47 1.35L5.41 20z\"/>\n",
              "  </svg>\n",
              "      </button>\n",
              "      \n",
              "  <style>\n",
              "    .colab-df-container {\n",
              "      display:flex;\n",
              "      flex-wrap:wrap;\n",
              "      gap: 12px;\n",
              "    }\n",
              "\n",
              "    .colab-df-convert {\n",
              "      background-color: #E8F0FE;\n",
              "      border: none;\n",
              "      border-radius: 50%;\n",
              "      cursor: pointer;\n",
              "      display: none;\n",
              "      fill: #1967D2;\n",
              "      height: 32px;\n",
              "      padding: 0 0 0 0;\n",
              "      width: 32px;\n",
              "    }\n",
              "\n",
              "    .colab-df-convert:hover {\n",
              "      background-color: #E2EBFA;\n",
              "      box-shadow: 0px 1px 2px rgba(60, 64, 67, 0.3), 0px 1px 3px 1px rgba(60, 64, 67, 0.15);\n",
              "      fill: #174EA6;\n",
              "    }\n",
              "\n",
              "    [theme=dark] .colab-df-convert {\n",
              "      background-color: #3B4455;\n",
              "      fill: #D2E3FC;\n",
              "    }\n",
              "\n",
              "    [theme=dark] .colab-df-convert:hover {\n",
              "      background-color: #434B5C;\n",
              "      box-shadow: 0px 1px 3px 1px rgba(0, 0, 0, 0.15);\n",
              "      filter: drop-shadow(0px 1px 2px rgba(0, 0, 0, 0.3));\n",
              "      fill: #FFFFFF;\n",
              "    }\n",
              "  </style>\n",
              "\n",
              "      <script>\n",
              "        const buttonEl =\n",
              "          document.querySelector('#df-d4fe15be-d31e-4e79-be33-b2d974ac3817 button.colab-df-convert');\n",
              "        buttonEl.style.display =\n",
              "          google.colab.kernel.accessAllowed ? 'block' : 'none';\n",
              "\n",
              "        async function convertToInteractive(key) {\n",
              "          const element = document.querySelector('#df-d4fe15be-d31e-4e79-be33-b2d974ac3817');\n",
              "          const dataTable =\n",
              "            await google.colab.kernel.invokeFunction('convertToInteractive',\n",
              "                                                     [key], {});\n",
              "          if (!dataTable) return;\n",
              "\n",
              "          const docLinkHtml = 'Like what you see? Visit the ' +\n",
              "            '<a target=\"_blank\" href=https://colab.research.google.com/notebooks/data_table.ipynb>data table notebook</a>'\n",
              "            + ' to learn more about interactive tables.';\n",
              "          element.innerHTML = '';\n",
              "          dataTable['output_type'] = 'display_data';\n",
              "          await google.colab.output.renderOutput(dataTable, element);\n",
              "          const docLink = document.createElement('div');\n",
              "          docLink.innerHTML = docLinkHtml;\n",
              "          element.appendChild(docLink);\n",
              "        }\n",
              "      </script>\n",
              "    </div>\n",
              "  </div>\n",
              "  "
            ],
            "text/plain": [
              "      MPG  Cylinders  Displacement  ...  Acceleration  Model Year  Origin\n",
              "393  27.0          4         140.0  ...          15.6          82       1\n",
              "394  44.0          4          97.0  ...          24.6          82       2\n",
              "395  32.0          4         135.0  ...          11.6          82       1\n",
              "396  28.0          4         120.0  ...          18.6          82       1\n",
              "397  31.0          4         119.0  ...          19.4          82       1\n",
              "\n",
              "[5 rows x 8 columns]"
            ]
          },
          "metadata": {},
          "execution_count": 35
        }
      ]
    },
    {
      "cell_type": "code",
      "source": [
        "# 데이터셋 정제: 일부 데이터가 누락되어 있음\n",
        "dataset.isna().sum()"
      ],
      "metadata": {
        "colab": {
          "base_uri": "https://localhost:8080/"
        },
        "id": "kpuPGpixZ71o",
        "outputId": "8b5c5a67-89df-493d-d282-61105c87fee2"
      },
      "execution_count": null,
      "outputs": [
        {
          "output_type": "execute_result",
          "data": {
            "text/plain": [
              "MPG             0\n",
              "Cylinders       0\n",
              "Displacement    0\n",
              "Horsepower      6\n",
              "Weight          0\n",
              "Acceleration    0\n",
              "Model Year      0\n",
              "Origin          0\n",
              "dtype: int64"
            ]
          },
          "metadata": {},
          "execution_count": 36
        }
      ]
    },
    {
      "cell_type": "code",
      "source": [
        "# 누락된 데이터는 삭제해줌.\n",
        "dataset = dataset.dropna()"
      ],
      "metadata": {
        "id": "r26cdAEMaIW1"
      },
      "execution_count": null,
      "outputs": []
    },
    {
      "cell_type": "code",
      "source": [
        "# \"Origin\" 열은 수치형이 아니고 범주형이므로 원-핫 인코딩(one-hot encoding)으로 변환하겠습니다\n",
        "origin = dataset.pop('Origin')"
      ],
      "metadata": {
        "id": "N9gyuc1_aLpe"
      },
      "execution_count": null,
      "outputs": []
    },
    {
      "cell_type": "code",
      "source": [
        "dataset['USA'] = (origin == 1)*1.0\n",
        "dataset['Europe'] = (origin == 2)*1.0\n",
        "dataset['Japan'] = (origin == 3)*1.0\n",
        "dataset.tail()"
      ],
      "metadata": {
        "colab": {
          "base_uri": "https://localhost:8080/",
          "height": 206
        },
        "id": "uT9SNhkBaQLb",
        "outputId": "170b6d42-fe9c-4bd9-9833-dd5cff339844"
      },
      "execution_count": null,
      "outputs": [
        {
          "output_type": "execute_result",
          "data": {
            "text/html": [
              "\n",
              "  <div id=\"df-2789f064-f04f-40d2-a5b8-8a928d10bd9c\">\n",
              "    <div class=\"colab-df-container\">\n",
              "      <div>\n",
              "<style scoped>\n",
              "    .dataframe tbody tr th:only-of-type {\n",
              "        vertical-align: middle;\n",
              "    }\n",
              "\n",
              "    .dataframe tbody tr th {\n",
              "        vertical-align: top;\n",
              "    }\n",
              "\n",
              "    .dataframe thead th {\n",
              "        text-align: right;\n",
              "    }\n",
              "</style>\n",
              "<table border=\"1\" class=\"dataframe\">\n",
              "  <thead>\n",
              "    <tr style=\"text-align: right;\">\n",
              "      <th></th>\n",
              "      <th>MPG</th>\n",
              "      <th>Cylinders</th>\n",
              "      <th>Displacement</th>\n",
              "      <th>Horsepower</th>\n",
              "      <th>Weight</th>\n",
              "      <th>Acceleration</th>\n",
              "      <th>Model Year</th>\n",
              "      <th>USA</th>\n",
              "      <th>Europe</th>\n",
              "      <th>Japan</th>\n",
              "    </tr>\n",
              "  </thead>\n",
              "  <tbody>\n",
              "    <tr>\n",
              "      <th>393</th>\n",
              "      <td>27.0</td>\n",
              "      <td>4</td>\n",
              "      <td>140.0</td>\n",
              "      <td>86.0</td>\n",
              "      <td>2790.0</td>\n",
              "      <td>15.6</td>\n",
              "      <td>82</td>\n",
              "      <td>1.0</td>\n",
              "      <td>0.0</td>\n",
              "      <td>0.0</td>\n",
              "    </tr>\n",
              "    <tr>\n",
              "      <th>394</th>\n",
              "      <td>44.0</td>\n",
              "      <td>4</td>\n",
              "      <td>97.0</td>\n",
              "      <td>52.0</td>\n",
              "      <td>2130.0</td>\n",
              "      <td>24.6</td>\n",
              "      <td>82</td>\n",
              "      <td>0.0</td>\n",
              "      <td>1.0</td>\n",
              "      <td>0.0</td>\n",
              "    </tr>\n",
              "    <tr>\n",
              "      <th>395</th>\n",
              "      <td>32.0</td>\n",
              "      <td>4</td>\n",
              "      <td>135.0</td>\n",
              "      <td>84.0</td>\n",
              "      <td>2295.0</td>\n",
              "      <td>11.6</td>\n",
              "      <td>82</td>\n",
              "      <td>1.0</td>\n",
              "      <td>0.0</td>\n",
              "      <td>0.0</td>\n",
              "    </tr>\n",
              "    <tr>\n",
              "      <th>396</th>\n",
              "      <td>28.0</td>\n",
              "      <td>4</td>\n",
              "      <td>120.0</td>\n",
              "      <td>79.0</td>\n",
              "      <td>2625.0</td>\n",
              "      <td>18.6</td>\n",
              "      <td>82</td>\n",
              "      <td>1.0</td>\n",
              "      <td>0.0</td>\n",
              "      <td>0.0</td>\n",
              "    </tr>\n",
              "    <tr>\n",
              "      <th>397</th>\n",
              "      <td>31.0</td>\n",
              "      <td>4</td>\n",
              "      <td>119.0</td>\n",
              "      <td>82.0</td>\n",
              "      <td>2720.0</td>\n",
              "      <td>19.4</td>\n",
              "      <td>82</td>\n",
              "      <td>1.0</td>\n",
              "      <td>0.0</td>\n",
              "      <td>0.0</td>\n",
              "    </tr>\n",
              "  </tbody>\n",
              "</table>\n",
              "</div>\n",
              "      <button class=\"colab-df-convert\" onclick=\"convertToInteractive('df-2789f064-f04f-40d2-a5b8-8a928d10bd9c')\"\n",
              "              title=\"Convert this dataframe to an interactive table.\"\n",
              "              style=\"display:none;\">\n",
              "        \n",
              "  <svg xmlns=\"http://www.w3.org/2000/svg\" height=\"24px\"viewBox=\"0 0 24 24\"\n",
              "       width=\"24px\">\n",
              "    <path d=\"M0 0h24v24H0V0z\" fill=\"none\"/>\n",
              "    <path d=\"M18.56 5.44l.94 2.06.94-2.06 2.06-.94-2.06-.94-.94-2.06-.94 2.06-2.06.94zm-11 1L8.5 8.5l.94-2.06 2.06-.94-2.06-.94L8.5 2.5l-.94 2.06-2.06.94zm10 10l.94 2.06.94-2.06 2.06-.94-2.06-.94-.94-2.06-.94 2.06-2.06.94z\"/><path d=\"M17.41 7.96l-1.37-1.37c-.4-.4-.92-.59-1.43-.59-.52 0-1.04.2-1.43.59L10.3 9.45l-7.72 7.72c-.78.78-.78 2.05 0 2.83L4 21.41c.39.39.9.59 1.41.59.51 0 1.02-.2 1.41-.59l7.78-7.78 2.81-2.81c.8-.78.8-2.07 0-2.86zM5.41 20L4 18.59l7.72-7.72 1.47 1.35L5.41 20z\"/>\n",
              "  </svg>\n",
              "      </button>\n",
              "      \n",
              "  <style>\n",
              "    .colab-df-container {\n",
              "      display:flex;\n",
              "      flex-wrap:wrap;\n",
              "      gap: 12px;\n",
              "    }\n",
              "\n",
              "    .colab-df-convert {\n",
              "      background-color: #E8F0FE;\n",
              "      border: none;\n",
              "      border-radius: 50%;\n",
              "      cursor: pointer;\n",
              "      display: none;\n",
              "      fill: #1967D2;\n",
              "      height: 32px;\n",
              "      padding: 0 0 0 0;\n",
              "      width: 32px;\n",
              "    }\n",
              "\n",
              "    .colab-df-convert:hover {\n",
              "      background-color: #E2EBFA;\n",
              "      box-shadow: 0px 1px 2px rgba(60, 64, 67, 0.3), 0px 1px 3px 1px rgba(60, 64, 67, 0.15);\n",
              "      fill: #174EA6;\n",
              "    }\n",
              "\n",
              "    [theme=dark] .colab-df-convert {\n",
              "      background-color: #3B4455;\n",
              "      fill: #D2E3FC;\n",
              "    }\n",
              "\n",
              "    [theme=dark] .colab-df-convert:hover {\n",
              "      background-color: #434B5C;\n",
              "      box-shadow: 0px 1px 3px 1px rgba(0, 0, 0, 0.15);\n",
              "      filter: drop-shadow(0px 1px 2px rgba(0, 0, 0, 0.3));\n",
              "      fill: #FFFFFF;\n",
              "    }\n",
              "  </style>\n",
              "\n",
              "      <script>\n",
              "        const buttonEl =\n",
              "          document.querySelector('#df-2789f064-f04f-40d2-a5b8-8a928d10bd9c button.colab-df-convert');\n",
              "        buttonEl.style.display =\n",
              "          google.colab.kernel.accessAllowed ? 'block' : 'none';\n",
              "\n",
              "        async function convertToInteractive(key) {\n",
              "          const element = document.querySelector('#df-2789f064-f04f-40d2-a5b8-8a928d10bd9c');\n",
              "          const dataTable =\n",
              "            await google.colab.kernel.invokeFunction('convertToInteractive',\n",
              "                                                     [key], {});\n",
              "          if (!dataTable) return;\n",
              "\n",
              "          const docLinkHtml = 'Like what you see? Visit the ' +\n",
              "            '<a target=\"_blank\" href=https://colab.research.google.com/notebooks/data_table.ipynb>data table notebook</a>'\n",
              "            + ' to learn more about interactive tables.';\n",
              "          element.innerHTML = '';\n",
              "          dataTable['output_type'] = 'display_data';\n",
              "          await google.colab.output.renderOutput(dataTable, element);\n",
              "          const docLink = document.createElement('div');\n",
              "          docLink.innerHTML = docLinkHtml;\n",
              "          element.appendChild(docLink);\n",
              "        }\n",
              "      </script>\n",
              "    </div>\n",
              "  </div>\n",
              "  "
            ],
            "text/plain": [
              "      MPG  Cylinders  Displacement  Horsepower  ...  Model Year  USA  Europe  Japan\n",
              "393  27.0          4         140.0        86.0  ...          82  1.0     0.0    0.0\n",
              "394  44.0          4          97.0        52.0  ...          82  0.0     1.0    0.0\n",
              "395  32.0          4         135.0        84.0  ...          82  1.0     0.0    0.0\n",
              "396  28.0          4         120.0        79.0  ...          82  1.0     0.0    0.0\n",
              "397  31.0          4         119.0        82.0  ...          82  1.0     0.0    0.0\n",
              "\n",
              "[5 rows x 10 columns]"
            ]
          },
          "metadata": {},
          "execution_count": 39
        }
      ]
    },
    {
      "cell_type": "code",
      "source": [
        "# 데이터셋 분할\n",
        "train_dataset = dataset.sample(frac=0.8,random_state=0)\n",
        "test_dataset = dataset.drop(train_dataset.index)"
      ],
      "metadata": {
        "id": "3oQI7z4xaSRA"
      },
      "execution_count": null,
      "outputs": []
    },
    {
      "cell_type": "code",
      "source": [
        "# 데이터 조사\n",
        "sns.pairplot(train_dataset[[\"MPG\", \"Cylinders\", \"Displacement\", \"Weight\"]], diag_kind=\"kde\")"
      ],
      "metadata": {
        "colab": {
          "base_uri": "https://localhost:8080/",
          "height": 743
        },
        "id": "mbcCYUBoaVFZ",
        "outputId": "c3cdea24-d11a-4da4-cb89-eafc11f42e05"
      },
      "execution_count": null,
      "outputs": [
        {
          "output_type": "execute_result",
          "data": {
            "text/plain": [
              "<seaborn.axisgrid.PairGrid at 0x7febc816a2d0>"
            ]
          },
          "metadata": {},
          "execution_count": 41
        },
        {
          "output_type": "display_data",
          "data": {
            "image/png": "[encoded data removed]",
            "text/plain": [
              "<Figure size 720x720 with 20 Axes>"
            ]
          },
          "metadata": {
            "needs_background": "light"
          }
        }
      ]
    },
    {
      "cell_type": "code",
      "source": [
        "# 전반적인 통계 확인\n",
        "train_stats = train_dataset.describe()\n",
        "train_stats.pop(\"MPG\")\n",
        "train_stats = train_stats.transpose()\n",
        "train_stats"
      ],
      "metadata": {
        "colab": {
          "base_uri": "https://localhost:8080/",
          "height": 332
        },
        "id": "H7ct4OH2aXuy",
        "outputId": "91194755-cb7d-427a-9241-df28ef18c9c2"
      },
      "execution_count": null,
      "outputs": [
        {
          "output_type": "execute_result",
          "data": {
            "text/html": [
              "\n",
              "  <div id=\"df-e2e7a42e-9433-46da-ac75-d23970a6aa59\">\n",
              "    <div class=\"colab-df-container\">\n",
              "      <div>\n",
              "<style scoped>\n",
              "    .dataframe tbody tr th:only-of-type {\n",
              "        vertical-align: middle;\n",
              "    }\n",
              "\n",
              "    .dataframe tbody tr th {\n",
              "        vertical-align: top;\n",
              "    }\n",
              "\n",
              "    .dataframe thead th {\n",
              "        text-align: right;\n",
              "    }\n",
              "</style>\n",
              "<table border=\"1\" class=\"dataframe\">\n",
              "  <thead>\n",
              "    <tr style=\"text-align: right;\">\n",
              "      <th></th>\n",
              "      <th>count</th>\n",
              "      <th>mean</th>\n",
              "      <th>std</th>\n",
              "      <th>min</th>\n",
              "      <th>25%</th>\n",
              "      <th>50%</th>\n",
              "      <th>75%</th>\n",
              "      <th>max</th>\n",
              "    </tr>\n",
              "  </thead>\n",
              "  <tbody>\n",
              "    <tr>\n",
              "      <th>Cylinders</th>\n",
              "      <td>314.0</td>\n",
              "      <td>5.477707</td>\n",
              "      <td>1.699788</td>\n",
              "      <td>3.0</td>\n",
              "      <td>4.00</td>\n",
              "      <td>4.0</td>\n",
              "      <td>8.00</td>\n",
              "      <td>8.0</td>\n",
              "    </tr>\n",
              "    <tr>\n",
              "      <th>Displacement</th>\n",
              "      <td>314.0</td>\n",
              "      <td>195.318471</td>\n",
              "      <td>104.331589</td>\n",
              "      <td>68.0</td>\n",
              "      <td>105.50</td>\n",
              "      <td>151.0</td>\n",
              "      <td>265.75</td>\n",
              "      <td>455.0</td>\n",
              "    </tr>\n",
              "    <tr>\n",
              "      <th>Horsepower</th>\n",
              "      <td>314.0</td>\n",
              "      <td>104.869427</td>\n",
              "      <td>38.096214</td>\n",
              "      <td>46.0</td>\n",
              "      <td>76.25</td>\n",
              "      <td>94.5</td>\n",
              "      <td>128.00</td>\n",
              "      <td>225.0</td>\n",
              "    </tr>\n",
              "    <tr>\n",
              "      <th>Weight</th>\n",
              "      <td>314.0</td>\n",
              "      <td>2990.251592</td>\n",
              "      <td>843.898596</td>\n",
              "      <td>1649.0</td>\n",
              "      <td>2256.50</td>\n",
              "      <td>2822.5</td>\n",
              "      <td>3608.00</td>\n",
              "      <td>5140.0</td>\n",
              "    </tr>\n",
              "    <tr>\n",
              "      <th>Acceleration</th>\n",
              "      <td>314.0</td>\n",
              "      <td>15.559236</td>\n",
              "      <td>2.789230</td>\n",
              "      <td>8.0</td>\n",
              "      <td>13.80</td>\n",
              "      <td>15.5</td>\n",
              "      <td>17.20</td>\n",
              "      <td>24.8</td>\n",
              "    </tr>\n",
              "    <tr>\n",
              "      <th>Model Year</th>\n",
              "      <td>314.0</td>\n",
              "      <td>75.898089</td>\n",
              "      <td>3.675642</td>\n",
              "      <td>70.0</td>\n",
              "      <td>73.00</td>\n",
              "      <td>76.0</td>\n",
              "      <td>79.00</td>\n",
              "      <td>82.0</td>\n",
              "    </tr>\n",
              "    <tr>\n",
              "      <th>USA</th>\n",
              "      <td>314.0</td>\n",
              "      <td>0.624204</td>\n",
              "      <td>0.485101</td>\n",
              "      <td>0.0</td>\n",
              "      <td>0.00</td>\n",
              "      <td>1.0</td>\n",
              "      <td>1.00</td>\n",
              "      <td>1.0</td>\n",
              "    </tr>\n",
              "    <tr>\n",
              "      <th>Europe</th>\n",
              "      <td>314.0</td>\n",
              "      <td>0.178344</td>\n",
              "      <td>0.383413</td>\n",
              "      <td>0.0</td>\n",
              "      <td>0.00</td>\n",
              "      <td>0.0</td>\n",
              "      <td>0.00</td>\n",
              "      <td>1.0</td>\n",
              "    </tr>\n",
              "    <tr>\n",
              "      <th>Japan</th>\n",
              "      <td>314.0</td>\n",
              "      <td>0.197452</td>\n",
              "      <td>0.398712</td>\n",
              "      <td>0.0</td>\n",
              "      <td>0.00</td>\n",
              "      <td>0.0</td>\n",
              "      <td>0.00</td>\n",
              "      <td>1.0</td>\n",
              "    </tr>\n",
              "  </tbody>\n",
              "</table>\n",
              "</div>\n",
              "      <button class=\"colab-df-convert\" onclick=\"convertToInteractive('df-e2e7a42e-9433-46da-ac75-d23970a6aa59')\"\n",
              "              title=\"Convert this dataframe to an interactive table.\"\n",
              "              style=\"display:none;\">\n",
              "        \n",
              "  <svg xmlns=\"http://www.w3.org/2000/svg\" height=\"24px\"viewBox=\"0 0 24 24\"\n",
              "       width=\"24px\">\n",
              "    <path d=\"M0 0h24v24H0V0z\" fill=\"none\"/>\n",
              "    <path d=\"M18.56 5.44l.94 2.06.94-2.06 2.06-.94-2.06-.94-.94-2.06-.94 2.06-2.06.94zm-11 1L8.5 8.5l.94-2.06 2.06-.94-2.06-.94L8.5 2.5l-.94 2.06-2.06.94zm10 10l.94 2.06.94-2.06 2.06-.94-2.06-.94-.94-2.06-.94 2.06-2.06.94z\"/><path d=\"M17.41 7.96l-1.37-1.37c-.4-.4-.92-.59-1.43-.59-.52 0-1.04.2-1.43.59L10.3 9.45l-7.72 7.72c-.78.78-.78 2.05 0 2.83L4 21.41c.39.39.9.59 1.41.59.51 0 1.02-.2 1.41-.59l7.78-7.78 2.81-2.81c.8-.78.8-2.07 0-2.86zM5.41 20L4 18.59l7.72-7.72 1.47 1.35L5.41 20z\"/>\n",
              "  </svg>\n",
              "      </button>\n",
              "      \n",
              "  <style>\n",
              "    .colab-df-container {\n",
              "      display:flex;\n",
              "      flex-wrap:wrap;\n",
              "      gap: 12px;\n",
              "    }\n",
              "\n",
              "    .colab-df-convert {\n",
              "      background-color: #E8F0FE;\n",
              "      border: none;\n",
              "      border-radius: 50%;\n",
              "      cursor: pointer;\n",
              "      display: none;\n",
              "      fill: #1967D2;\n",
              "      height: 32px;\n",
              "      padding: 0 0 0 0;\n",
              "      width: 32px;\n",
              "    }\n",
              "\n",
              "    .colab-df-convert:hover {\n",
              "      background-color: #E2EBFA;\n",
              "      box-shadow: 0px 1px 2px rgba(60, 64, 67, 0.3), 0px 1px 3px 1px rgba(60, 64, 67, 0.15);\n",
              "      fill: #174EA6;\n",
              "    }\n",
              "\n",
              "    [theme=dark] .colab-df-convert {\n",
              "      background-color: #3B4455;\n",
              "      fill: #D2E3FC;\n",
              "    }\n",
              "\n",
              "    [theme=dark] .colab-df-convert:hover {\n",
              "      background-color: #434B5C;\n",
              "      box-shadow: 0px 1px 3px 1px rgba(0, 0, 0, 0.15);\n",
              "      filter: drop-shadow(0px 1px 2px rgba(0, 0, 0, 0.3));\n",
              "      fill: #FFFFFF;\n",
              "    }\n",
              "  </style>\n",
              "\n",
              "      <script>\n",
              "        const buttonEl =\n",
              "          document.querySelector('#df-e2e7a42e-9433-46da-ac75-d23970a6aa59 button.colab-df-convert');\n",
              "        buttonEl.style.display =\n",
              "          google.colab.kernel.accessAllowed ? 'block' : 'none';\n",
              "\n",
              "        async function convertToInteractive(key) {\n",
              "          const element = document.querySelector('#df-e2e7a42e-9433-46da-ac75-d23970a6aa59');\n",
              "          const dataTable =\n",
              "            await google.colab.kernel.invokeFunction('convertToInteractive',\n",
              "                                                     [key], {});\n",
              "          if (!dataTable) return;\n",
              "\n",
              "          const docLinkHtml = 'Like what you see? Visit the ' +\n",
              "            '<a target=\"_blank\" href=https://colab.research.google.com/notebooks/data_table.ipynb>data table notebook</a>'\n",
              "            + ' to learn more about interactive tables.';\n",
              "          element.innerHTML = '';\n",
              "          dataTable['output_type'] = 'display_data';\n",
              "          await google.colab.output.renderOutput(dataTable, element);\n",
              "          const docLink = document.createElement('div');\n",
              "          docLink.innerHTML = docLinkHtml;\n",
              "          element.appendChild(docLink);\n",
              "        }\n",
              "      </script>\n",
              "    </div>\n",
              "  </div>\n",
              "  "
            ],
            "text/plain": [
              "              count         mean         std  ...     50%      75%     max\n",
              "Cylinders     314.0     5.477707    1.699788  ...     4.0     8.00     8.0\n",
              "Displacement  314.0   195.318471  104.331589  ...   151.0   265.75   455.0\n",
              "Horsepower    314.0   104.869427   38.096214  ...    94.5   128.00   225.0\n",
              "Weight        314.0  2990.251592  843.898596  ...  2822.5  3608.00  5140.0\n",
              "Acceleration  314.0    15.559236    2.789230  ...    15.5    17.20    24.8\n",
              "Model Year    314.0    75.898089    3.675642  ...    76.0    79.00    82.0\n",
              "USA           314.0     0.624204    0.485101  ...     1.0     1.00     1.0\n",
              "Europe        314.0     0.178344    0.383413  ...     0.0     0.00     1.0\n",
              "Japan         314.0     0.197452    0.398712  ...     0.0     0.00     1.0\n",
              "\n",
              "[9 rows x 8 columns]"
            ]
          },
          "metadata": {},
          "execution_count": 42
        }
      ]
    },
    {
      "cell_type": "code",
      "source": [
        "# 특성과 레이블 분리\n",
        "train_labels = train_dataset.pop('MPG')\n",
        "test_labels = test_dataset.pop('MPG')"
      ],
      "metadata": {
        "id": "ylSbZUrDaaWK"
      },
      "execution_count": null,
      "outputs": []
    },
    {
      "cell_type": "code",
      "source": [
        "# 데이터 정규화\n",
        "def norm(x):\n",
        "  return (x - train_stats['mean']) / train_stats['std']\n",
        "normed_train_data = norm(train_dataset)\n",
        "normed_test_data = norm(test_dataset)"
      ],
      "metadata": {
        "id": "butv8pJTaeWs"
      },
      "execution_count": null,
      "outputs": []
    },
    {
      "cell_type": "code",
      "source": [
        "# 모델 생성\n",
        "def build_model():\n",
        "  model = keras.Sequential([\n",
        "    layers.Dense(64, activation='relu', input_shape=[len(train_dataset.keys())]),\n",
        "    layers.Dense(64, activation='relu'),\n",
        "    layers.Dense(1)\n",
        "  ])\n",
        "\n",
        "  optimizer = tf.keras.optimizers.RMSprop(0.001)\n",
        "\n",
        "  model.compile(loss='mse',\n",
        "                optimizer=optimizer,\n",
        "                metrics=['mae', 'mse'])\n",
        "  return model"
      ],
      "metadata": {
        "id": "M4SHs17nag0t"
      },
      "execution_count": null,
      "outputs": []
    },
    {
      "cell_type": "code",
      "source": [
        "model = build_model()"
      ],
      "metadata": {
        "id": "2kHxa1UaamuE"
      },
      "execution_count": null,
      "outputs": []
    },
    {
      "cell_type": "code",
      "source": [
        "# 모델 정보 확인\n",
        "model.summary()"
      ],
      "metadata": {
        "colab": {
          "base_uri": "https://localhost:8080/"
        },
        "id": "JnmkV6F3aodh",
        "outputId": "3f45dd69-6787-4554-bef7-9171aaaabb62"
      },
      "execution_count": null,
      "outputs": [
        {
          "output_type": "stream",
          "name": "stdout",
          "text": [
            "Model: \"sequential_2\"\n",
            "_________________________________________________________________\n",
            " Layer (type)                Output Shape              Param #   \n",
            "=================================================================\n",
            " dense_2 (Dense)             (None, 64)                640       \n",
            "                                                                 \n",
            " dense_3 (Dense)             (None, 64)                4160      \n",
            "                                                                 \n",
            " dense_4 (Dense)             (None, 1)                 65        \n",
            "                                                                 \n",
            "=================================================================\n",
            "Total params: 4,865\n",
            "Trainable params: 4,865\n",
            "Non-trainable params: 0\n",
            "_________________________________________________________________\n"
          ]
        }
      ]
    },
    {
      "cell_type": "code",
      "source": [
        "# 모델 실행\n",
        "example_batch = normed_train_data[:10]\n",
        "example_result = model.predict(example_batch)\n",
        "example_result"
      ],
      "metadata": {
        "colab": {
          "base_uri": "https://localhost:8080/"
        },
        "id": "N_mn_2YkarJx",
        "outputId": "79aec52c-5c7d-4a83-bfc7-5ea281d2ac5f"
      },
      "execution_count": null,
      "outputs": [
        {
          "output_type": "execute_result",
          "data": {
            "text/plain": [
              "array([[-0.23509522],\n",
              "       [-0.04161419],\n",
              "       [ 0.1812914 ],\n",
              "       [-0.24486071],\n",
              "       [-0.37984347],\n",
              "       [ 0.0139197 ],\n",
              "       [-0.39962044],\n",
              "       [-0.25273478],\n",
              "       [ 0.02602579],\n",
              "       [-0.5684102 ]], dtype=float32)"
            ]
          },
          "metadata": {},
          "execution_count": 48
        }
      ]
    },
    {
      "cell_type": "code",
      "source": [
        "# 에포크가 끝날 때마다 점(.)을 출력해 훈련 진행 과정을 표시합니다\n",
        "class PrintDot(keras.callbacks.Callback):\n",
        "  def on_epoch_end(self, epoch, logs):\n",
        "    if epoch % 100 == 0: print('')\n",
        "    print('.', end='')\n",
        "\n",
        "EPOCHS = 1000\n",
        "\n",
        "history = model.fit(\n",
        "  normed_train_data, train_labels,\n",
        "  epochs=EPOCHS, validation_split = 0.2, verbose=0,\n",
        "  callbacks=[PrintDot()])"
      ],
      "metadata": {
        "colab": {
          "base_uri": "https://localhost:8080/"
        },
        "id": "HWm7r-25awM4",
        "outputId": "772bae2a-a900-42aa-9328-5cefe26104de"
      },
      "execution_count": null,
      "outputs": [
        {
          "output_type": "stream",
          "name": "stdout",
          "text": [
            "\n",
            "....................................................................................................\n",
            "....................................................................................................\n",
            "....................................................................................................\n",
            "....................................................................................................\n",
            "....................................................................................................\n",
            "....................................................................................................\n",
            "....................................................................................................\n",
            "....................................................................................................\n",
            "....................................................................................................\n",
            "...................................................................................................."
          ]
        }
      ]
    },
    {
      "cell_type": "code",
      "source": [
        "# history 객체에 저장된 통계치를 사용해 모델의 훈련 과정을 시각화해 보죠.\n",
        "\n",
        "hist = pd.DataFrame(history.history)\n",
        "hist['epoch'] = history.epoch\n",
        "hist.tail()"
      ],
      "metadata": {
        "colab": {
          "base_uri": "https://localhost:8080/",
          "height": 206
        },
        "id": "72fuhvLoa7b-",
        "outputId": "a93ec2e8-ec5b-4526-d21a-b30436080370"
      },
      "execution_count": null,
      "outputs": [
        {
          "output_type": "execute_result",
          "data": {
            "text/html": [
              "\n",
              "  <div id=\"df-869609f6-3249-4a10-add7-81a55476ba83\">\n",
              "    <div class=\"colab-df-container\">\n",
              "      <div>\n",
              "<style scoped>\n",
              "    .dataframe tbody tr th:only-of-type {\n",
              "        vertical-align: middle;\n",
              "    }\n",
              "\n",
              "    .dataframe tbody tr th {\n",
              "        vertical-align: top;\n",
              "    }\n",
              "\n",
              "    .dataframe thead th {\n",
              "        text-align: right;\n",
              "    }\n",
              "</style>\n",
              "<table border=\"1\" class=\"dataframe\">\n",
              "  <thead>\n",
              "    <tr style=\"text-align: right;\">\n",
              "      <th></th>\n",
              "      <th>loss</th>\n",
              "      <th>mae</th>\n",
              "      <th>mse</th>\n",
              "      <th>val_loss</th>\n",
              "      <th>val_mae</th>\n",
              "      <th>val_mse</th>\n",
              "      <th>epoch</th>\n",
              "    </tr>\n",
              "  </thead>\n",
              "  <tbody>\n",
              "    <tr>\n",
              "      <th>995</th>\n",
              "      <td>2.856566</td>\n",
              "      <td>1.093202</td>\n",
              "      <td>2.856566</td>\n",
              "      <td>9.993576</td>\n",
              "      <td>2.456419</td>\n",
              "      <td>9.993576</td>\n",
              "      <td>995</td>\n",
              "    </tr>\n",
              "    <tr>\n",
              "      <th>996</th>\n",
              "      <td>2.554715</td>\n",
              "      <td>0.986078</td>\n",
              "      <td>2.554715</td>\n",
              "      <td>10.466216</td>\n",
              "      <td>2.517433</td>\n",
              "      <td>10.466216</td>\n",
              "      <td>996</td>\n",
              "    </tr>\n",
              "    <tr>\n",
              "      <th>997</th>\n",
              "      <td>2.749185</td>\n",
              "      <td>1.070588</td>\n",
              "      <td>2.749185</td>\n",
              "      <td>9.717805</td>\n",
              "      <td>2.444398</td>\n",
              "      <td>9.717805</td>\n",
              "      <td>997</td>\n",
              "    </tr>\n",
              "    <tr>\n",
              "      <th>998</th>\n",
              "      <td>2.580392</td>\n",
              "      <td>1.016968</td>\n",
              "      <td>2.580392</td>\n",
              "      <td>10.328191</td>\n",
              "      <td>2.489399</td>\n",
              "      <td>10.328191</td>\n",
              "      <td>998</td>\n",
              "    </tr>\n",
              "    <tr>\n",
              "      <th>999</th>\n",
              "      <td>2.541680</td>\n",
              "      <td>1.039585</td>\n",
              "      <td>2.541680</td>\n",
              "      <td>9.925570</td>\n",
              "      <td>2.455456</td>\n",
              "      <td>9.925570</td>\n",
              "      <td>999</td>\n",
              "    </tr>\n",
              "  </tbody>\n",
              "</table>\n",
              "</div>\n",
              "      <button class=\"colab-df-convert\" onclick=\"convertToInteractive('df-869609f6-3249-4a10-add7-81a55476ba83')\"\n",
              "              title=\"Convert this dataframe to an interactive table.\"\n",
              "              style=\"display:none;\">\n",
              "        \n",
              "  <svg xmlns=\"http://www.w3.org/2000/svg\" height=\"24px\"viewBox=\"0 0 24 24\"\n",
              "       width=\"24px\">\n",
              "    <path d=\"M0 0h24v24H0V0z\" fill=\"none\"/>\n",
              "    <path d=\"M18.56 5.44l.94 2.06.94-2.06 2.06-.94-2.06-.94-.94-2.06-.94 2.06-2.06.94zm-11 1L8.5 8.5l.94-2.06 2.06-.94-2.06-.94L8.5 2.5l-.94 2.06-2.06.94zm10 10l.94 2.06.94-2.06 2.06-.94-2.06-.94-.94-2.06-.94 2.06-2.06.94z\"/><path d=\"M17.41 7.96l-1.37-1.37c-.4-.4-.92-.59-1.43-.59-.52 0-1.04.2-1.43.59L10.3 9.45l-7.72 7.72c-.78.78-.78 2.05 0 2.83L4 21.41c.39.39.9.59 1.41.59.51 0 1.02-.2 1.41-.59l7.78-7.78 2.81-2.81c.8-.78.8-2.07 0-2.86zM5.41 20L4 18.59l7.72-7.72 1.47 1.35L5.41 20z\"/>\n",
              "  </svg>\n",
              "      </button>\n",
              "      \n",
              "  <style>\n",
              "    .colab-df-container {\n",
              "      display:flex;\n",
              "      flex-wrap:wrap;\n",
              "      gap: 12px;\n",
              "    }\n",
              "\n",
              "    .colab-df-convert {\n",
              "      background-color: #E8F0FE;\n",
              "      border: none;\n",
              "      border-radius: 50%;\n",
              "      cursor: pointer;\n",
              "      display: none;\n",
              "      fill: #1967D2;\n",
              "      height: 32px;\n",
              "      padding: 0 0 0 0;\n",
              "      width: 32px;\n",
              "    }\n",
              "\n",
              "    .colab-df-convert:hover {\n",
              "      background-color: #E2EBFA;\n",
              "      box-shadow: 0px 1px 2px rgba(60, 64, 67, 0.3), 0px 1px 3px 1px rgba(60, 64, 67, 0.15);\n",
              "      fill: #174EA6;\n",
              "    }\n",
              "\n",
              "    [theme=dark] .colab-df-convert {\n",
              "      background-color: #3B4455;\n",
              "      fill: #D2E3FC;\n",
              "    }\n",
              "\n",
              "    [theme=dark] .colab-df-convert:hover {\n",
              "      background-color: #434B5C;\n",
              "      box-shadow: 0px 1px 3px 1px rgba(0, 0, 0, 0.15);\n",
              "      filter: drop-shadow(0px 1px 2px rgba(0, 0, 0, 0.3));\n",
              "      fill: #FFFFFF;\n",
              "    }\n",
              "  </style>\n",
              "\n",
              "      <script>\n",
              "        const buttonEl =\n",
              "          document.querySelector('#df-869609f6-3249-4a10-add7-81a55476ba83 button.colab-df-convert');\n",
              "        buttonEl.style.display =\n",
              "          google.colab.kernel.accessAllowed ? 'block' : 'none';\n",
              "\n",
              "        async function convertToInteractive(key) {\n",
              "          const element = document.querySelector('#df-869609f6-3249-4a10-add7-81a55476ba83');\n",
              "          const dataTable =\n",
              "            await google.colab.kernel.invokeFunction('convertToInteractive',\n",
              "                                                     [key], {});\n",
              "          if (!dataTable) return;\n",
              "\n",
              "          const docLinkHtml = 'Like what you see? Visit the ' +\n",
              "            '<a target=\"_blank\" href=https://colab.research.google.com/notebooks/data_table.ipynb>data table notebook</a>'\n",
              "            + ' to learn more about interactive tables.';\n",
              "          element.innerHTML = '';\n",
              "          dataTable['output_type'] = 'display_data';\n",
              "          await google.colab.output.renderOutput(dataTable, element);\n",
              "          const docLink = document.createElement('div');\n",
              "          docLink.innerHTML = docLinkHtml;\n",
              "          element.appendChild(docLink);\n",
              "        }\n",
              "      </script>\n",
              "    </div>\n",
              "  </div>\n",
              "  "
            ],
            "text/plain": [
              "         loss       mae       mse   val_loss   val_mae    val_mse  epoch\n",
              "995  2.856566  1.093202  2.856566   9.993576  2.456419   9.993576    995\n",
              "996  2.554715  0.986078  2.554715  10.466216  2.517433  10.466216    996\n",
              "997  2.749185  1.070588  2.749185   9.717805  2.444398   9.717805    997\n",
              "998  2.580392  1.016968  2.580392  10.328191  2.489399  10.328191    998\n",
              "999  2.541680  1.039585  2.541680   9.925570  2.455456   9.925570    999"
            ]
          },
          "metadata": {},
          "execution_count": 50
        }
      ]
    },
    {
      "cell_type": "code",
      "source": [
        "import matplotlib.pyplot as plt\n",
        "\n",
        "def plot_history(history):\n",
        "  hist = pd.DataFrame(history.history)\n",
        "  hist['epoch'] = history.epoch\n",
        "\n",
        "  plt.figure(figsize=(8,12))\n",
        "\n",
        "  plt.subplot(2,1,1)\n",
        "  plt.xlabel('Epoch')\n",
        "  plt.ylabel('Mean Abs Error [MPG]')\n",
        "  plt.plot(hist['epoch'], hist['mae'],\n",
        "           label='Train Error')\n",
        "  plt.plot(hist['epoch'], hist['val_mae'],\n",
        "           label = 'Val Error')\n",
        "  plt.ylim([0,5])\n",
        "  plt.legend()\n",
        "\n",
        "  plt.subplot(2,1,2)\n",
        "  plt.xlabel('Epoch')\n",
        "  plt.ylabel('Mean Square Error [$MPG^2$]')\n",
        "  plt.plot(hist['epoch'], hist['mse'],\n",
        "           label='Train Error')\n",
        "  plt.plot(hist['epoch'], hist['val_mse'],\n",
        "           label = 'Val Error')\n",
        "  plt.ylim([0,20])\n",
        "  plt.legend()\n",
        "  plt.show()\n",
        "\n",
        "plot_history(history)"
      ],
      "metadata": {
        "colab": {
          "base_uri": "https://localhost:8080/",
          "height": 718
        },
        "id": "g0o-O6U1a_Yk",
        "outputId": "562b2c1b-3f2a-4897-ab35-7db04efe1fb4"
      },
      "execution_count": null,
      "outputs": [
        {
          "output_type": "display_data",
          "data": {
            "image/png": "[encoded data removed]",
            "text/plain": [
              "<Figure size 576x864 with 2 Axes>"
            ]
          },
          "metadata": {
            "needs_background": "light"
          }
        }
      ]
    },
    {
      "cell_type": "markdown",
      "source": [
        "이 그래프를 보면 수 백번 에포크를 진행한 이후에는 모델이 거의 향상되지 않는 것 같습니다. model.fit 메서드를 수정하여 검증 점수가 향상되지 않으면 자동으로 훈련을 멈추도록 만들어 보죠. 에포크마다 훈련 상태를 점검하기 위해 EarlyStopping 콜백(callback)을 사용하겠습니다. 지정된 에포크 횟수 동안 성능 향상이 없으면 자동으로 훈련이 멈춥니다."
      ],
      "metadata": {
        "id": "Cpq_ro_IbJzl"
      }
    },
    {
      "cell_type": "code",
      "source": [
        "model = build_model()\n",
        "\n",
        "# patience 매개변수는 성능 향상을 체크할 에포크 횟수입니다\n",
        "early_stop = keras.callbacks.EarlyStopping(monitor='val_loss', patience=10)\n",
        "# patience는 기준되는 값이 연속으로 몇 번 이상 향상되지 않을 때 종료시킬 것인지를 뜻함.\n",
        "\n",
        "history = model.fit(normed_train_data, train_labels, epochs=EPOCHS,\n",
        "                    validation_split = 0.2, verbose=0, callbacks=[early_stop, PrintDot()])\n",
        "\n",
        "plot_history(history)"
      ],
      "metadata": {
        "colab": {
          "base_uri": "https://localhost:8080/",
          "height": 770
        },
        "id": "if07oF37bFd8",
        "outputId": "9cb4019f-f49e-442e-ff80-845efef302eb"
      },
      "execution_count": null,
      "outputs": [
        {
          "output_type": "stream",
          "name": "stdout",
          "text": [
            "\n",
            "....................................................................................................\n",
            ".................."
          ]
        },
        {
          "output_type": "display_data",
          "data": {
            "image/png": "[encoded data removed]",
            "text/plain": [
              "<Figure size 576x864 with 2 Axes>"
            ]
          },
          "metadata": {
            "needs_background": "light"
          }
        }
      ]
    },
    {
      "cell_type": "code",
      "source": [
        "loss, mae, mse = model.evaluate(normed_test_data, test_labels, verbose=2)\n",
        "\n",
        "print(\"테스트 세트의 평균 절대 오차: {:5.2f} MPG\".format(mae))"
      ],
      "metadata": {
        "colab": {
          "base_uri": "https://localhost:8080/"
        },
        "id": "G0FAekkTbT3j",
        "outputId": "27f7c07c-5212-4c96-f530-6fd2971196c2"
      },
      "execution_count": null,
      "outputs": [
        {
          "output_type": "stream",
          "name": "stdout",
          "text": [
            "3/3 - 0s - loss: 5.3486 - mae: 1.7162 - mse: 5.3486 - 33ms/epoch - 11ms/step\n",
            "테스트 세트의 평균 절대 오차:  1.72 MPG\n"
          ]
        }
      ]
    },
    {
      "cell_type": "code",
      "source": [
        "# 예측\n",
        "test_predictions = model.predict(normed_test_data).flatten()\n",
        "\n",
        "plt.scatter(test_labels, test_predictions)\n",
        "plt.xlabel('True Values [MPG]')\n",
        "plt.ylabel('Predictions [MPG]')\n",
        "plt.axis('equal')\n",
        "plt.axis('square')\n",
        "plt.xlim([0,plt.xlim()[1]])\n",
        "plt.ylim([0,plt.ylim()[1]])\n",
        "_ = plt.plot([-100, 100], [-100, 100])"
      ],
      "metadata": {
        "colab": {
          "base_uri": "https://localhost:8080/",
          "height": 279
        },
        "id": "HE4Zd8L7bUML",
        "outputId": "da3b6cb4-92e4-4472-f3f0-7eb73c7f0664"
      },
      "execution_count": null,
      "outputs": [
        {
          "output_type": "display_data",
          "data": {
            "image/png": "[encoded data removed]",
            "text/plain": [
              "<Figure size 432x288 with 1 Axes>"
            ]
          },
          "metadata": {
            "needs_background": "light"
          }
        }
      ]
    },
    {
      "cell_type": "code",
      "source": [
        "# 오차 분포 파악\n",
        "error = test_predictions - test_labels\n",
        "plt.hist(error, bins = 25)\n",
        "plt.xlabel(\"Prediction Error [MPG]\")\n",
        "_ = plt.ylabel(\"Count\")"
      ],
      "metadata": {
        "colab": {
          "base_uri": "https://localhost:8080/",
          "height": 279
        },
        "id": "eeUJfbuwbWrD",
        "outputId": "85d3a168-d96a-477c-9b25-d17a011107db"
      },
      "execution_count": null,
      "outputs": [
        {
          "output_type": "display_data",
          "data": {
            "image/png": "[encoded data removed]",
            "text/plain": [
              "<Figure size 432x288 with 1 Axes>"
            ]
          },
          "metadata": {
            "needs_background": "light"
          }
        }
      ]
    },
    {
      "cell_type": "markdown",
      "source": [
        "### 실습 03) <a href=https://www.tensorflow.org/tutorials/keras/keras_tuner>하이퍼파라미터 튜닝하기</a>\n",
        "\n",
        "(링크 참조하면 자세한 설명이 있음)"
      ],
      "metadata": {
        "id": "06d722CZi68A"
      }
    },
    {
      "cell_type": "code",
      "source": [
        "import tensorflow as tf\n",
        "from tensorflow import keras\n",
        "\n",
        "import IPython"
      ],
      "metadata": {
        "id": "LKCKCSb9bY3h"
      },
      "execution_count": null,
      "outputs": []
    },
    {
      "cell_type": "code",
      "source": [
        "# keras tuner 설치\n",
        "!pip install -q -U keras-tuner\n",
        "import kerastuner as kt"
      ],
      "metadata": {
        "colab": {
          "base_uri": "https://localhost:8080/"
        },
        "id": "p7P9az3ujGmB",
        "outputId": "1b0aa9a6-531c-4412-a466-3d6f289f8f04"
      },
      "execution_count": null,
      "outputs": [
        {
          "output_type": "stream",
          "name": "stdout",
          "text": [
            "\u001b[?25l\r\u001b[K     |███▍                            | 10 kB 19.6 MB/s eta 0:00:01\r\u001b[K     |██████▊                         | 20 kB 21.3 MB/s eta 0:00:01\r\u001b[K     |██████████                      | 30 kB 23.4 MB/s eta 0:00:01\r\u001b[K     |█████████████▍                  | 40 kB 16.8 MB/s eta 0:00:01\r\u001b[K     |████████████████▊               | 51 kB 13.0 MB/s eta 0:00:01\r\u001b[K     |████████████████████            | 61 kB 11.3 MB/s eta 0:00:01\r\u001b[K     |███████████████████████▍        | 71 kB 8.0 MB/s eta 0:00:01\r\u001b[K     |██████████████████████████▊     | 81 kB 8.7 MB/s eta 0:00:01\r\u001b[K     |██████████████████████████████  | 92 kB 8.9 MB/s eta 0:00:01\r\u001b[K     |████████████████████████████████| 98 kB 4.0 MB/s \n",
            "\u001b[?25h"
          ]
        },
        {
          "output_type": "stream",
          "name": "stderr",
          "text": [
            "/usr/local/lib/python3.7/dist-packages/ipykernel_launcher.py:3: DeprecationWarning: `import kerastuner` is deprecated, please use `import keras_tuner`.\n",
            "  This is separate from the ipykernel package so we can avoid doing imports until\n"
          ]
        }
      ]
    },
    {
      "cell_type": "code",
      "source": [
        "#  Keras Tuner를 사용하여 Fashion MNIST 데이터세트에서 의류 이미지를 분류하는 머신러닝 모델에 가장 적합한 하이퍼파라미터를 찾습니다.\n",
        "(img_train, label_train), (img_test, label_test) = keras.datasets.fashion_mnist.load_data()"
      ],
      "metadata": {
        "colab": {
          "base_uri": "https://localhost:8080/"
        },
        "id": "a1jfYoN7jJ9f",
        "outputId": "a7c681d9-cca0-484f-ca29-2f33fce77539"
      },
      "execution_count": null,
      "outputs": [
        {
          "output_type": "stream",
          "name": "stdout",
          "text": [
            "Downloading data from https://storage.googleapis.com/tensorflow/tf-keras-datasets/train-labels-idx1-ubyte.gz\n",
            "32768/29515 [=================================] - 0s 0us/step\n",
            "40960/29515 [=========================================] - 0s 0us/step\n",
            "Downloading data from https://storage.googleapis.com/tensorflow/tf-keras-datasets/train-images-idx3-ubyte.gz\n",
            "26427392/26421880 [==============================] - 0s 0us/step\n",
            "26435584/26421880 [==============================] - 0s 0us/step\n",
            "Downloading data from https://storage.googleapis.com/tensorflow/tf-keras-datasets/t10k-labels-idx1-ubyte.gz\n",
            "16384/5148 [===============================================================================================] - 0s 0us/step\n",
            "Downloading data from https://storage.googleapis.com/tensorflow/tf-keras-datasets/t10k-images-idx3-ubyte.gz\n",
            "4423680/4422102 [==============================] - 0s 0us/step\n",
            "4431872/4422102 [==============================] - 0s 0us/step\n"
          ]
        }
      ]
    },
    {
      "cell_type": "code",
      "source": [
        "# Normalize pixel values between 0 and 1\n",
        "img_train = img_train.astype('float32') / 255.0\n",
        "img_test = img_test.astype('float32') / 255.0"
      ],
      "metadata": {
        "id": "9dBp2BYvjQyV"
      },
      "execution_count": null,
      "outputs": []
    },
    {
      "cell_type": "code",
      "source": [
        "# 모델 정의\n",
        "def model_builder(hp):\n",
        "  model = keras.Sequential()\n",
        "  model.add(keras.layers.Flatten(input_shape=(28, 28)))\n",
        "\n",
        "  # Tune the number of units in the first Dense layer\n",
        "  # Choose an optimal value between 32-512\n",
        "  hp_units = hp.Int('units', min_value = 32, max_value = 512, step = 32)\n",
        "  model.add(keras.layers.Dense(units = hp_units, activation = 'relu'))\n",
        "  model.add(keras.layers.Dense(10))\n",
        "\n",
        "  # Tune the learning rate for the optimizer \n",
        "  # Choose an optimal value from 0.01, 0.001, or 0.0001\n",
        "  hp_learning_rate = hp.Choice('learning_rate', values = [1e-2, 1e-3, 1e-4]) \n",
        "\n",
        "  model.compile(optimizer = keras.optimizers.Adam(learning_rate = hp_learning_rate),\n",
        "                loss = keras.losses.SparseCategoricalCrossentropy(from_logits = True), \n",
        "                metrics = ['accuracy'])\n",
        "\n",
        "  return model"
      ],
      "metadata": {
        "id": "NwTRgyoJjSLm"
      },
      "execution_count": null,
      "outputs": []
    },
    {
      "cell_type": "markdown",
      "source": [
        "튜너를 인스턴스화하여 하이퍼튜닝을 수행합니다. Keras Tuner에는 RandomSearch, Hyperband, BayesianOptimization 및 Sklearn의 네 가지 튜너가 있습니다. 이 튜토리얼에서는 Hyperband 튜너를 사용합니다.\n",
        "\n"
      ],
      "metadata": {
        "id": "7qCj9NcxjaNy"
      }
    },
    {
      "cell_type": "code",
      "source": [
        "tuner = kt.Hyperband(model_builder,\n",
        "                     objective = 'val_accuracy', \n",
        "                     max_epochs = 4,\n",
        "                     factor = 3,\n",
        "                     directory = 'my_dir',\n",
        "                     project_name = 'intro_to_kt')"
      ],
      "metadata": {
        "id": "qTUXRxMGjUPT"
      },
      "execution_count": null,
      "outputs": []
    },
    {
      "cell_type": "code",
      "source": [
        "# 하이퍼파라미터 검색을 실행하기 전에 훈련 단계가 끝날 때마다 훈련 결과를 지우도록 콜백을 정의합니다.\n",
        "class ClearTrainingOutput(tf.keras.callbacks.Callback):\n",
        "  def on_train_end(*args, **kwargs):\n",
        "    IPython.display.clear_output(wait = True)"
      ],
      "metadata": {
        "id": "lESMgeq7jdVe"
      },
      "execution_count": null,
      "outputs": []
    },
    {
      "cell_type": "code",
      "source": [
        "# 하이퍼파라미터 검색 실행\n",
        "\n",
        "# search는 어느정도 최적의 하이퍼파라미터가 탐색되면 중단하고 best_hps에 최적의 파라미터값을 전달해주고 재훈련하면 된다.\n",
        "# 체크포인트로 계속해서 하이퍼파라미터가 저장되고 있기 때문에 실행하다 중단해도 됨.\n",
        "tuner.search(img_train, label_train, epochs = 10, validation_data = (img_test, label_test), callbacks = [ClearTrainingOutput()])"
      ],
      "metadata": {
        "id": "1dqG_1whUtyd"
      },
      "execution_count": null,
      "outputs": []
    },
    {
      "cell_type": "code",
      "source": [
        "# Get the optimal hyperparameters\n",
        "best_hps = tuner.get_best_hyperparameters(num_trials = 1)[0]\n",
        "\n",
        "print(f\"\"\"\n",
        "The hyperparameter search is complete. The optimal number of units in the first densely-connected\n",
        "layer is {best_hps.get('units')} and the optimal learning rate for the optimizer\n",
        "is {best_hps.get('learning_rate')}.\n",
        "\"\"\")"
      ],
      "metadata": {
        "colab": {
          "base_uri": "https://localhost:8080/"
        },
        "id": "graB28dDjdqc",
        "outputId": "013a1ddf-9395-4f91-8f60-ede380ef2aa5"
      },
      "execution_count": null,
      "outputs": [
        {
          "output_type": "stream",
          "name": "stdout",
          "text": [
            "\n",
            "The hyperparameter search is complete. The optimal number of units in the first densely-connected\n",
            "layer is 416 and the optimal learning rate for the optimizer\n",
            "is 0.001.\n",
            "\n"
          ]
        }
      ]
    },
    {
      "cell_type": "code",
      "source": [
        "# 검색에서 최적의 하이퍼파라미터로 모델을 재훈련합니다.\n",
        "# Build the model with the optimal hyperparameters and train it on the data\n",
        "model = tuner.hypermodel.build(best_hps)\n",
        "model.fit(img_train, label_train, epochs = 10, validation_data = (img_test, label_test))"
      ],
      "metadata": {
        "colab": {
          "base_uri": "https://localhost:8080/"
        },
        "id": "fZBleG6TjjNX",
        "outputId": "b92c7d5c-ad23-4415-a59d-714e378928f9"
      },
      "execution_count": null,
      "outputs": [
        {
          "output_type": "stream",
          "name": "stdout",
          "text": [
            "Epoch 1/10\n",
            "1875/1875 [==============================] - 9s 4ms/step - loss: 0.4750 - accuracy: 0.8311 - val_loss: 0.4314 - val_accuracy: 0.8414\n",
            "Epoch 2/10\n",
            "1875/1875 [==============================] - 9s 5ms/step - loss: 0.3584 - accuracy: 0.8687 - val_loss: 0.3686 - val_accuracy: 0.8650\n",
            "Epoch 3/10\n",
            "1875/1875 [==============================] - 9s 5ms/step - loss: 0.3210 - accuracy: 0.8814 - val_loss: 0.3764 - val_accuracy: 0.8705\n",
            "Epoch 4/10\n",
            "1875/1875 [==============================] - 9s 5ms/step - loss: 0.3015 - accuracy: 0.8889 - val_loss: 0.3625 - val_accuracy: 0.8739\n",
            "Epoch 5/10\n",
            "1875/1875 [==============================] - 11s 6ms/step - loss: 0.2807 - accuracy: 0.8948 - val_loss: 0.3374 - val_accuracy: 0.8806\n",
            "Epoch 6/10\n",
            "1875/1875 [==============================] - 14s 8ms/step - loss: 0.2682 - accuracy: 0.8990 - val_loss: 0.3299 - val_accuracy: 0.8804\n",
            "Epoch 7/10\n",
            "1875/1875 [==============================] - 17s 9ms/step - loss: 0.2538 - accuracy: 0.9053 - val_loss: 0.3475 - val_accuracy: 0.8773\n",
            "Epoch 8/10\n",
            "1875/1875 [==============================] - 17s 9ms/step - loss: 0.2420 - accuracy: 0.9087 - val_loss: 0.3453 - val_accuracy: 0.8768\n",
            "Epoch 9/10\n",
            "1875/1875 [==============================] - 11s 6ms/step - loss: 0.2339 - accuracy: 0.9133 - val_loss: 0.3283 - val_accuracy: 0.8882\n",
            "Epoch 10/10\n",
            "1875/1875 [==============================] - 13s 7ms/step - loss: 0.2233 - accuracy: 0.9158 - val_loss: 0.3484 - val_accuracy: 0.8820\n"
          ]
        },
        {
          "output_type": "execute_result",
          "data": {
            "text/plain": [
              "<keras.callbacks.History at 0x7fad825ac910>"
            ]
          },
          "metadata": {},
          "execution_count": 12
        }
      ]
    },
    {
      "cell_type": "markdown",
      "source": [
        "# Reference\n",
        "\n",
        "1. Do it! 딥러닝 교과서\n",
        "2. 케라스 창시자에게 배우는 딥러닝\n",
        "3. https://www.tensorflow.org/tutorials/keras"
      ],
      "metadata": {
        "id": "IZCwk6wCVLkO"
      }
    },
    {
      "cell_type": "markdown",
      "source": [
        "---\n",
        "\n",
        "*made by* <font color='6699ff'>Kim Geon</font>(DCU, major.AI·BD)\n",
        "\n",
        "---"
      ],
      "metadata": {
        "id": "4tAIFFOJVW6i"
      }
    }
  ]
}